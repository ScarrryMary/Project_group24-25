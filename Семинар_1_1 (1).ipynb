{
  "nbformat": 4,
  "nbformat_minor": 0,
  "metadata": {
    "colab": {
      "provenance": []
    },
    "kernelspec": {
      "name": "python3",
      "display_name": "Python 3"
    },
    "language_info": {
      "name": "python"
    }
  },
  "cells": [
    {
      "cell_type": "markdown",
      "source": [
        "## **Работа с git & jupiter notebook**   \n",
        "### Google Colaboratory - https://colab.google/   \n",
        "### Kaggle: https://www.kaggle.com/  \n",
        "### Anaconda: https://www.anaconda.com/download  \n",
        "![](https://digitalvarys.com/wp-content/uploads/2019/06/GIT-Branchand-its-Operations.png)\n",
        "![](https://i.pinimg.com/736x/7f/6c/50/7f6c5074b2b1f8242f3e0c1f1c8e6e4a.jpg)\n",
        "### Learn git: https://learngitbranching.js.org/"
      ],
      "metadata": {
        "id": "Jhb9xmptJFlL"
      }
    },
    {
      "cell_type": "markdown",
      "source": [
        "### Каскадные условные инструкции"
      ],
      "metadata": {
        "id": "_alL4mMn5EEh"
      }
    },
    {
      "cell_type": "code",
      "execution_count": null,
      "metadata": {
        "id": "LVVz3eeE1PXk"
      },
      "outputs": [],
      "source": [
        "x = int(input())\n",
        "y = int(input())\n",
        "if x > 0 and y > 0:\n",
        "    print(\"Первая четверть\")\n",
        "elif x > 0 and y < 0:\n",
        "    print(\"Четвертая четверть\")\n",
        "elif y > 0:\n",
        "    print(\"Вторая четверть\")\n",
        "else:\n",
        "    print(\"Третья четверть\")"
      ]
    },
    {
      "cell_type": "markdown",
      "source": [
        "В такой конструкции условия if, ..., elif проверяются по очереди, выполняется блок, соответствующий первому из истинных условий. Если все проверяемые условия ложны, то выполняется блок else, если он присутствует."
      ],
      "metadata": {
        "id": "yGsq2LyU5C-Y"
      }
    },
    {
      "cell_type": "markdown",
      "source": [
        "## **Библиотека math**\n"
      ],
      "metadata": {
        "id": "3l_4jw5ig2Ul"
      }
    },
    {
      "cell_type": "markdown",
      "source": [
        "Есть операция целочисленного деления, выполняющегося с отбрасыванием дробной части, которая обозначается // (она соответствует операции div в Паскале). Она возвращает целое число: целую часть частного. Другая близкая ей операция − это операция взятия остатка от деления, обозначаемая % (она соответствует операции mod в Паскале). Например:"
      ],
      "metadata": {
        "id": "beXIrL_ZuNq9"
      }
    },
    {
      "cell_type": "code",
      "source": [
        "print(17 / 3)\n",
        "print(17 // 3)\n",
        "print(17 % 3)"
      ],
      "metadata": {
        "id": "70zxHDUQuCHm"
      },
      "execution_count": null,
      "outputs": []
    },
    {
      "cell_type": "markdown",
      "source": [
        "Например, пусть мы хотим округлять вещественные числа до ближайшего целого числа вверх. Соответствующая функция ceil от одного аргумента вызывается, например, так: math.ceil(x)"
      ],
      "metadata": {
        "id": "4fUaEgqbrAS2"
      }
    },
    {
      "cell_type": "code",
      "source": [
        "import math\n",
        "\n",
        "from math import ceil\n",
        "\n",
        "from math import *"
      ],
      "metadata": {
        "id": "mB7Vai7DrJsl"
      },
      "execution_count": null,
      "outputs": []
    },
    {
      "cell_type": "code",
      "source": [
        "import math\n",
        "\n",
        "x = math.ceil(4.2)\n",
        "y = math.ceil(4.8)\n",
        "print(x)\n",
        "print(y)"
      ],
      "metadata": {
        "id": "pJ5REii_g33H"
      },
      "execution_count": null,
      "outputs": []
    },
    {
      "cell_type": "markdown",
      "source": [
        "|        Функция       |                                                           Описание                                                          |\n",
        "|:--------------------:|:---------------------------------------------------------------------------------------------------------------------------:|\n",
        "| **Округление**       |                                                                                                                             |\n",
        "| int(x)               | Округляет число в сторону нуля. Это стандартная функция, для ее использования не нужно подключать модуль math.              |\n",
        "| round(x)             | Округляет число до ближайшего целого. Если дробная часть числа равна 0.5, то число округляется до ближайшего четного числа. |\n",
        "| round(x, n)          | Округляет число x до n знаков после точки. Это стандартная функция, для ее использования не нужно подключать модуль math.   |\n",
        "| floor(x)             | Округляет число вниз («пол»), при этом floor(1.5) == 1, floor(-1.5) == -2                                                   |\n",
        "| ceil(x)              | Округляет число вверх («потолок»), при этом ceil(1.5) == 2, ceil(-1.5) == -1                                                |\n",
        "| abs(x)               | Модуль (абсолютная величина). Это — стандартная функция.                                                                    |\n",
        "| **Корни, логарифмы** |                                                                                                                             |\n",
        "| sqrt(x)              | Квадратный корень. Использование: sqrt(x)                                                                                   |\n",
        "| log(x)               | Натуральный логарифм. При вызове в виде log(x, b) возвращает логарифм по основанию b.                                       |\n",
        "| e                    | Основание натуральных логарифмов e = 2,71828...                                                                             |\n",
        "| **Тригонометрия**    |                                                                                                                             |\n",
        "| sin(x)               | Синус угла, задаваемого в радианах                                                                                          |\n",
        "| cos(x)               | Косинус угла, задаваемого в радианах                                                                                        |\n",
        "| tan(x)               | Тангенс угла, задаваемого в радианах                                                                                        |\n",
        "| asin(x)              | Арксинус, возвращает значение в радианах                                                                                    |\n",
        "| acos(x)              | Арккосинус, возвращает значение в радианах                                                                                  |\n",
        "| atan(x)              | Арктангенс, возвращает значение в радианах                                                                                  |\n",
        "| atan2(y, x)          | Полярный угол (в радианах) точки с координатами (x, y).                                                                     |\n",
        "| degrees(x)           | Преобразует угол, заданный в радианах, в градусы.                                                                           |\n",
        "| radians(x)           | Преобразует угол, заданный в градусах, в радианы.                                                                           |\n",
        "| pi                   | Константа π = 3.1415...                                                                                                     |"
      ],
      "metadata": {
        "id": "6YIAtM2otq4S"
      }
    },
    {
      "cell_type": "markdown",
      "source": [
        "## **Цикл for и его возможные плюшки**\n",
        "В цикле for указывается переменная и множество значений, по которому будет пробегать переменная. Множество значений может быть задано списком, кортежем, строкой или диапазоном."
      ],
      "metadata": {
        "id": "eDgIDRDprD-x"
      }
    },
    {
      "cell_type": "code",
      "source": [
        "myTuple = 1, 2, 3, 4 #tuple == кортеж\n",
        "myList = [1, 2, 3, 4] #list == список\n",
        "myString = '1234' #str == строка"
      ],
      "metadata": {
        "id": "XdjGk6YSvgiY"
      },
      "execution_count": null,
      "outputs": []
    },
    {
      "cell_type": "code",
      "source": [
        "for i in 1, 2, 3, 'one', 'two', 'three':\n",
        "    print(i)"
      ],
      "metadata": {
        "id": "1voCOgalx4Es"
      },
      "execution_count": null,
      "outputs": []
    },
    {
      "cell_type": "code",
      "source": [
        "# дано: s = 'ab12c59p7dq'\n",
        "# надо: извлечь цифры в список digits,\n",
        "# чтобы стало так:\n",
        "# digits == [1, 2, 5, 9, 7]\n",
        "\n",
        "s = 'ab12c59p7dq'\n",
        "digits = []\n",
        "for symbol in s:\n",
        "    ..."
      ],
      "metadata": {
        "id": "39CVwpP3vVDV"
      },
      "execution_count": null,
      "outputs": []
    },
    {
      "cell_type": "markdown",
      "source": [
        "## **Цикл while и инструкции управления циклом - break & continue**"
      ],
      "metadata": {
        "id": "dsNw9x7kd4qG"
      }
    },
    {
      "cell_type": "markdown",
      "source": [
        "Питон встречает инструкцию break внутри цикла, то он сразу же прекращает выполнение этого цикла и выходит из него. При этом ветка else исполняться не будет."
      ],
      "metadata": {
        "id": "91iNWL1Xe2C8"
      }
    },
    {
      "cell_type": "code",
      "source": [
        "a = int(input())\n",
        "while a != 0:\n",
        "    if a < 0:\n",
        "        print('Встретилось отрицательное число', a)\n",
        "        break\n",
        "    a = int(input())\n",
        "else:\n",
        "    print('Ни одного отрицательного числа не встретилось')"
      ],
      "metadata": {
        "id": "uduYFPFdeH2H"
      },
      "execution_count": null,
      "outputs": []
    },
    {
      "cell_type": "markdown",
      "source": [
        "Пример **плохого** использования break"
      ],
      "metadata": {
        "id": "SX1TNmmWe7t7"
      }
    },
    {
      "cell_type": "code",
      "source": [
        "n = int(input())\n",
        "length = 0\n",
        "while True:\n",
        "    length += 1\n",
        "    n //= 10\n",
        "    if n == 0:\n",
        "        break\n",
        "print('Длина числа равна', length)"
      ],
      "metadata": {
        "id": "C11YahBefBP1",
        "colab": {
          "base_uri": "https://localhost:8080/"
        },
        "outputId": "bcd8fdd9-8bff-4591-bc1a-be732f4a42ea"
      },
      "execution_count": 2,
      "outputs": [
        {
          "output_type": "stream",
          "name": "stdout",
          "text": [
            "6\n",
            "Длина числа равна 1\n"
          ]
        }
      ]
    },
    {
      "cell_type": "markdown",
      "source": [
        "Как исправить?"
      ],
      "metadata": {
        "id": "pWFKqxVTfElo"
      }
    },
    {
      "cell_type": "code",
      "source": [
        "n = int(input())\n",
        "length = 0\n",
        "while n != 0:\n",
        "    length += 1\n",
        "    n //= 10\n",
        "print('Длина числа равна', length)"
      ],
      "metadata": {
        "id": "CnQTMQkvfIN3"
      },
      "execution_count": null,
      "outputs": []
    },
    {
      "cell_type": "code",
      "source": [
        "n = int(input())\n",
        "print('Длина числа равна', len(str(n)))"
      ],
      "metadata": {
        "id": "BzAzGI9RskPp"
      },
      "execution_count": null,
      "outputs": []
    },
    {
      "cell_type": "markdown",
      "source": [
        "### **Типы данных**  \n",
        "### Списки"
      ],
      "metadata": {
        "id": "YVgsppD4tWjO"
      }
    },
    {
      "cell_type": "code",
      "source": [
        "a = []\n",
        "for i in range(int(input())):\n",
        "    a.append(int(input()))\n",
        "print(a)"
      ],
      "metadata": {
        "id": "nec-6ihYtWKO"
      },
      "execution_count": null,
      "outputs": []
    },
    {
      "cell_type": "code",
      "source": [
        "a = [1, 2, 3]\n",
        "b = [4, 5]\n",
        "c = a + b\n",
        "d = b * 3\n",
        "print([7, 8] + [9])\n",
        "print([0, 1] * 3)"
      ],
      "metadata": {
        "id": "FlqqY3_RuJFq"
      },
      "execution_count": null,
      "outputs": []
    },
    {
      "cell_type": "code",
      "source": [
        "a = [0] * int(input())\n",
        "for i in range(len(a)):\n",
        "    a[i] = int(input())"
      ],
      "metadata": {
        "id": "qP_evHIAuT_Q"
      },
      "execution_count": null,
      "outputs": []
    },
    {
      "cell_type": "markdown",
      "source": [
        "У метода split() есть необязательный параметр, который определяет, какая строка будет использоваться в качестве разделителя между элементами списка. Например, вызов метода split('.') вернет список, полученный разрезанием исходной строки по символам '.'"
      ],
      "metadata": {
        "id": "UaD6VzQGwWnT"
      }
    },
    {
      "cell_type": "code",
      "source": [
        "a = '192.168.0.1'.split('.')"
      ],
      "metadata": {
        "id": "0mlxiufMvc0o"
      },
      "execution_count": null,
      "outputs": []
    },
    {
      "cell_type": "markdown",
      "source": [
        "В Питоне можно вывести список строк при помощи однострочной команды. Для этого используется метод строки join. У этого метода один параметр: список строк. В результате возвращается строка, полученная соединением элементов переданного списка в одну строку, при этом между элементами списка вставляется разделитель, равный той строке, к которой применяется метод:"
      ],
      "metadata": {
        "id": "YlHoYehqwau_"
      }
    },
    {
      "cell_type": "code",
      "source": [
        "a = ['red', 'green', 'blue']\n",
        "print(' '.join(a))\n",
        "\n",
        "print(''.join(a))\n",
        "\n",
        "print('***'.join(a))"
      ],
      "metadata": {
        "id": "KI8hnGJhwuZ4"
      },
      "execution_count": null,
      "outputs": []
    },
    {
      "cell_type": "code",
      "source": [
        "a = [1, 2, 3]\n",
        "print(' '.join([str(i) for i in a]))\n",
        "\n",
        "#print(' '.join(a))"
      ],
      "metadata": {
        "id": "8YIgzyRhw6uN"
      },
      "execution_count": null,
      "outputs": []
    },
    {
      "cell_type": "markdown",
      "source": [
        "| x in A     | Проверить, содержится ли элемент в списке. Возвращает True или False                              |\n",
        "|------------|---------------------------------------------------------------------------------------------------|\n",
        "| x not in A | То же самое, что not(x in A)                                                                      |\n",
        "| min(A)     | Наименьший элемент списка                                                                         |\n",
        "| max(A)     | Наибольший элемент списка                                                                         |\n",
        "| A.index(x) | Индекс первого вхождения элемента x в список, при его отсутствии генерирует исключение ValueError |\n",
        "| A.count(x) | Количество вхождений элемента x в список                                                          |"
      ],
      "metadata": {
        "id": "avCgmaRExi1b"
      }
    },
    {
      "cell_type": "markdown",
      "source": [
        "### **List comprehension**\n",
        "1) **Простота**. List comprehension позволяют избавиться от циклов for, а также делают код более понятным. В JavaScript, например, есть нечто похожее в виде map() и filter(), но новичками они воспринимаются сложнее.  \n",
        "2) **Скорость**. List comprehension быстрее for-циклов, которые он и заменяет. Это один из первых пунктов при рефакторинге Python-кода.  \n",
        "3) **Принципы функционального программирования**. Это не так важно для начинающих, но функциональное программирование — это подход, при котором изменяемые данные не меняются. Поскольку list comprehensions создают новый список, не меняя существующий, их можно отнести к функциональному программированию.  \n",
        "  \n",
        "List comprehension записывается в квадратных скобках и задействует цикл for. В процессе создается новый список, куда добавляются все элементы оригинального. По мере добавления элементов их можно изменять."
      ],
      "metadata": {
        "id": "F7MijDivxu_0"
      }
    },
    {
      "cell_type": "code",
      "source": [
        "nums = [n for n in range(1,6)]\n",
        "print(nums)"
      ],
      "metadata": {
        "id": "_ia-B8fuxs15"
      },
      "execution_count": null,
      "outputs": []
    },
    {
      "cell_type": "code",
      "source": [
        "nums = [1, 2, 3, 4, 5]\n",
        "squares = [n*n for n in nums]\n",
        "print(squares)"
      ],
      "metadata": {
        "id": "epMD5uBOykOq"
      },
      "execution_count": null,
      "outputs": []
    },
    {
      "cell_type": "code",
      "source": [
        "nums = [1, 2, 3, 4, 5]\n",
        "odd_squares = [n*n for n in nums if n%2 == 1]\n",
        "print(odd_squares)"
      ],
      "metadata": {
        "id": "krO8VC9VyxJB"
      },
      "execution_count": null,
      "outputs": []
    },
    {
      "cell_type": "code",
      "source": [
        "m = int(input())\n",
        "n = int(input())\n",
        "[[0] * m for i in range(n)]"
      ],
      "metadata": {
        "id": "N0hmTKUWZw6s"
      },
      "execution_count": null,
      "outputs": []
    },
    {
      "cell_type": "code",
      "source": [
        "matrix = [[x for x in range(1, 4)] for y in range(1, 4)]\n",
        "print(matrix)"
      ],
      "metadata": {
        "id": "Fc47R1auy-3G"
      },
      "execution_count": null,
      "outputs": []
    },
    {
      "cell_type": "markdown",
      "source": [
        "Пусть нужно задать следующий массив:   \n",
        "0  0  0  0  0  0  \n",
        "0  1  2  3  4  5  \n",
        "0  2  4  6  8 10  \n",
        "0  3  6  9 12 15  \n",
        "0  4  8 12 16 20  "
      ],
      "metadata": {
        "id": "XZVshekkamxZ"
      }
    },
    {
      "cell_type": "code",
      "source": [
        "..."
      ],
      "metadata": {
        "id": "gV27wGhAax0-"
      },
      "execution_count": null,
      "outputs": []
    },
    {
      "cell_type": "code",
      "source": [
        "people = [{\n",
        "  \"first_name\": \"Василий\",\n",
        "  \"last_name\": \"Марков\",\n",
        "  \"birthday\": \"9/25/1984\"\n",
        "}, {\n",
        "  \"first_name\": \"Регина\",\n",
        "  \"last_name\": \"Павленко\",\n",
        "  \"birthday\": \"8/21/1995\"\n",
        "}]\n",
        "\n",
        "birthdays = [\n",
        "  person[term]\n",
        "  for person in people\n",
        "  for term in person\n",
        "  if term == \"birthday\"\n",
        "]\n",
        "\n",
        "print(birthdays)"
      ],
      "metadata": {
        "id": "CUPk9oqwGDcZ"
      },
      "execution_count": null,
      "outputs": []
    },
    {
      "cell_type": "markdown",
      "source": [
        "**Настройка функции print()**  \n",
        "По умолчанию функция print() принимает несколько аргументов, выводит их через пробел, после чего ставит перевод строки. Это поведение можно изменить, используя именованные параметры sep (разделитель) и end (окончание)."
      ],
      "metadata": {
        "id": "AaXyCrS-I2BH"
      }
    },
    {
      "cell_type": "code",
      "source": [
        "print(1, 2, 3)\n",
        "print(4, 5, 6)\n",
        "print(1, 2, 3, sep=', ', end='. ' + '\\n')\n",
        "print(4, 5, 6, sep=', ', end='. '  + '\\n')\n",
        "print(1, 2, 3, sep='', end=' -- ' + '\\n')\n",
        "print(4, 5, 6, sep=' * ', end='.')\n"
      ],
      "metadata": {
        "colab": {
          "base_uri": "https://localhost:8080/"
        },
        "id": "nCqxG7WhGL8u",
        "outputId": "1c05d900-8475-458b-bd7a-18f298e1da0e"
      },
      "execution_count": null,
      "outputs": [
        {
          "output_type": "stream",
          "name": "stdout",
          "text": [
            "1 2 3\n",
            "4 5 6\n",
            "1, 2, 3. \n",
            "4, 5, 6. \n",
            "123 -- \n",
            "4 * 5 * 6."
          ]
        }
      ]
    },
    {
      "cell_type": "markdown",
      "source": [
        "### Множества    \n",
        "- В отличие от массивов, где элементы хранятся в виде последовательного списка, в множествах порядок хранения элементов неопределен. Это позволяет выполнять операции типа “проверить принадлежность элемента множеству” быстрее, чем просто перебирая все элементы множества.  \n",
        "- Элементами множества может быть любой неизменяемый тип данных: числа, строки, кортежи."
      ],
      "metadata": {
        "id": "tXvhygcacKhv"
      }
    },
    {
      "cell_type": "code",
      "source": [
        "A = {1, 2, 3}\n",
        "print(A)"
      ],
      "metadata": {
        "id": "U0xiJU_yI8V1"
      },
      "execution_count": null,
      "outputs": []
    },
    {
      "cell_type": "code",
      "source": [
        "A = set('qwerty')\n",
        "print(A)"
      ],
      "metadata": {
        "id": "TrMRG9QRd3gQ"
      },
      "execution_count": null,
      "outputs": []
    },
    {
      "cell_type": "code",
      "source": [
        "A = set('Hello')\n",
        "print(A)"
      ],
      "metadata": {
        "id": "x-GLhhIpeQCr"
      },
      "execution_count": null,
      "outputs": []
    },
    {
      "cell_type": "code",
      "source": [
        "A = {1, 2, 3}\n",
        "print(1 in A, 4 not in A)\n",
        "A.add(4)\n",
        "print(1 in A, 4 not in A)"
      ],
      "metadata": {
        "id": "ju7Sm_03eyaz"
      },
      "execution_count": null,
      "outputs": []
    },
    {
      "cell_type": "markdown",
      "source": [
        "Для удаления элемента из множества есть два метода: **discard** и **remove**. Их поведение различается только в случае, когда удаляемый элемент отсутствует в множестве. В этом случае метод discard не делает ничего, а метод remove генерирует исключение KeyError.  \n",
        "\n",
        "| A \\| B A.union(B)                       \t| Возвращает множество, являющееся объединением множеств A и B.                                                        \t|\n",
        "|-----------------------------------------\t|----------------------------------------------------------------------------------------------------------------------\t|\n",
        "| A \\|= B  \n",
        "A.update(B)                     \t| Добавляет в множество A все элементы из множества B.                                                                 \t|\n",
        "| A & B\n",
        "A.intersection(B)                 \t| Возвращает множество, являющееся пересечением множеств A и B.                                                        \t|\n",
        "| A &= B\n",
        "A.intersection_update(B)         \t| Оставляет в множестве A только те элементы, которые есть в множестве B.                                              \t|\n",
        "| A - B\n",
        "A.difference(B)                   \t| Возвращает разность множеств A и B (элементы, входящие в A, но не входящие в B).                                     \t|\n",
        "| A -= B\n",
        "A.difference_update(B)           \t| Удаляет из множества A все элементы, входящие в B.                                                                   \t|\n",
        "| A ^ B\n",
        "A.symmetric_difference(B)         \t| Возвращает симметрическую разность множеств A и B (элементы, входящие в A или в B, но не в оба из них одновременно). \t|\n",
        "| A ^= B\n",
        "A.symmetric_difference_update(B) \t| Записывает в A симметрическую разность множеств A и B.                                                               \t|\n",
        "| A <= B\n",
        "A.issubset(B)                    \t| Возвращает true, если A является подмножеством B.                                                                    \t|\n",
        "| A >= B\n",
        "A.issuperset(B)                  \t| Возвращает true, если B является подмножеством A.                                                                    \t|\n",
        "| A < B                                   \t| Эквивалентно A <= B and A != B                                                                                       \t|\n",
        "| A > B                                   \t| Эквивалентно A >= B and A != B                                                                                       \t|"
      ],
      "metadata": {
        "id": "45s7rb3qe5ON"
      }
    },
    {
      "cell_type": "markdown",
      "source": [
        "### Словари  \n",
        "(или ассоциативные массивы)  \n",
        "Особенностью ассоциативного массива является его динамичность: в него можно добавлять новые элементы с произвольными ключами и удалять уже существующие элементы. При этом размер используемой памяти пропорционален размеру ассоциативного массива. Доступ к элементам ассоциативного массива выполняется хоть и медленнее, чем к обычным массивам, но в целом довольно быстро.  \n",
        "\n",
        "Словари стоит использовать в следующих случаях:\n",
        "\n",
        "- *Подсчет числа каких-то объектов*. В этом случае нужно завести словарь, в котором ключами являются объекты, а значениями — их количество.  \n",
        "- *Хранение каких-либо данных, связанных с объектом*. Ключи — объекты, значения — связанные с ними данные. Например, если нужно по названию месяца определить его порядковый номер, то это можно сделать при помощи словаря Num['January'] = 1; Num['February'] = 2; ....  \n",
        "- *Установка соответствия между объектами* (например, “родитель—потомок”). Ключ — объект, значение — соответствующий ему объект.  \n",
        "- Если нужен обычный массив, но максимальное значение индекса элемента очень велико, и при этом будут использоваться не все возможные индексы (так называемый *“разреженный массив”*), то можно использовать ассоциативный массив для экономии памяти."
      ],
      "metadata": {
        "id": "-GNfpNaMhg_X"
      }
    },
    {
      "cell_type": "code",
      "source": [
        "D = {} #or dict()\n",
        "Capitals = {'Russia': 'Moscow',\n",
        "            'Ukraine': 'Kiev',\n",
        "            'USA': 'Washington'}\n",
        "Capitals = dict(Russia = 'Moscow', Ukraine = 'Kiev', USA = 'Washington')\n",
        "Capitals = dict([(\"Russia\", \"Moscow\"), (\"Ukraine\", \"Kiev\"), (\"USA\", \"Washington\")])\n",
        "Capitals = dict(zip([\"Russia\", \"Ukraine\", \"USA\"], [\"Moscow\", \"Kiev\", \"Washington\"]))\n",
        "print(Capitals)"
      ],
      "metadata": {
        "id": "NaP9YeyEe7VJ"
      },
      "execution_count": null,
      "outputs": []
    },
    {
      "cell_type": "code",
      "source": [
        "Capitals['Russia'] #получение значения элемента по ключу\n",
        "print(Capitals.get('Russia'))"
      ],
      "metadata": {
        "id": "gX49dzMnlO8H"
      },
      "execution_count": null,
      "outputs": []
    },
    {
      "cell_type": "markdown",
      "source": [
        "В форме записи с двумя аргументами A.get(key, val) метод возвращает значение val, если элемент с ключом key отсутствует в словаре.  \n",
        "Для удаления элемента из словаря можно использовать операцию del A[key] (операция возбуждает исключение KeyError, если такого ключа в словаре нет)   \n",
        "\n",
        "Безопасные способы удаления элемента из словаря:"
      ],
      "metadata": {
        "id": "wj5cE5nelKPl"
      }
    },
    {
      "cell_type": "code",
      "source": [
        "A = {'ab' : 'ba', 'aa' : 'aa', 'bb' : 'bb', 'ba' : 'ab'}\n",
        "\n",
        "key = 'ac'\n",
        "if key in A:\n",
        "    del A[key]\n",
        "\n",
        "try:\n",
        "    del A[key]\n",
        "except KeyError:\n",
        "\tprint('There is no element with key \"' + key + '\" in dict')\n",
        "print(A)"
      ],
      "metadata": {
        "id": "CMPv6o6-mXYQ"
      },
      "execution_count": null,
      "outputs": []
    },
    {
      "cell_type": "markdown",
      "source": [
        "Ещё можно удалить элемент из словаря методом A.pop(key). Этот метод возвращает значение удаляемого элемента, если элемент с данным ключом отсутствует в словаре, то возбуждается исключение.  \n",
        "Если методу pop передать второй параметр, то если элемент в словаре отсутствует, то метод pop возвратит значение этого параметра. Это позволяет проще всего организовать безопасное удаление элемента из словаря: A.pop(key, None)."
      ],
      "metadata": {
        "id": "NIQwo9DimrzY"
      }
    },
    {
      "cell_type": "code",
      "source": [
        "A = dict(zip('abcdef', list(range(6))))\n",
        "for key in A:\n",
        "    print(key, A[key])"
      ],
      "metadata": {
        "id": "nGCKdLIBnmCl"
      },
      "execution_count": null,
      "outputs": []
    },
    {
      "cell_type": "code",
      "source": [
        "A = dict(zip('abcdef', list(range(6))))\n",
        "for key, val in A.items():\n",
        "    print(key, val)"
      ],
      "metadata": {
        "id": "aKXH_e-Inmx6"
      },
      "execution_count": null,
      "outputs": []
    },
    {
      "cell_type": "markdown",
      "source": [
        "### **Функция map**\n",
        "Функция map принимает два аргумента: iterable и function (итерируемый объект и функция) и применяет функцию к каждому элементу объекта. Возвращаемое значение — объект map. Он является итератором, который можно конвертировать в список или множество с помощью встроенных функций."
      ],
      "metadata": {
        "id": "mG1Y7HPnqyXv"
      }
    },
    {
      "cell_type": "code",
      "source": [
        "def multiply(x):\n",
        "    return x*2\n",
        "\n",
        "elements = [1,2,3,4]\n",
        "elements_by2 = list(map(multiply,elements))\n",
        "print(elements_by2)"
      ],
      "metadata": {
        "id": "sAX8M8D9qwwG"
      },
      "execution_count": null,
      "outputs": []
    },
    {
      "cell_type": "code",
      "source": [
        "def even_odd(x):\n",
        "    if x%2==0:\n",
        "        return 0\n",
        "    else:\n",
        "\t      return x\n",
        "\n",
        "elements = [1,2,3,4]\n",
        "elements_new = list(map(even_odd,elements))\n",
        "print(elements_new)"
      ],
      "metadata": {
        "id": "SArR6Y4Lrj_T"
      },
      "execution_count": null,
      "outputs": []
    },
    {
      "cell_type": "markdown",
      "source": [
        "### Анонимные функции  \n",
        "lambda аргументы: выражение"
      ],
      "metadata": {
        "id": "jSdkQmR-r1Yl"
      }
    },
    {
      "cell_type": "code",
      "source": [
        "elements = [1,2,3,4]\n",
        "elements_by2 = map(lambda x: x*2, elements)\n",
        "print(elements_by2)"
      ],
      "metadata": {
        "id": "AqaISjL5sMMx"
      },
      "execution_count": null,
      "outputs": []
    },
    {
      "cell_type": "markdown",
      "source": [
        "Есть список городов, в названиях которых нужно сделать первую букву заглавной. Этого можно добиться с помощью комбинации из функции map и метода title."
      ],
      "metadata": {
        "id": "jneuraWGsYVv"
      }
    },
    {
      "cell_type": "code",
      "source": [
        "cities = ['madrid', 'munich', 'valencia']\n",
        "cities_cap = list(map(lambda x:x.title(),cities))"
      ],
      "metadata": {
        "id": "JB7i8YmSsXCk"
      },
      "execution_count": 33,
      "outputs": []
    },
    {
      "cell_type": "code",
      "source": [
        "elements = [1,2,3,4]\n",
        "elements_str = list(map(str,elements))"
      ],
      "metadata": {
        "id": "xst4DYMXsfI4"
      },
      "execution_count": 34,
      "outputs": []
    },
    {
      "cell_type": "markdown",
      "source": [
        "Есть кортеж из чисел, каждое их значение в котором нужно увеличить на единицу. Это запросто делается с помощью функции map. Также потребуется использовать встроенную функцию tuple(), чтобы превратить возвращаемый объект map в кортеж."
      ],
      "metadata": {
        "id": "m_kCDAJIsyiD"
      }
    },
    {
      "cell_type": "code",
      "source": [
        "elements = (1,2,3,4)\n",
        "elements_plus1 = tuple(map(lambda x:x+1,elements))"
      ],
      "metadata": {
        "id": "t8qnj1SasyIi"
      },
      "execution_count": null,
      "outputs": []
    },
    {
      "cell_type": "code",
      "source": [
        "def cube(x):\n",
        "    return x**3\n",
        "\n",
        "elements = {1,2,3,4}\n",
        "elements_cube = set(map(cube,elements))\n",
        "\n",
        "\n",
        "elements2 = {1,2,3,4}\n",
        "elements2_cube = set(map(lambda x:x**3,elements))"
      ],
      "metadata": {
        "id": "cLRwUkrPs7LG"
      },
      "execution_count": null,
      "outputs": []
    },
    {
      "cell_type": "code",
      "source": [
        "elements = {'hidrogen':1, 'helium':2, 'carbon':6}\n",
        "elements_upper = list(map(lambda x:x.title(),elements))\n"
      ],
      "metadata": {
        "id": "n8v5WnS2tBXh"
      },
      "execution_count": null,
      "outputs": []
    },
    {
      "cell_type": "code",
      "source": [
        "students = [('Amanda','161cm','51kg'), ('Patricia','165cm','61kg'), ('Marcos','191cm', '101kg')]\n",
        "students_height = list(map(lambda x:x[1], students))\n",
        "\n",
        "#список со строками\n",
        "\n",
        "students_weight = list(map(lambda x:int(x[2][:-2]), students))\n",
        "\n",
        "#список с цислами"
      ],
      "metadata": {
        "id": "vh25GEw4tCCc"
      },
      "execution_count": null,
      "outputs": []
    },
    {
      "cell_type": "markdown",
      "source": [
        "Итак,  - Функция map принимает два аргумента:  \n",
        "(1) функцию\n",
        "(2) итерируемый объект.  \n",
        "- Применяет функцию к каждому элементу итерируемого объекта и возвращает объект map.  \n",
        "- Функция может быть (1) обычной, (2) анонимной или (3) встроенной.  \n",
        "- Списки, множества, кортежи и другие итерируемые объекты могут выступать в качестве второго аргумента функции map.\n",
        "- Объект map можно запросто конвертировать в другой итерируемый объект с помощью встроенных функций."
      ],
      "metadata": {
        "id": "lLv82UoptVp6"
      }
    },
    {
      "cell_type": "markdown",
      "source": [
        "### **Функция enumerate**  \n",
        "синтаксис: enumerate(iterable, start)  \n"
      ],
      "metadata": {
        "id": "dFwQSdPVt8J4"
      }
    },
    {
      "cell_type": "code",
      "source": [
        "names = [\"John\", \"Jane\", \"Doe\"]\n",
        "enumNames = enumerate(names)\n",
        "print(list(enumNames))"
      ],
      "metadata": {
        "id": "EYqbG0OtuKNu"
      },
      "execution_count": null,
      "outputs": []
    },
    {
      "cell_type": "code",
      "source": [
        "names = [\"John\", \"Jane\", \"Doe\"]\n",
        "enumNames = enumerate(names, 10)\n",
        "print(list(enumNames))"
      ],
      "metadata": {
        "id": "Rq5kZ9aPvODl"
      },
      "execution_count": null,
      "outputs": []
    },
    {
      "cell_type": "code",
      "source": [
        "names = [\"John\", \"Jane\", \"Doe\"]\n",
        "enumNames = enumerate(names)\n",
        "for item in enumNames:\n",
        "\n",
        "    print(item)"
      ],
      "metadata": {
        "id": "p82RDO9CvSzq"
      },
      "execution_count": null,
      "outputs": []
    },
    {
      "cell_type": "markdown",
      "source": [
        "**Работа со строками**  \n",
        "Каждая строка, с точки зрения Питона, — это объект класса str. Чтобы получить по объекту другой объект другого класса, как-то ему соответствующий, можно использовать функцию приведения. Имя этой функции совпадает с именем класса, к которому мы приводим объект. (Для знатоков: эта функция — это конструктор объектов данного класса.) Пример: int — класс для целых чисел. Перевод строки в число осуществляется функцией int()."
      ],
      "metadata": {
        "id": "ND06LkVCXtxn"
      }
    },
    {
      "cell_type": "code",
      "source": [
        "s = input()\n",
        "print(len(s))\n",
        "t = input()\n",
        "number = int(t)\n",
        "u = str(number)\n",
        "print(s * 3)\n",
        "print(s + ' ' + u)"
      ],
      "metadata": {
        "id": "oz_bFI-UXxI-"
      },
      "execution_count": null,
      "outputs": []
    },
    {
      "cell_type": "markdown",
      "source": [
        "**Срез (slice)** — извлечение из данной строки одного символа или некоторого фрагмента подстроки или подпоследовательности.\n",
        "\n",
        "Есть три формы срезов. Самая простая форма среза: взятие одного символа строки, а именно, S[i] — это срез, состоящий из одного символа, который имеет номер i. При этом считается, что нумерация начинается с числа 0. То есть если S = 'Hello', то S[0] == 'H', S[1] == 'e', S[2] == 'l', S[3] == 'l', S[4] == 'o'.  \n",
        "\n",
        "Заметим, что в Питоне нет отдельного типа для символов строки. Каждый объект, который получается в результате среза S[i] — это тоже строка типа str.\n",
        "\n",
        "Срез с двумя параметрами: S[a:b] возвращает подстроку из b - a символов, начиная с символа c индексом a, то есть до символа с индексом b, не включая его. Например, S[1:4] == 'ell', то же самое получится если написать S[-4:-1]. Можно использовать как положительные, так и отрицательные индексы в одном срезе, например, S[1:-1] — это строка без первого и последнего символа (срез начинается с символа с индексом 1 и заканчиватеся индексом -1, не включая его).  \n",
        "\n",
        "Если опустить второй параметр (но поставить двоеточие), то срез берется до конца строки. Например, чтобы удалить из строки первый символ (его индекс равен 0), можно взять срез S[1:]. Аналогично если опустить первый параметр, то можно взять срез от начала строки. То есть удалить из строки последний символ можно при помощи среза S[:-1]. Срез S[:] совпадает с самой строкой S."
      ],
      "metadata": {
        "id": "ch9VaasgYjN8"
      }
    },
    {
      "cell_type": "code",
      "source": [
        "s = input()\n",
        "\n",
        "s = s[1:] #удалить из строки первый символ\n",
        "print(s)"
      ],
      "metadata": {
        "id": "95SVxpEzYTP4"
      },
      "execution_count": null,
      "outputs": []
    },
    {
      "cell_type": "markdown",
      "source": [
        "Любые операции среза со строкой создают новые строки и никогда не меняют исходную строку. В Питоне строки вообще являются неизменяемыми, их невозможно изменить. Можно лишь в старую переменную присвоить новую строку.\n",
        "\n",
        "На самом деле в питоне нет и переменных. Есть лишь имена, которые связаны с какими-нибудь объектами. Можно сначала связать имя с одним объектом, а потом — с другим. Можно несколько имён связать с одним и тем же объектом."
      ],
      "metadata": {
        "id": "Zy2AYaQQbAhC"
      }
    },
    {
      "cell_type": "markdown",
      "source": [
        "Если задать срез с тремя параметрами S[a:b:d], то третий параметр задает шаг, как в случае с функцией range, то есть будут взяты символы с индексами a, a + d, a + 2 * d и т. д. При задании значения третьего параметра, равному 2, в срез попадет кажый второй символ, а если взять значение среза, равное -1, то символы будут идти в обратном порядке. Например, можно перевернуть строку срезом S[::-1]."
      ],
      "metadata": {
        "id": "INM7_7UKbKdC"
      }
    },
    {
      "cell_type": "code",
      "source": [
        "s = 'abcdefghijklm'\n",
        "print(s[0:10:2])\n",
        "for i in range(0, 10, 2):\n",
        "    print(i, s[i])"
      ],
      "metadata": {
        "id": "kKNDIg_1Z1wM"
      },
      "execution_count": null,
      "outputs": []
    },
    {
      "cell_type": "markdown",
      "source": [
        "**Метод** — это функция, применяемая к объекту, в данном случае — к строке. Метод вызывается в виде *Имя_объекта.Имя_метода(параметры)*"
      ],
      "metadata": {
        "id": "2mVnNZpLbcC_"
      }
    },
    {
      "cell_type": "markdown",
      "source": [
        "1) *Find & refind*: Метод find находит в данной строке (к которой применяется метод) данную подстроку (которая передается в качестве параметра). Функция возвращает индекс первого вхождения искомой подстроки. Если же подстрока не найдена, то метод возвращает значение -1.  \n",
        "Метод find находит в данной строке (к которой применяется метод) данную подстроку (которая передается в качестве параметра). Функция возвращает индекс первого вхождения искомой подстроки. Если же подстрока не найдена, то метод возвращает значение -1."
      ],
      "metadata": {
        "id": "giBGK12YbqVc"
      }
    },
    {
      "cell_type": "code",
      "source": [
        "S = 'Hello'\n",
        "print(S.find('e'))\n",
        "# вернёт 1\n",
        "print(S.find('ll'))\n",
        "# вернёт 2\n",
        "print(S.find('L'))\n",
        "# вернёт -1"
      ],
      "metadata": {
        "id": "QgeHOYcJbRob"
      },
      "execution_count": null,
      "outputs": []
    },
    {
      "cell_type": "code",
      "source": [
        "S = 'Hello'\n",
        "print(S.find('l'))\n",
        "# вернёт 2\n",
        "print(S.rfind('l'))\n",
        "# вернёт 3"
      ],
      "metadata": {
        "id": "MAQR5MEgcTSE"
      },
      "execution_count": null,
      "outputs": []
    },
    {
      "cell_type": "markdown",
      "source": [
        "Если вызвать метод find с тремя параметрами **S.find(T, a, b)**, то поиск будет осуществляться в срезе **S[a:b]**. Если указать только два параметра **S.find(T, a)**, то поиск будет осуществляться в срезе **S[a:]**, то есть начиная с символа с индексом a и до конца строки. Метод **S.find(T, a, b)** возращает индекс в строке S, а не индекс относительно среза."
      ],
      "metadata": {
        "id": "CQyvv-9TcS0k"
      }
    },
    {
      "cell_type": "markdown",
      "source": [
        "2) *Replace* заменяет все вхождения одной строки на другую. Формат: S.replace(old, new) — заменить в строке S все вхождения подстроки old на подстроку new."
      ],
      "metadata": {
        "id": "prEIPNiScqbD"
      }
    },
    {
      "cell_type": "code",
      "source": [
        "print('Hello'.replace('l', 'L'))"
      ],
      "metadata": {
        "id": "WsULT9nKch95"
      },
      "execution_count": null,
      "outputs": []
    },
    {
      "cell_type": "markdown",
      "source": [
        "Если методу replace задать еще один параметр: S.replace(old, new, count), то заменены будут не все вхождения, а только не больше, чем первые count из них."
      ],
      "metadata": {
        "id": "SDpbAz67c-0B"
      }
    },
    {
      "cell_type": "code",
      "source": [
        "print('Abrakadabra'.replace('a', 'A', 2))"
      ],
      "metadata": {
        "id": "e9nyrMEpc_Vh"
      },
      "execution_count": null,
      "outputs": []
    },
    {
      "cell_type": "markdown",
      "source": [
        "3) *Count* - Подсчитывает количество вхождений одной строки в другую строку. Простейшая форма вызова S.count(T)  возвращает число вхождений строки T внутри строки S. При этом подсчитываются только непересекающиеся вхождения"
      ],
      "metadata": {
        "id": "uik1i-x1dNYT"
      }
    },
    {
      "cell_type": "code",
      "source": [
        "print('Abracadabra'.count('a'))\n",
        "# вернёт 4\n",
        "print(('a' * 10).count('aa'))\n",
        "# вернёт 5"
      ],
      "metadata": {
        "id": "WoHzCAMKdCEP"
      },
      "execution_count": null,
      "outputs": []
    },
    {
      "cell_type": "markdown",
      "source": [
        "### **Функции**  \n",
        "Функции — это такие участки кода, которые изолированы от остальный программы и выполняются только тогда, когда вызываются. Вы уже встречались с функциями sqrt(), len() и print(). Они все обладают общим свойством: они могут принимать параметры (ноль, один или несколько), и они могут возвращать значение (хотя могут и не возвращать). Например, функция sqrt() принимает один параметр и возвращает значение (корень числа). Функция print() принимает переменное число параметров и ничего не возвращает."
      ],
      "metadata": {
        "id": "hA5COwG0xrlG"
      }
    },
    {
      "cell_type": "code",
      "source": [
        "def factorial(n):\n",
        "    res = 1\n",
        "    for i in range(1, n + 1):\n",
        "        res *= i\n",
        "    return res\n",
        "\n",
        "print(factorial(3))\n",
        "print(factorial(5))"
      ],
      "metadata": {
        "id": "2rLjzMW_dXLd"
      },
      "execution_count": null,
      "outputs": []
    },
    {
      "cell_type": "markdown",
      "source": [
        "Встроенная функция max() в Питоне может принимать переменное число аргументов и возвращать максимум из них. Приведём пример того, как такая функция может быть написана."
      ],
      "metadata": {
        "id": "esAu9AyAyVck"
      }
    },
    {
      "cell_type": "code",
      "source": [
        "def max(*a):\n",
        "    res = a[0]\n",
        "    for val in a[1:]:\n",
        "        if val > res:\n",
        "            res = val\n",
        "    return res\n",
        "\n",
        "print(max(3, 5, 4))"
      ],
      "metadata": {
        "id": "OnDuVPbr0VwT"
      },
      "execution_count": null,
      "outputs": []
    },
    {
      "cell_type": "markdown",
      "source": [
        "Все переданные в эту функцию параметры соберутся в один кортеж с именем a, на что указывает звёздочка в строке объявления функции."
      ],
      "metadata": {
        "id": "fdKuyQ0Q0cW5"
      }
    },
    {
      "cell_type": "markdown",
      "source": [
        "### **Локальные и глобальные переменные**"
      ],
      "metadata": {
        "id": "4RAbQ7pC1EPU"
      }
    },
    {
      "cell_type": "code",
      "source": [
        "def f():\n",
        "    print(a)\n",
        "\n",
        "a = 1\n",
        "f()"
      ],
      "metadata": {
        "id": "CE2kAmL-2AUa"
      },
      "execution_count": null,
      "outputs": []
    },
    {
      "cell_type": "code",
      "source": [
        "def f():\n",
        "    a = 2\n",
        "\n",
        "f()\n",
        "print(a)"
      ],
      "metadata": {
        "id": "A-n0TI341KpO"
      },
      "execution_count": null,
      "outputs": []
    },
    {
      "cell_type": "code",
      "source": [
        "def f():\n",
        "    a = 1\n",
        "    print(a)\n",
        "\n",
        "a = 0\n",
        "f()\n",
        "print(a)"
      ],
      "metadata": {
        "id": "BSCk4HEy1vUg"
      },
      "execution_count": null,
      "outputs": []
    },
    {
      "cell_type": "markdown",
      "source": [
        "“Защита” глобальных переменных от случайного изменения из функции."
      ],
      "metadata": {
        "id": "GrzCJoidRn-e"
      }
    },
    {
      "cell_type": "code",
      "source": [
        "def factorial(n):\n",
        "    res = 1\n",
        "    for i in range(1, n + 1):\n",
        "        res *= i\n",
        "    return res\n",
        "\n",
        "for i in range(1, 6):\n",
        "    print(i, '! = ', factorial(i), sep='')"
      ],
      "metadata": {
        "id": "27JFiXKoJBSM"
      },
      "execution_count": null,
      "outputs": []
    },
    {
      "cell_type": "markdown",
      "source": [
        "То есть, если внутри функции модифицируется значение некоторой переменной, то переменная с таким именем становится локальной переменной, и ее модификация не приведет к изменению глобальной переменной с таким же именем.  \n",
        "интерпретатор Питон считает переменную локальной для данной функции, если в её коде есть хотя бы одна инструкция, модифицирующая значение переменной, то эта переменная считается локальной и не может быть использована до инициализации. Инструкция, модифицирующая значение переменной — это операторы =, +=, а также использование переменной в качестве параметра цикла for. При этом даже если инструкция, модицифицирующая переменную никогда не будет выполнена, интерпретатор это проверить не может, и переменная все равно считается локальной."
      ],
      "metadata": {
        "id": "sHu-Ek8oSFk-"
      }
    },
    {
      "cell_type": "code",
      "source": [
        "def f():\n",
        "    print(a)\n",
        "    if False:\n",
        "        a = 0\n",
        "\n",
        "a = 1\n",
        "f()"
      ],
      "metadata": {
        "id": "JYEiXmqyLuBd"
      },
      "execution_count": 6,
      "outputs": []
    },
    {
      "cell_type": "markdown",
      "source": [
        "Чтобы функция могла изменить значение глобальной переменной, необходимо объявить эту переменную внутри функции, как глобальную, при помощи ключевого слова global:"
      ],
      "metadata": {
        "id": "0FmmY_ppWQV5"
      }
    },
    {
      "cell_type": "code",
      "source": [
        "def f():\n",
        "    global a\n",
        "    a = 1\n",
        "    print(a)\n",
        "\n",
        "a = 0\n",
        "f()\n",
        "print(a)"
      ],
      "metadata": {
        "id": "tUMfISXTVfNu"
      },
      "execution_count": null,
      "outputs": []
    },
    {
      "cell_type": "markdown",
      "source": [
        "Как не надо:"
      ],
      "metadata": {
        "id": "urWwMUW5X1BO"
      }
    },
    {
      "cell_type": "code",
      "source": [
        "def factorial(n):\n",
        "    global f\n",
        "    res = 1\n",
        "    for i in range(2, n + 1):\n",
        "        res *= i\n",
        "    f = res\n",
        "\n",
        "n = int(input())\n",
        "factorial(n)"
      ],
      "metadata": {
        "id": "v0CcmFy_WU5C"
      },
      "execution_count": null,
      "outputs": []
    },
    {
      "cell_type": "markdown",
      "source": [
        "Лучше:"
      ],
      "metadata": {
        "id": "mz7dw-5QX20F"
      }
    },
    {
      "cell_type": "code",
      "source": [
        "# начало куска кода, который можно копировать из программы в программу\n",
        "def factorial(n):\n",
        "    res = 1\n",
        "    for i in range(2, n + 1):\n",
        "        res *= i\n",
        "    return res\n",
        "# конец куска кода\n",
        "\n",
        "n = int(input())\n",
        "f = factorial(n)"
      ],
      "metadata": {
        "colab": {
          "base_uri": "https://localhost:8080/"
        },
        "id": "GdURNpfoX39J",
        "outputId": "6a85093f-b5a9-4019-d646-401cb6b42c53"
      },
      "execution_count": 8,
      "outputs": [
        {
          "name": "stdout",
          "output_type": "stream",
          "text": [
            "1\n"
          ]
        }
      ]
    },
    {
      "cell_type": "markdown",
      "source": [
        "### **Рекурсия**"
      ],
      "metadata": {
        "id": "m-SW5QoyYETd"
      }
    },
    {
      "cell_type": "code",
      "source": [
        "def factorial(n):\n",
        "    if n == 0:\n",
        "        return 1\n",
        "    else:\n",
        "        return n * factorial(n - 1)\n",
        "\n",
        "print(factorial(5))"
      ],
      "metadata": {
        "id": "SApq3APDX8kK"
      },
      "execution_count": null,
      "outputs": []
    },
    {
      "cell_type": "markdown",
      "source": [
        "Часто использование рекурсии приводит к ошибкам. Наиболее распространенная – бесконечная рекурсия, когда цепочка вызовов функций никогда не завершается и продолжается, пока не кончится свободная память в компьютере. Две наиболее распространенные причины для бесконечной рекурсии:\n",
        "\n",
        "1) Неправильное оформление выхода из рекурсии. Например, если мы в программе вычисления факториала забудем поставить проверку if n == 0, то factorial(0) вызовет factorial(-1), тот вызовет factorial(-2) и т. д.  \n",
        "2) Рекурсивный вызов с неправильными параметрами. Например, если функция factorial(n) будет вызывать factorial(n), то также получится бесконечная цепочка.\n",
        "Поэтому при разработке рекурсивной функции необходимо прежде всего оформлять условия завершения рекурсии и думать, почему рекурсия когда-либо завершит работу."
      ],
      "metadata": {
        "id": "cK4r1pNnYZ9d"
      }
    },
    {
      "cell_type": "markdown",
      "source": [
        "### **Практика**"
      ],
      "metadata": {
        "id": "RRRsJ2z9bkiq"
      }
    },
    {
      "cell_type": "markdown",
      "source": [
        "**Задание 1.**  \n",
        "Пользователь вводит строку в консоли состоящую из двух слов: \"Ivan Ivanou\". Необходимо поменять слова местами и вывсети на экран новую строку: \"Ivanou Ivan\"  \n",
        "**Задание 2.**  \n",
        "Есть 2 словаря\n",
        "a = { 'a': 1, 'b': 2, 'c': 3}\n",
        "b = { 'c': 3, 'd': 4,'e': 5}  \n",
        "Необходимо их объединить по ключам, а значения ключей поместить в список, если у одного словаря есть ключ \"а\", а у другого нет, то поставить значение None на соответствующую позицию (1-я позиция для 1-ого словаря, вторая для 2-ого)  \n",
        "\n",
        "Результат работы программы:   \n",
        "ab = {'a': [1, None], 'b': [2, None], 'c': [3, 3], 'd': [None, 4], 'e': [None, 5]}"
      ],
      "metadata": {
        "id": "tmYJsHbgXXuH"
      }
    }
  ]
}