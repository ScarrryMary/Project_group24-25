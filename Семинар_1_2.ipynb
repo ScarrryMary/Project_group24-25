{
  "cells": [
    {
      "cell_type": "markdown",
      "metadata": {
        "id": "view-in-github",
        "colab_type": "text"
      },
      "source": [
        "<a href=\"https://colab.research.google.com/github/ScarrryMary/Project_group24-25/blob/main/%D0%A1%D0%B5%D0%BC%D0%B8%D0%BD%D0%B0%D1%80_1_2.ipynb\" target=\"_parent\"><img src=\"https://colab.research.google.com/assets/colab-badge.svg\" alt=\"Open In Colab\"/></a>"
      ]
    },
    {
      "cell_type": "markdown",
      "source": [
        "![](https://pmoris.github.io/computational-skills/assets/python-debug.jpg)"
      ],
      "metadata": {
        "id": "s7iNMAL-Pxgn"
      }
    },
    {
      "cell_type": "markdown",
      "source": [
        "В Питоне есть огромное количество библиотек для анализа данных (описание некоторых ниже) с очень хорошей документацией.\n",
        "\n",
        "NumPy — библиотека для работы с массивами и матрицами, в том числе матричные операции.\n",
        "\n",
        "SciPy — библиотека для выполнения научных и инженерных расчётов.\n",
        "\n",
        "Scikit­Learn (sklearn) — библиотека алгоритмов машинного обучения с множеством примеров и наборами данных.\n",
        "\n",
        "Matplotlib — библиотека для визуализации данных.\n",
        "\n",
        "SymPy - библиотека для символьных вычислений.\n",
        "\n",
        "Желающие могут изучить популярный пакет Pandas для работы с табличными данными, но в нашем курсе он не понадобится."
      ],
      "metadata": {
        "id": "EHvRw2HgsN_H"
      }
    },
    {
      "cell_type": "markdown",
      "metadata": {
        "id": "2JUyfrCUqm-M"
      },
      "source": [
        "## Numpy == Numeric Python"
      ]
    },
    {
      "cell_type": "markdown",
      "source": [
        "*Почему быстрее?*  \n",
        "\n",
        "\n",
        "> Numpy arrays are densely packed arrays of homogeneous type. Python lists, by contrast, are arrays of pointers to objects, even when all of them are of the same type. So, you get the benefits of locality of reference. Also, many Numpy operations are implemented in C, avoiding the general cost of loops in Python, pointer indirection and per-element dynamic type checking. The speed boost depends on which operations you're performing, but a few orders of magnitude isn't uncommon in number crunching programs.  "
      ],
      "metadata": {
        "id": "kgBEddeeR-vZ"
      }
    },
    {
      "cell_type": "code",
      "execution_count": 6,
      "metadata": {
        "ExecuteTime": {
          "end_time": "2023-08-23T14:30:38.240522Z",
          "start_time": "2023-08-23T14:30:38.144276Z"
        },
        "id": "ObyVoie-qm-M"
      },
      "outputs": [],
      "source": [
        "import numpy as np"
      ]
    },
    {
      "cell_type": "markdown",
      "metadata": {
        "id": "eJ541jB2qm-N"
      },
      "source": [
        "- основная библиотека для операций с массивами числовых данных, матрицами и объектами с большим количеством индексов\n",
        "- **быстрые матричные операции**"
      ]
    },
    {
      "cell_type": "code",
      "execution_count": 7,
      "metadata": {
        "ExecuteTime": {
          "end_time": "2023-08-23T14:30:38.251641Z",
          "start_time": "2023-08-23T14:30:38.242931Z"
        },
        "id": "-QQilgYtqm-N",
        "outputId": "4b254850-d2bc-4eac-b7ab-202946e627f4",
        "colab": {
          "base_uri": "https://localhost:8080/"
        }
      },
      "outputs": [
        {
          "output_type": "execute_result",
          "data": {
            "text/plain": [
              "array([1, 2, 3, 4])"
            ]
          },
          "metadata": {},
          "execution_count": 7
        }
      ],
      "source": [
        "np_array = np.array([1, 2, 3, 4]) # Основной объект: numpy array (одинаковый тип чисел на весь массив)\n",
        "np_array"
      ]
    },
    {
      "cell_type": "code",
      "execution_count": 8,
      "metadata": {
        "ExecuteTime": {
          "end_time": "2023-08-23T14:30:38.258152Z",
          "start_time": "2023-08-23T14:30:38.253472Z"
        },
        "id": "33eptUx1qm-O",
        "outputId": "0437d687-8a59-477d-f0ea-c591aa44e1c1",
        "colab": {
          "base_uri": "https://localhost:8080/"
        }
      },
      "outputs": [
        {
          "output_type": "execute_result",
          "data": {
            "text/plain": [
              "array([1., 2., 3., 4.])"
            ]
          },
          "metadata": {},
          "execution_count": 8
        }
      ],
      "source": [
        "np_array = np.array([1, 2, 3, 4.]) # Чем отличается от предыдущего?\n",
        "\n",
        "np_array"
      ]
    },
    {
      "cell_type": "code",
      "source": [
        "a = np.array([1, 4, 5, 8], str)\n",
        "a"
      ],
      "metadata": {
        "colab": {
          "base_uri": "https://localhost:8080/"
        },
        "id": "PKzPkBwyYm_Q",
        "outputId": "c7c16e66-4d21-417e-e695-6599fd56925d"
      },
      "execution_count": 10,
      "outputs": [
        {
          "output_type": "execute_result",
          "data": {
            "text/plain": [
              "array(['1', '4', '5', '8'], dtype='<U1')"
            ]
          },
          "metadata": {},
          "execution_count": 10
        }
      ]
    },
    {
      "cell_type": "code",
      "execution_count": 11,
      "metadata": {
        "ExecuteTime": {
          "end_time": "2023-08-23T14:30:38.264821Z",
          "start_time": "2023-08-23T14:30:38.261374Z"
        },
        "id": "hnuKduXLqm-O",
        "outputId": "cad6eb6d-8804-4b61-9c39-22c724c1cb62",
        "colab": {
          "base_uri": "https://localhost:8080/"
        }
      },
      "outputs": [
        {
          "output_type": "execute_result",
          "data": {
            "text/plain": [
              "(4,)"
            ]
          },
          "metadata": {},
          "execution_count": 11
        }
      ],
      "source": [
        "np_array.shape # Размерность массива"
      ]
    },
    {
      "cell_type": "markdown",
      "source": [
        "Метод dtype возвращает тип переменных, хранящихся в массиве:"
      ],
      "metadata": {
        "id": "JdaEL1VuZqAM"
      }
    },
    {
      "cell_type": "code",
      "source": [
        "a.dtype"
      ],
      "metadata": {
        "colab": {
          "base_uri": "https://localhost:8080/"
        },
        "id": "85W8dloeZrfv",
        "outputId": "a6f1f2b5-a15d-4839-da8c-64a246a662a3"
      },
      "execution_count": 17,
      "outputs": [
        {
          "output_type": "execute_result",
          "data": {
            "text/plain": [
              "dtype('<U1')"
            ]
          },
          "metadata": {},
          "execution_count": 17
        }
      ]
    },
    {
      "cell_type": "code",
      "execution_count": 24,
      "metadata": {
        "ExecuteTime": {
          "end_time": "2023-08-23T14:30:38.270790Z",
          "start_time": "2023-08-23T14:30:38.266953Z"
        },
        "id": "1jzt5Hqfqm-O",
        "outputId": "77a5e236-e40f-48ca-887c-3be6af24df72",
        "colab": {
          "base_uri": "https://localhost:8080/"
        }
      },
      "outputs": [
        {
          "output_type": "execute_result",
          "data": {
            "text/plain": [
              "array([[1., 2.],\n",
              "       [3., 4.]])"
            ]
          },
          "metadata": {},
          "execution_count": 24
        }
      ],
      "source": [
        "np_array = np_array.reshape((2, 2)) # изменим размерность массива\n",
        "\n",
        "np_array"
      ]
    },
    {
      "cell_type": "code",
      "execution_count": 25,
      "metadata": {
        "ExecuteTime": {
          "end_time": "2023-08-23T14:30:38.276756Z",
          "start_time": "2023-08-23T14:30:38.272809Z"
        },
        "id": "ErkNjrNfqm-P",
        "outputId": "689980b0-337a-4e50-f9f5-8b47c47a9673",
        "colab": {
          "base_uri": "https://localhost:8080/"
        }
      },
      "outputs": [
        {
          "output_type": "execute_result",
          "data": {
            "text/plain": [
              "array([[1., 2.],\n",
              "       [3., 4.]])"
            ]
          },
          "metadata": {},
          "execution_count": 25
        }
      ],
      "source": [
        "np_array"
      ]
    },
    {
      "cell_type": "code",
      "execution_count": 26,
      "metadata": {
        "ExecuteTime": {
          "end_time": "2023-08-23T14:30:38.283039Z",
          "start_time": "2023-08-23T14:30:38.278939Z"
        },
        "id": "glhqjbNyqm-P",
        "outputId": "53cf6ac6-4b7b-4d35-f915-b86e21ff8171",
        "colab": {
          "base_uri": "https://localhost:8080/"
        }
      },
      "outputs": [
        {
          "output_type": "execute_result",
          "data": {
            "text/plain": [
              "array([[1., 2., 3., 4.]])"
            ]
          },
          "metadata": {},
          "execution_count": 26
        }
      ],
      "source": [
        "np_array = np_array.reshape((1, -1)) # Превратим матрицу обратно в строку\n",
        "\n",
        "np_array"
      ]
    },
    {
      "cell_type": "code",
      "execution_count": 27,
      "metadata": {
        "ExecuteTime": {
          "end_time": "2023-08-23T14:30:38.289181Z",
          "start_time": "2023-08-23T14:30:38.285204Z"
        },
        "id": "bIAkFh9mqm-P",
        "outputId": "fe4244ac-f45b-4d32-c59a-bf5a13bc7a31",
        "colab": {
          "base_uri": "https://localhost:8080/"
        }
      },
      "outputs": [
        {
          "output_type": "execute_result",
          "data": {
            "text/plain": [
              "array([[1.],\n",
              "       [2.],\n",
              "       [3.],\n",
              "       [4.]])"
            ]
          },
          "metadata": {},
          "execution_count": 27
        }
      ],
      "source": [
        "np_array = np_array.reshape((-1, 1)) # Или столбец\n",
        "\n",
        "np_array"
      ]
    },
    {
      "cell_type": "markdown",
      "metadata": {
        "id": "JVmRXzvbqm-P"
      },
      "source": [
        "#### Удобное создание массивов  \n",
        "Функция **arange()** аналогична по своему назначению функции range() из стандартной библиотеки Python. Ее основное отличие заключается в том, что **arange()** позволяет строить вектор с указанием шага в виде десятичной дроби.  \n",
        "\n",
        "*arange(stop)*\n",
        "\n",
        "*arange(start, stop)*\n",
        "\n",
        "*arange(start, stop, step)*"
      ]
    },
    {
      "cell_type": "code",
      "execution_count": 28,
      "metadata": {
        "ExecuteTime": {
          "end_time": "2023-08-23T14:30:38.295601Z",
          "start_time": "2023-08-23T14:30:38.291210Z"
        },
        "id": "zjqzznJrqm-P",
        "outputId": "35fee497-b30c-49d2-fa3c-c396e14b068b",
        "colab": {
          "base_uri": "https://localhost:8080/"
        }
      },
      "outputs": [
        {
          "output_type": "execute_result",
          "data": {
            "text/plain": [
              "array([1. , 1.2, 1.4, 1.6, 1.8, 2. , 2.2, 2.4, 2.6, 2.8, 3. , 3.2, 3.4,\n",
              "       3.6, 3.8, 4. , 4.2, 4.4, 4.6, 4.8, 5. , 5.2, 5.4, 5.6, 5.8, 6. ,\n",
              "       6.2, 6.4, 6.6, 6.8, 7. , 7.2, 7.4, 7.6, 7.8, 8. , 8.2, 8.4, 8.6,\n",
              "       8.8, 9. , 9.2, 9.4, 9.6, 9.8])"
            ]
          },
          "metadata": {},
          "execution_count": 28
        }
      ],
      "source": [
        "# np.arange(a, b, s) - выводит одномерный массив чисел начиная с a (включительно) до b (невключительно) с шагом s\n",
        "\n",
        "np.arange(1, 10, 0.2)"
      ]
    },
    {
      "cell_type": "markdown",
      "source": [
        "**np.linspace(a, b, N)** - равно делит [a, b] на N-1 часть и выводит массив с N граничными точками"
      ],
      "metadata": {
        "id": "GAHFj85T4Wgv"
      }
    },
    {
      "cell_type": "code",
      "execution_count": 29,
      "metadata": {
        "ExecuteTime": {
          "end_time": "2023-08-23T14:30:38.303837Z",
          "start_time": "2023-08-23T14:30:38.299782Z"
        },
        "id": "3k_5HH6-qm-Q",
        "outputId": "ce4be8b6-8c56-4170-a1e2-06542b96f596",
        "colab": {
          "base_uri": "https://localhost:8080/"
        }
      },
      "outputs": [
        {
          "output_type": "execute_result",
          "data": {
            "text/plain": [
              "array([1.  , 1.25, 1.5 , 1.75, 2.  ])"
            ]
          },
          "metadata": {},
          "execution_count": 29
        }
      ],
      "source": [
        "np.linspace(1, 2, 5)"
      ]
    },
    {
      "cell_type": "markdown",
      "source": [
        "Функция **numpy.logspace()** возвращает последовательность данных, равномерно расположенных в заданном интервале на числовой прямой в логарифмическом масштабе. Параметры у этой функции точно такие же, как и у numpy.linspace().\n"
      ],
      "metadata": {
        "id": "iqESjcjM4tx7"
      }
    },
    {
      "cell_type": "code",
      "execution_count": 30,
      "metadata": {
        "ExecuteTime": {
          "end_time": "2023-08-23T14:30:38.309022Z",
          "start_time": "2023-08-23T14:30:38.305427Z"
        },
        "id": "G3yciCX9qm-Q",
        "outputId": "a8bac741-879f-4d28-83a1-c9197bdcbb50",
        "colab": {
          "base_uri": "https://localhost:8080/"
        }
      },
      "outputs": [
        {
          "output_type": "execute_result",
          "data": {
            "text/plain": [
              "array([ 10.        ,  17.7827941 ,  31.6227766 ,  56.23413252,\n",
              "       100.        ])"
            ]
          },
          "metadata": {},
          "execution_count": 30
        }
      ],
      "source": [
        "np.logspace(1, 2, 5)"
      ]
    },
    {
      "cell_type": "markdown",
      "source": [
        "Matrix является удобным инструментом для задания матрицы. При этом можно использовать Matlab стиль, либо передать в качестве аргумента список Python (или массив *Numpy*).    \n",
        "\n",
        "Вариант со списком python:"
      ],
      "metadata": {
        "id": "EbPq9mHpNemD"
      }
    },
    {
      "cell_type": "code",
      "source": [
        "a = [[1, 2], [3, 4]]\n",
        "np.matrix(a)"
      ],
      "metadata": {
        "colab": {
          "base_uri": "https://localhost:8080/"
        },
        "id": "nvqVYSa5Nlca",
        "outputId": "2f14244a-6b33-4991-8c20-48d0798dfef1"
      },
      "execution_count": 31,
      "outputs": [
        {
          "output_type": "execute_result",
          "data": {
            "text/plain": [
              "matrix([[1, 2],\n",
              "        [3, 4]])"
            ]
          },
          "metadata": {},
          "execution_count": 31
        }
      ]
    },
    {
      "cell_type": "markdown",
      "source": [
        "Вариант с массивом Numpy:"
      ],
      "metadata": {
        "id": "n-zDBMHFNwSg"
      }
    },
    {
      "cell_type": "code",
      "source": [
        "b = np.array([[5, 6], [7, 8]])\n",
        "np.matrix(b)"
      ],
      "metadata": {
        "colab": {
          "base_uri": "https://localhost:8080/"
        },
        "id": "WgO9joZTN_1I",
        "outputId": "126f6c91-9679-456c-d621-6fa482df68f4"
      },
      "execution_count": 32,
      "outputs": [
        {
          "output_type": "execute_result",
          "data": {
            "text/plain": [
              "matrix([[5, 6],\n",
              "        [7, 8]])"
            ]
          },
          "metadata": {},
          "execution_count": 32
        }
      ]
    },
    {
      "cell_type": "markdown",
      "source": [
        "Вариант в Matlab стиле:"
      ],
      "metadata": {
        "id": "UfSprLjVOGCr"
      }
    },
    {
      "cell_type": "code",
      "source": [
        "np.matrix('[1, 2; 3, 4]')"
      ],
      "metadata": {
        "colab": {
          "base_uri": "https://localhost:8080/"
        },
        "id": "tC5SUjUCOfsi",
        "outputId": "6959da2f-a604-469e-fdf7-39b274a04494"
      },
      "execution_count": 33,
      "outputs": [
        {
          "output_type": "execute_result",
          "data": {
            "text/plain": [
              "matrix([[1, 2],\n",
              "        [3, 4]])"
            ]
          },
          "metadata": {},
          "execution_count": 33
        }
      ]
    },
    {
      "cell_type": "markdown",
      "source": [
        "Можно также переконвертировать массив в бинарную строку (то есть, не human-readable форму). Используйте метод tostring для этого. Метод fromstring работает в для обратного преобразования. Эти операции иногда полезны для сохранения большого количества данных в файлах, которые могут быть считаны в будущем."
      ],
      "metadata": {
        "id": "54Aw2oZZajFj"
      }
    },
    {
      "cell_type": "code",
      "source": [
        "a = np.array([1, 2, 3], float)\n",
        "s = a.tostring()\n",
        "s"
      ],
      "metadata": {
        "colab": {
          "base_uri": "https://localhost:8080/"
        },
        "id": "YVcnMnyraipw",
        "outputId": "5a8da753-bf51-4184-b4ba-5ba6fa24c24b"
      },
      "execution_count": 34,
      "outputs": [
        {
          "output_type": "stream",
          "name": "stderr",
          "text": [
            "<ipython-input-34-081ddcdb46bd>:2: DeprecationWarning: tostring() is deprecated. Use tobytes() instead.\n",
            "  s = a.tostring()\n"
          ]
        },
        {
          "output_type": "execute_result",
          "data": {
            "text/plain": [
              "b'\\x00\\x00\\x00\\x00\\x00\\x00\\xf0?\\x00\\x00\\x00\\x00\\x00\\x00\\x00@\\x00\\x00\\x00\\x00\\x00\\x00\\x08@'"
            ]
          },
          "metadata": {},
          "execution_count": 34
        }
      ]
    },
    {
      "cell_type": "code",
      "source": [
        "np.fromstring(s)"
      ],
      "metadata": {
        "colab": {
          "base_uri": "https://localhost:8080/"
        },
        "id": "z071FX7_atAv",
        "outputId": "a8cfa405-4716-47cd-8218-d852381cf3ca"
      },
      "execution_count": 35,
      "outputs": [
        {
          "output_type": "stream",
          "name": "stderr",
          "text": [
            "<ipython-input-35-6c2008ed54c7>:1: DeprecationWarning: The binary mode of fromstring is deprecated, as it behaves surprisingly on unicode inputs. Use frombuffer instead\n",
            "  np.fromstring(s)\n"
          ]
        },
        {
          "output_type": "execute_result",
          "data": {
            "text/plain": [
              "array([1., 2., 3.])"
            ]
          },
          "metadata": {},
          "execution_count": 35
        }
      ]
    },
    {
      "cell_type": "markdown",
      "source": [
        "Заполнение массива одинаковым значением:"
      ],
      "metadata": {
        "id": "9LniyjMSa2Ph"
      }
    },
    {
      "cell_type": "code",
      "source": [
        "a.fill(0)\n",
        "a"
      ],
      "metadata": {
        "colab": {
          "base_uri": "https://localhost:8080/"
        },
        "id": "ezWdjrCna4JP",
        "outputId": "624ea675-9513-4310-d389-d2b4f69363ad"
      },
      "execution_count": 36,
      "outputs": [
        {
          "output_type": "execute_result",
          "data": {
            "text/plain": [
              "array([0., 0., 0.])"
            ]
          },
          "metadata": {},
          "execution_count": 36
        }
      ]
    },
    {
      "cell_type": "markdown",
      "source": [
        "### Базовые операции над массивами:"
      ],
      "metadata": {
        "id": "A9Te1qZornCU"
      }
    },
    {
      "cell_type": "code",
      "source": [
        "a = np.array([2, 4, 3], float)\n",
        "a.sum() # - функции массива"
      ],
      "metadata": {
        "colab": {
          "base_uri": "https://localhost:8080/"
        },
        "id": "J9OHkojurmKU",
        "outputId": "c3fc860e-8675-4317-cf14-335843b4498c"
      },
      "execution_count": 37,
      "outputs": [
        {
          "output_type": "execute_result",
          "data": {
            "text/plain": [
              "9.0"
            ]
          },
          "metadata": {},
          "execution_count": 37
        }
      ]
    },
    {
      "cell_type": "code",
      "source": [
        "np.sum(a) #- собственные функции numpy"
      ],
      "metadata": {
        "colab": {
          "base_uri": "https://localhost:8080/"
        },
        "id": "3-bc0c1rsDWe",
        "outputId": "5514de93-1bd4-4b67-f03f-4be8fb70f940"
      },
      "execution_count": 38,
      "outputs": [
        {
          "output_type": "execute_result",
          "data": {
            "text/plain": [
              "9.0"
            ]
          },
          "metadata": {},
          "execution_count": 38
        }
      ]
    },
    {
      "cell_type": "code",
      "source": [
        "a.prod()"
      ],
      "metadata": {
        "colab": {
          "base_uri": "https://localhost:8080/"
        },
        "id": "TY6pQ-o4rvG3",
        "outputId": "8112fdd6-e92a-40d4-a11b-97a6aef58c61"
      },
      "execution_count": 39,
      "outputs": [
        {
          "output_type": "execute_result",
          "data": {
            "text/plain": [
              "24.0"
            ]
          },
          "metadata": {},
          "execution_count": 39
        }
      ]
    },
    {
      "cell_type": "code",
      "source": [
        "a.mean() #- среднее арифметическое"
      ],
      "metadata": {
        "colab": {
          "base_uri": "https://localhost:8080/"
        },
        "id": "VIFzsY9ns6QH",
        "outputId": "1744c238-1d0d-4ddf-8808-9f713525f2f6"
      },
      "execution_count": 40,
      "outputs": [
        {
          "output_type": "execute_result",
          "data": {
            "text/plain": [
              "3.0"
            ]
          },
          "metadata": {},
          "execution_count": 40
        }
      ]
    },
    {
      "cell_type": "code",
      "source": [
        "a.min()"
      ],
      "metadata": {
        "colab": {
          "base_uri": "https://localhost:8080/"
        },
        "id": "h_i4ivxwtKDh",
        "outputId": "c2b79463-dd8b-4904-b6f0-93e77af9f69f"
      },
      "execution_count": 41,
      "outputs": [
        {
          "output_type": "execute_result",
          "data": {
            "text/plain": [
              "2.0"
            ]
          },
          "metadata": {},
          "execution_count": 41
        }
      ]
    },
    {
      "cell_type": "markdown",
      "source": [
        "Функции argmin и argmax возвращают индекс минимального или максимального элемента:"
      ],
      "metadata": {
        "id": "A5-oENAUtmAf"
      }
    },
    {
      "cell_type": "code",
      "source": [
        "a.argmin()"
      ],
      "metadata": {
        "colab": {
          "base_uri": "https://localhost:8080/"
        },
        "id": "cfCFvX-6tLxP",
        "outputId": "d0ebee01-f171-463b-8de1-c316f2930756"
      },
      "execution_count": 42,
      "outputs": [
        {
          "output_type": "execute_result",
          "data": {
            "text/plain": [
              "0"
            ]
          },
          "metadata": {},
          "execution_count": 42
        }
      ]
    },
    {
      "cell_type": "code",
      "source": [
        "a = np.array([[0, 2], [3, -1], [3, 5]], float)\n",
        "a.mean(axis=0)"
      ],
      "metadata": {
        "colab": {
          "base_uri": "https://localhost:8080/"
        },
        "id": "ZxoOY1QkuXzd",
        "outputId": "f95353d6-8217-44d4-9ff1-214804e56f4d"
      },
      "execution_count": 43,
      "outputs": [
        {
          "output_type": "execute_result",
          "data": {
            "text/plain": [
              "array([2., 2.])"
            ]
          },
          "metadata": {},
          "execution_count": 43
        }
      ]
    },
    {
      "cell_type": "code",
      "source": [
        "a.mean(axis=1)"
      ],
      "metadata": {
        "colab": {
          "base_uri": "https://localhost:8080/"
        },
        "id": "7LX1Jwnyucb1",
        "outputId": "c80b9a68-d472-44ee-b4e0-100fb869d3c8"
      },
      "execution_count": 44,
      "outputs": [
        {
          "output_type": "execute_result",
          "data": {
            "text/plain": [
              "array([1., 1., 4.])"
            ]
          },
          "metadata": {},
          "execution_count": 44
        }
      ]
    },
    {
      "cell_type": "code",
      "source": [
        "print(a.min(axis=1))\n",
        "print(a.max(axis=0))"
      ],
      "metadata": {
        "colab": {
          "base_uri": "https://localhost:8080/"
        },
        "id": "DTo_LwWLui06",
        "outputId": "825394a8-c32e-43d2-a05c-d0f1b6e54140"
      },
      "execution_count": 45,
      "outputs": [
        {
          "output_type": "stream",
          "name": "stdout",
          "text": [
            "[ 0. -1.  3.]\n",
            "[3. 5.]\n"
          ]
        }
      ]
    },
    {
      "cell_type": "code",
      "source": [
        "a = np.array([6, 2, 5, -1, 0], float)\n",
        "sorted(a) #или a.sort()"
      ],
      "metadata": {
        "colab": {
          "base_uri": "https://localhost:8080/"
        },
        "id": "MFtBjAFcva1T",
        "outputId": "3d61959e-e5a6-43ae-bd10-cfeaef3581f4"
      },
      "execution_count": 46,
      "outputs": [
        {
          "output_type": "execute_result",
          "data": {
            "text/plain": [
              "[-1.0, 0.0, 2.0, 5.0, 6.0]"
            ]
          },
          "metadata": {},
          "execution_count": 46
        }
      ]
    },
    {
      "cell_type": "markdown",
      "source": [
        "Значения в массиве могут быть «сокращены», чтобы принадлежать заданному диапазону. Это тоже самое что применять min(max(x, minval), maxval) к каждому элементу x:"
      ],
      "metadata": {
        "id": "TKkWu8afwsYb"
      }
    },
    {
      "cell_type": "code",
      "source": [
        "a.clip(0, 5)"
      ],
      "metadata": {
        "colab": {
          "base_uri": "https://localhost:8080/"
        },
        "id": "WjYRpsc7vjer",
        "outputId": "dd086fcf-e9d0-4a0f-d40b-78011c09be1e"
      },
      "execution_count": 47,
      "outputs": [
        {
          "output_type": "execute_result",
          "data": {
            "text/plain": [
              "array([5., 2., 5., 0., 0.])"
            ]
          },
          "metadata": {},
          "execution_count": 47
        }
      ]
    },
    {
      "cell_type": "markdown",
      "source": [
        "Уникальные элементы могут быть извлечены вот так:"
      ],
      "metadata": {
        "id": "OAAQB52BxlZx"
      }
    },
    {
      "cell_type": "code",
      "source": [
        "a = np.array([1, 1, 4, 5, 5, 5, 7], float)\n",
        "np.unique(a)"
      ],
      "metadata": {
        "colab": {
          "base_uri": "https://localhost:8080/"
        },
        "id": "-UHjXugBw1WM",
        "outputId": "35c38a1a-a27c-4dd0-cfcc-5d37be949dad"
      },
      "execution_count": 48,
      "outputs": [
        {
          "output_type": "execute_result",
          "data": {
            "text/plain": [
              "array([1., 4., 5., 7.])"
            ]
          },
          "metadata": {},
          "execution_count": 48
        }
      ]
    },
    {
      "cell_type": "markdown",
      "source": [
        "Для двухмерных массивов диагональ можно получить так:"
      ],
      "metadata": {
        "id": "sRlceZ6Axpcv"
      }
    },
    {
      "cell_type": "code",
      "source": [
        "a = np.array([[1, 2], [3, 4]], float)\n",
        "a.diagonal()"
      ],
      "metadata": {
        "colab": {
          "base_uri": "https://localhost:8080/"
        },
        "id": "zGvTC2VLw5dh",
        "outputId": "84d9ab51-1880-420f-d7f8-7c55d19debe6"
      },
      "execution_count": 49,
      "outputs": [
        {
          "output_type": "execute_result",
          "data": {
            "text/plain": [
              "array([1., 4.])"
            ]
          },
          "metadata": {},
          "execution_count": 49
        }
      ]
    },
    {
      "cell_type": "markdown",
      "source": [
        "### Создание матриц\n",
        "В арсенале Numpy есть функции для создания специальных матриц: нулевых и единичных. Нулевой называется матрица, состоящая полностью из нулей. Для ее создания удобно использовать функцию **zeros()**, в качестве аргумента в нее передается кортеж из двух элементов, первый из них – это количество строк, второй – столбцов."
      ],
      "metadata": {
        "id": "gJv-geV3Okb2"
      }
    },
    {
      "cell_type": "code",
      "execution_count": 50,
      "metadata": {
        "ExecuteTime": {
          "end_time": "2023-08-23T14:30:38.319303Z",
          "start_time": "2023-08-23T14:30:38.316017Z"
        },
        "id": "4x8yK_VMqm-R",
        "outputId": "d31ce6a6-6ea9-4f4a-bb12-0b62ca2cd2a6",
        "colab": {
          "base_uri": "https://localhost:8080/"
        }
      },
      "outputs": [
        {
          "output_type": "execute_result",
          "data": {
            "text/plain": [
              "array([[0., 0., 0.],\n",
              "       [0., 0., 0.]])"
            ]
          },
          "metadata": {},
          "execution_count": 50
        }
      ],
      "source": [
        "np.zeros((2, 3))"
      ]
    },
    {
      "cell_type": "code",
      "execution_count": 51,
      "metadata": {
        "ExecuteTime": {
          "end_time": "2023-08-23T14:30:38.314186Z",
          "start_time": "2023-08-23T14:30:38.310751Z"
        },
        "id": "MEBAVMY7qm-R",
        "outputId": "e2ef8267-ab06-45a7-9eb2-095cbc018706",
        "colab": {
          "base_uri": "https://localhost:8080/"
        }
      },
      "outputs": [
        {
          "output_type": "execute_result",
          "data": {
            "text/plain": [
              "array([[1., 1.],\n",
              "       [1., 1.],\n",
              "       [1., 1.],\n",
              "       [1., 1.],\n",
              "       [1., 1.]])"
            ]
          },
          "metadata": {},
          "execution_count": 51
        }
      ],
      "source": [
        "np.ones((5,2))"
      ]
    },
    {
      "cell_type": "markdown",
      "source": [
        "Функция eye возвращает матрицу с единичками на к-атой диагонали:"
      ],
      "metadata": {
        "id": "_lel1uhNd9qN"
      }
    },
    {
      "cell_type": "code",
      "execution_count": 52,
      "metadata": {
        "ExecuteTime": {
          "end_time": "2023-08-23T14:30:38.324097Z",
          "start_time": "2023-08-23T14:30:38.320773Z"
        },
        "id": "1TneBVFCqm-R",
        "outputId": "e5fd3d94-4802-4858-8332-a4ad0dae185f",
        "colab": {
          "base_uri": "https://localhost:8080/"
        }
      },
      "outputs": [
        {
          "output_type": "execute_result",
          "data": {
            "text/plain": [
              "array([[1., 0., 0., 0.],\n",
              "       [0., 1., 0., 0.],\n",
              "       [0., 0., 1., 0.],\n",
              "       [0., 0., 0., 1.]])"
            ]
          },
          "metadata": {},
          "execution_count": 52
        }
      ],
      "source": [
        "np.eye(4)"
      ]
    },
    {
      "cell_type": "code",
      "source": [
        "np.eye(4, k=1, dtype=float)"
      ],
      "metadata": {
        "colab": {
          "base_uri": "https://localhost:8080/"
        },
        "id": "t3qCQEbAd_dA",
        "outputId": "f78d8c05-5e8e-4163-e70b-9a375e9a2fa0"
      },
      "execution_count": 53,
      "outputs": [
        {
          "output_type": "execute_result",
          "data": {
            "text/plain": [
              "array([[0., 1., 0., 0.],\n",
              "       [0., 0., 1., 0.],\n",
              "       [0., 0., 0., 1.],\n",
              "       [0., 0., 0., 0.]])"
            ]
          },
          "metadata": {},
          "execution_count": 53
        }
      ]
    },
    {
      "cell_type": "markdown",
      "source": [
        "Функции zeros_like и ones_like могут преобразовать уже созданный массив, заполнив его нулями и единицами соответственно:"
      ],
      "metadata": {
        "id": "P-J47hGoc_lY"
      }
    },
    {
      "cell_type": "code",
      "source": [
        "a = np.array([[1, 2, 3], [4, 5, 6]], float)\n",
        "np.zeros_like(a)"
      ],
      "metadata": {
        "colab": {
          "base_uri": "https://localhost:8080/"
        },
        "id": "10g63FCHdApq",
        "outputId": "dfe48be6-6a04-4fc3-89d1-68aa22c71a5e"
      },
      "execution_count": 54,
      "outputs": [
        {
          "output_type": "execute_result",
          "data": {
            "text/plain": [
              "array([[0., 0., 0.],\n",
              "       [0., 0., 0.]])"
            ]
          },
          "metadata": {},
          "execution_count": 54
        }
      ]
    },
    {
      "cell_type": "code",
      "source": [
        "np.ones_like(a)"
      ],
      "metadata": {
        "colab": {
          "base_uri": "https://localhost:8080/"
        },
        "id": "ueyKrgt7dHpe",
        "outputId": "118f8597-0ae6-4ebd-9e64-a3efca710fb9"
      },
      "execution_count": 55,
      "outputs": [
        {
          "output_type": "execute_result",
          "data": {
            "text/plain": [
              "array([[1., 1., 1.],\n",
              "       [1., 1., 1.]])"
            ]
          },
          "metadata": {},
          "execution_count": 55
        }
      ]
    },
    {
      "cell_type": "markdown",
      "source": [
        "Для двухмерных массивов, умножение остается поэлементным и не соответствует умножению матриц:"
      ],
      "metadata": {
        "id": "htSBZA2CmxDj"
      }
    },
    {
      "cell_type": "code",
      "source": [
        "a = np.array([[1,2], [3,4]], float)\n",
        "b = np.array([[2,0], [1,3]], float)\n",
        "print(a * b)"
      ],
      "metadata": {
        "colab": {
          "base_uri": "https://localhost:8080/"
        },
        "id": "XwSOgF2Mmwo3",
        "outputId": "362e1520-10f0-48d4-ad20-057d6a15b5fb"
      },
      "execution_count": 56,
      "outputs": [
        {
          "output_type": "stream",
          "name": "stdout",
          "text": [
            "[[ 2.  0.]\n",
            " [ 3. 12.]]\n"
          ]
        }
      ]
    },
    {
      "cell_type": "code",
      "source": [
        "a = np.array([1,2,3], float)\n",
        "b = np.array([4,5], float)\n",
        "print(a + b)"
      ],
      "metadata": {
        "id": "e4fwERzunjeP",
        "colab": {
          "base_uri": "https://localhost:8080/",
          "height": 176
        },
        "outputId": "3b89633d-0aab-42e5-e2a2-ef587d502ee4"
      },
      "execution_count": 60,
      "outputs": [
        {
          "output_type": "error",
          "ename": "ValueError",
          "evalue": "operands could not be broadcast together with shapes (3,) (2,) ",
          "traceback": [
            "\u001b[0;31m---------------------------------------------------------------------------\u001b[0m",
            "\u001b[0;31mValueError\u001b[0m                                Traceback (most recent call last)",
            "\u001b[0;32m<ipython-input-60-02089d693029>\u001b[0m in \u001b[0;36m<cell line: 3>\u001b[0;34m()\u001b[0m\n\u001b[1;32m      1\u001b[0m \u001b[0ma\u001b[0m \u001b[0;34m=\u001b[0m \u001b[0mnp\u001b[0m\u001b[0;34m.\u001b[0m\u001b[0marray\u001b[0m\u001b[0;34m(\u001b[0m\u001b[0;34m[\u001b[0m\u001b[0;36m1\u001b[0m\u001b[0;34m,\u001b[0m\u001b[0;36m2\u001b[0m\u001b[0;34m,\u001b[0m\u001b[0;36m3\u001b[0m\u001b[0;34m]\u001b[0m\u001b[0;34m,\u001b[0m \u001b[0mfloat\u001b[0m\u001b[0;34m)\u001b[0m\u001b[0;34m\u001b[0m\u001b[0;34m\u001b[0m\u001b[0m\n\u001b[1;32m      2\u001b[0m \u001b[0mb\u001b[0m \u001b[0;34m=\u001b[0m \u001b[0mnp\u001b[0m\u001b[0;34m.\u001b[0m\u001b[0marray\u001b[0m\u001b[0;34m(\u001b[0m\u001b[0;34m[\u001b[0m\u001b[0;36m4\u001b[0m\u001b[0;34m,\u001b[0m\u001b[0;36m5\u001b[0m\u001b[0;34m]\u001b[0m\u001b[0;34m,\u001b[0m \u001b[0mfloat\u001b[0m\u001b[0;34m)\u001b[0m\u001b[0;34m\u001b[0m\u001b[0;34m\u001b[0m\u001b[0m\n\u001b[0;32m----> 3\u001b[0;31m \u001b[0mprint\u001b[0m\u001b[0;34m(\u001b[0m\u001b[0ma\u001b[0m \u001b[0;34m+\u001b[0m \u001b[0mb\u001b[0m\u001b[0;34m)\u001b[0m\u001b[0;34m\u001b[0m\u001b[0;34m\u001b[0m\u001b[0m\n\u001b[0m",
            "\u001b[0;31mValueError\u001b[0m: operands could not be broadcast together with shapes (3,) (2,) "
          ]
        }
      ]
    },
    {
      "cell_type": "markdown",
      "source": [
        "Однако, если размерность массивов не совпадает, они будут преобразованы для выполнения математических операций. Это зачастую означает, что меньший массив будет использован несколько раз для завершения операций.   \n"
      ],
      "metadata": {
        "id": "SMuJe6WEoqzK"
      }
    },
    {
      "cell_type": "code",
      "source": [
        "a = np.array([[1, 2], [3, 4], [5, 6]], float)\n",
        "b = np.array([-1, 3], float)\n",
        "a+b"
      ],
      "metadata": {
        "colab": {
          "base_uri": "https://localhost:8080/"
        },
        "id": "p2UFzHeQol1W",
        "outputId": "e7fccf07-9b36-4884-eb9a-99689e2e6535"
      },
      "execution_count": 61,
      "outputs": [
        {
          "output_type": "execute_result",
          "data": {
            "text/plain": [
              "array([[0., 5.],\n",
              "       [2., 7.],\n",
              "       [4., 9.]])"
            ]
          },
          "metadata": {},
          "execution_count": 61
        }
      ]
    },
    {
      "cell_type": "markdown",
      "source": [
        "Тут, одномерный массив b был преобразован в двухмерный, который соответствует размеру массива a. По существу, b был повторен несколько раз, для каждой «строки» a. Иначе его можно представить так:  \n",
        "*array([[-1.,  3.],  \n",
        "        [-1.,  3.],  \n",
        "          [-1.,  3.]])*"
      ],
      "metadata": {
        "id": "1Cneri6ipOYT"
      }
    },
    {
      "cell_type": "markdown",
      "source": [
        "### Работа с матрицами и векторами\n",
        "Вектора и матрицы, построенные с помощью Numpy можно складывать, вычитать, умножать, транспонировать и умножать на число."
      ],
      "metadata": {
        "id": "vsytGx6GPUbq"
      }
    },
    {
      "cell_type": "code",
      "source": [
        "A = np.matrix('[1, 2; 3, 4]')\n",
        "B = np.matrix('[5, 6; 7, 8]')"
      ],
      "metadata": {
        "id": "AyWHswTlPc_Z"
      },
      "execution_count": 63,
      "outputs": []
    },
    {
      "cell_type": "code",
      "source": [
        "A + B"
      ],
      "metadata": {
        "colab": {
          "base_uri": "https://localhost:8080/"
        },
        "id": "isexavu9Pc5r",
        "outputId": "0d3ee22e-af6d-4e07-a272-84160c4218ba"
      },
      "execution_count": 64,
      "outputs": [
        {
          "output_type": "execute_result",
          "data": {
            "text/plain": [
              "matrix([[ 6,  8],\n",
              "        [10, 12]])"
            ]
          },
          "metadata": {},
          "execution_count": 64
        }
      ]
    },
    {
      "cell_type": "code",
      "source": [
        "A - B"
      ],
      "metadata": {
        "colab": {
          "base_uri": "https://localhost:8080/"
        },
        "id": "pdDBLxVPPcyb",
        "outputId": "393e8c61-aa78-4b0b-a04b-f4634f8dc41d"
      },
      "execution_count": 65,
      "outputs": [
        {
          "output_type": "execute_result",
          "data": {
            "text/plain": [
              "matrix([[-4, -4],\n",
              "        [-4, -4]])"
            ]
          },
          "metadata": {},
          "execution_count": 65
        }
      ]
    },
    {
      "cell_type": "code",
      "source": [
        "3 * A"
      ],
      "metadata": {
        "colab": {
          "base_uri": "https://localhost:8080/"
        },
        "id": "WTX13F3mPwxF",
        "outputId": "3406fac4-6514-415f-8e5a-45370acc1c59"
      },
      "execution_count": 66,
      "outputs": [
        {
          "output_type": "execute_result",
          "data": {
            "text/plain": [
              "matrix([[ 3,  6],\n",
              "        [ 9, 12]])"
            ]
          },
          "metadata": {},
          "execution_count": 66
        }
      ]
    },
    {
      "cell_type": "code",
      "source": [
        "#перемножение матриц\n",
        "\n",
        "A*B"
      ],
      "metadata": {
        "colab": {
          "base_uri": "https://localhost:8080/"
        },
        "id": "OcWhgWCxP3JZ",
        "outputId": "a8baac3e-6d66-4284-812a-8692159d1bc0"
      },
      "execution_count": 74,
      "outputs": [
        {
          "output_type": "execute_result",
          "data": {
            "text/plain": [
              "matrix([[19, 22],\n",
              "        [43, 50]])"
            ]
          },
          "metadata": {},
          "execution_count": 74
        }
      ]
    },
    {
      "cell_type": "code",
      "source": [
        "#транспонирование матриц\n",
        "A.T\n",
        "np.transpose(A)"
      ],
      "metadata": {
        "colab": {
          "base_uri": "https://localhost:8080/"
        },
        "id": "aEDJBrc0QEup",
        "outputId": "b384b20a-c0ef-482e-d645-8703a2b712cf"
      },
      "execution_count": 70,
      "outputs": [
        {
          "output_type": "execute_result",
          "data": {
            "text/plain": [
              "matrix([[1, 3],\n",
              "        [2, 4]])"
            ]
          },
          "metadata": {},
          "execution_count": 70
        }
      ]
    },
    {
      "cell_type": "markdown",
      "source": [
        "### **np.ravel()**\n",
        "Функция **np.ravel()** используется для того, чтобы преобразовать матрицу в одномерный вектор."
      ],
      "metadata": {
        "id": "zqjC24bkQUP-"
      }
    },
    {
      "cell_type": "code",
      "source": [
        "A = np.array([[1, 2, 3], [4, 5, 6], [7, 8, 9]])\n",
        "A"
      ],
      "metadata": {
        "colab": {
          "base_uri": "https://localhost:8080/"
        },
        "id": "9gGN7QkvQaZQ",
        "outputId": "b328add5-1db9-4609-ee7a-da9e359dd656"
      },
      "execution_count": 75,
      "outputs": [
        {
          "output_type": "execute_result",
          "data": {
            "text/plain": [
              "array([[1, 2, 3],\n",
              "       [4, 5, 6],\n",
              "       [7, 8, 9]])"
            ]
          },
          "metadata": {},
          "execution_count": 75
        }
      ]
    },
    {
      "cell_type": "code",
      "source": [
        "np.ravel(A)"
      ],
      "metadata": {
        "colab": {
          "base_uri": "https://localhost:8080/"
        },
        "id": "I1jcHeoOQkrE",
        "outputId": "41629c77-5de9-4d73-8338-abaf8fd1bb84"
      },
      "execution_count": 76,
      "outputs": [
        {
          "output_type": "execute_result",
          "data": {
            "text/plain": [
              "array([1, 2, 3, 4, 5, 6, 7, 8, 9])"
            ]
          },
          "metadata": {},
          "execution_count": 76
        }
      ]
    },
    {
      "cell_type": "markdown",
      "source": [
        "У **ravel()** есть параметр order, который отвечает за порядок построения одномерного массива, по умолчанию он равен ‘C’, что означает – массив будет собираться из строк исходной матрицы. Если указать order=‘F‘, то в качестве элементов для сборки будут выступать столбцы матрицы."
      ],
      "metadata": {
        "id": "zGL8AkrUQ75n"
      }
    },
    {
      "cell_type": "code",
      "source": [
        "np.ravel(A, order='C')"
      ],
      "metadata": {
        "colab": {
          "base_uri": "https://localhost:8080/"
        },
        "id": "HKH1q-quQ-w0",
        "outputId": "621c49d6-8eb1-4b2a-f614-7a842d9b37e3"
      },
      "execution_count": 77,
      "outputs": [
        {
          "output_type": "execute_result",
          "data": {
            "text/plain": [
              "array([1, 2, 3, 4, 5, 6, 7, 8, 9])"
            ]
          },
          "metadata": {},
          "execution_count": 77
        }
      ]
    },
    {
      "cell_type": "code",
      "source": [
        "np.ravel(A, order='F')"
      ],
      "metadata": {
        "colab": {
          "base_uri": "https://localhost:8080/"
        },
        "id": "QDG4km4KQ-si",
        "outputId": "fb4dc599-f498-4a49-e7d3-85854ef8ca5c"
      },
      "execution_count": 78,
      "outputs": [
        {
          "output_type": "execute_result",
          "data": {
            "text/plain": [
              "array([1, 4, 7, 2, 5, 8, 3, 6, 9])"
            ]
          },
          "metadata": {},
          "execution_count": 78
        }
      ]
    },
    {
      "cell_type": "markdown",
      "source": [
        "**np.where()**  \n",
        "Данная функция возвращает один из двух заданных элементов в зависимости от условия. Ее можно использовать для обработки численных данных."
      ],
      "metadata": {
        "id": "YmP5oLabSSgA"
      }
    },
    {
      "cell_type": "code",
      "source": [
        "a = np.array([0, 1, 2, 3, 4, 5, 6, 7, 8, 9])\n",
        "np.where(a % 2 == 0, a * 10, a / 10)"
      ],
      "metadata": {
        "colab": {
          "base_uri": "https://localhost:8080/"
        },
        "id": "0Edl7CLmSVrr",
        "outputId": "f8374cc6-976a-4bf8-9bb6-b80b696d7604"
      },
      "execution_count": 79,
      "outputs": [
        {
          "output_type": "execute_result",
          "data": {
            "text/plain": [
              "array([ 0. ,  0.1, 20. ,  0.3, 40. ,  0.5, 60. ,  0.7, 80. ,  0.9])"
            ]
          },
          "metadata": {},
          "execution_count": 79
        }
      ]
    },
    {
      "cell_type": "markdown",
      "source": [
        "В задачах машинного обучения эта функция хорошо подходит для реализации обработки данных с помощью пороговой функции."
      ],
      "metadata": {
        "id": "5_PEMRoESuAk"
      }
    },
    {
      "cell_type": "code",
      "source": [
        "a = np.random.rand(10)\n",
        "a"
      ],
      "metadata": {
        "colab": {
          "base_uri": "https://localhost:8080/"
        },
        "id": "85n3rx4nSqwf",
        "outputId": "3dd73a33-665b-4070-d5b8-a703742e4557"
      },
      "execution_count": 80,
      "outputs": [
        {
          "output_type": "execute_result",
          "data": {
            "text/plain": [
              "array([0.86813452, 0.71438534, 0.9691401 , 0.22440614, 0.7400353 ,\n",
              "       0.86469185, 0.14908653, 0.35642324, 0.6685356 , 0.93300739])"
            ]
          },
          "metadata": {},
          "execution_count": 80
        }
      ]
    },
    {
      "cell_type": "code",
      "source": [
        "np.where(a > 0.5, True, False)"
      ],
      "metadata": {
        "colab": {
          "base_uri": "https://localhost:8080/"
        },
        "id": "mjyavGefS02I",
        "outputId": "15b42dd3-96b3-40b7-e341-6a28a51003a6"
      },
      "execution_count": 81,
      "outputs": [
        {
          "output_type": "execute_result",
          "data": {
            "text/plain": [
              "array([ True,  True,  True, False,  True,  True, False, False,  True,\n",
              "        True])"
            ]
          },
          "metadata": {},
          "execution_count": 81
        }
      ]
    },
    {
      "cell_type": "code",
      "source": [
        "np.where(a > 0.5, 1, -1)"
      ],
      "metadata": {
        "colab": {
          "base_uri": "https://localhost:8080/"
        },
        "id": "ZnYd6TdcS-Pk",
        "outputId": "81be59cc-600b-4da1-8f47-4cbca5601c84"
      },
      "execution_count": 82,
      "outputs": [
        {
          "output_type": "execute_result",
          "data": {
            "text/plain": [
              "array([ 1,  1,  1, -1,  1,  1, -1, -1,  1,  1])"
            ]
          },
          "metadata": {},
          "execution_count": 82
        }
      ]
    },
    {
      "cell_type": "markdown",
      "source": [
        "**np.meshgrid()**  \n",
        "Функция **meshgrid()** позволят получить матрицу координат из координатных векторов. Если, например, у нас есть два одномерных вектора координат, то передав их в качестве аргументов в meshgrid() мы получим две матрицы, в которой элементы будут составлять пары, заполняя все пространство, определяемое этими векторами."
      ],
      "metadata": {
        "id": "PJlQlA8EUYLp"
      }
    },
    {
      "cell_type": "code",
      "source": [
        "x = np.linspace(0, 1, 5)\n",
        "y = np.linspace(0, 2, 5)"
      ],
      "metadata": {
        "id": "MvZ0EZ73UbZE"
      },
      "execution_count": 83,
      "outputs": []
    },
    {
      "cell_type": "code",
      "source": [
        "xg, yg = np.meshgrid(x, y)\n",
        "xg, yg"
      ],
      "metadata": {
        "colab": {
          "base_uri": "https://localhost:8080/"
        },
        "id": "YneBUfYcUg65",
        "outputId": "d507abc9-b84e-4487-ed84-141e7f8885e3"
      },
      "execution_count": 84,
      "outputs": [
        {
          "output_type": "execute_result",
          "data": {
            "text/plain": [
              "(array([[0.  , 0.25, 0.5 , 0.75, 1.  ],\n",
              "        [0.  , 0.25, 0.5 , 0.75, 1.  ],\n",
              "        [0.  , 0.25, 0.5 , 0.75, 1.  ],\n",
              "        [0.  , 0.25, 0.5 , 0.75, 1.  ],\n",
              "        [0.  , 0.25, 0.5 , 0.75, 1.  ]]),\n",
              " array([[0. , 0. , 0. , 0. , 0. ],\n",
              "        [0.5, 0.5, 0.5, 0.5, 0.5],\n",
              "        [1. , 1. , 1. , 1. , 1. ],\n",
              "        [1.5, 1.5, 1.5, 1.5, 1.5],\n",
              "        [2. , 2. , 2. , 2. , 2. ]]))"
            ]
          },
          "metadata": {},
          "execution_count": 84
        }
      ]
    },
    {
      "cell_type": "code",
      "source": [
        "import matplotlib.pyplot as plt"
      ],
      "metadata": {
        "id": "t7m6Y07BUpXn"
      },
      "execution_count": 85,
      "outputs": []
    },
    {
      "cell_type": "code",
      "source": [
        "plt.plot(xg, yg, color=\"r\", marker=\"*\",  linestyle=\"none\")"
      ],
      "metadata": {
        "colab": {
          "base_uri": "https://localhost:8080/",
          "height": 517
        },
        "id": "9JRYq55FUwK1",
        "outputId": "93113a78-b880-41cc-b8bb-ecae8a8e75f7"
      },
      "execution_count": 86,
      "outputs": [
        {
          "output_type": "execute_result",
          "data": {
            "text/plain": [
              "[<matplotlib.lines.Line2D at 0x7957546694e0>,\n",
              " <matplotlib.lines.Line2D at 0x795754668400>,\n",
              " <matplotlib.lines.Line2D at 0x795754668370>,\n",
              " <matplotlib.lines.Line2D at 0x795754668040>,\n",
              " <matplotlib.lines.Line2D at 0x795754668a60>]"
            ]
          },
          "metadata": {},
          "execution_count": 86
        },
        {
          "output_type": "display_data",
          "data": {
            "text/plain": [
              "<Figure size 640x480 with 1 Axes>"
            ],
            "image/png": "[encoded data removed]"
          },
          "metadata": {}
        }
      ]
    },
    {
      "cell_type": "markdown",
      "metadata": {
        "id": "jWFyECeeqm-R"
      },
      "source": [
        "#### Случайные массивы"
      ]
    },
    {
      "cell_type": "code",
      "execution_count": 89,
      "metadata": {
        "ExecuteTime": {
          "end_time": "2023-08-23T14:30:38.329516Z",
          "start_time": "2023-08-23T14:30:38.325763Z"
        },
        "id": "TLuRN_inqm-S",
        "outputId": "c2daaeb6-ec86-4647-e5f2-4d8022aa920a",
        "colab": {
          "base_uri": "https://localhost:8080/"
        }
      },
      "outputs": [
        {
          "output_type": "execute_result",
          "data": {
            "text/plain": [
              "array([[0.07179369, 0.64128961, 0.38919165],\n",
              "       [0.42573947, 0.97106592, 0.17084165]])"
            ]
          },
          "metadata": {},
          "execution_count": 89
        }
      ],
      "source": [
        "np.random.rand(2, 3) # Равномерное распределение на [0, 1]"
      ]
    },
    {
      "cell_type": "code",
      "execution_count": 90,
      "metadata": {
        "ExecuteTime": {
          "end_time": "2023-08-23T14:30:38.335275Z",
          "start_time": "2023-08-23T14:30:38.331389Z"
        },
        "id": "MBgvI4Rcqm-S",
        "outputId": "c5fb241a-f9bf-45b7-e5f0-2b4ef0adf927",
        "colab": {
          "base_uri": "https://localhost:8080/"
        }
      },
      "outputs": [
        {
          "output_type": "execute_result",
          "data": {
            "text/plain": [
              "array([[ 6.66283013,  1.097334  ,  4.57305232,  5.69305286,  1.41013396],\n",
              "       [-4.8133105 , -1.65840561, -2.69616058,  2.9961518 , -0.55298145],\n",
              "       [-2.14347879,  4.36847474,  7.59043309,  5.71362045,  9.24543576],\n",
              "       [-0.8918428 ,  2.86326038,  2.22006121, -0.13011298,  8.73547413]])"
            ]
          },
          "metadata": {},
          "execution_count": 90
        }
      ],
      "source": [
        "np.random.normal(4, 5, size=(4, 5)) # Гауссово распределение"
      ]
    },
    {
      "cell_type": "markdown",
      "source": [
        "**np.random.permutation()**  \n",
        "Функция permutation() либо генерирует список заданной длины из натуральных чисел от нуля до указанного числа, либо перемешивает переданный ей в качестве аргумента массив.\n"
      ],
      "metadata": {
        "id": "4b3SbEPVVHQB"
      }
    },
    {
      "cell_type": "code",
      "source": [
        "np.random.permutation(7)"
      ],
      "metadata": {
        "colab": {
          "base_uri": "https://localhost:8080/"
        },
        "id": "L3fET1g6VJjA",
        "outputId": "292bf07b-928d-4726-d890-d3183b37a37a"
      },
      "execution_count": 91,
      "outputs": [
        {
          "output_type": "execute_result",
          "data": {
            "text/plain": [
              "array([1, 2, 0, 4, 3, 5, 6])"
            ]
          },
          "metadata": {},
          "execution_count": 91
        }
      ]
    },
    {
      "cell_type": "code",
      "source": [
        "a = ['a', 'b', 'c', 'd', 'e']\n",
        "np.random.permutation(a)"
      ],
      "metadata": {
        "colab": {
          "base_uri": "https://localhost:8080/"
        },
        "id": "GKrxhnJ1Vrtp",
        "outputId": "1568a9c0-93fb-4a0a-e38c-040a080429be"
      },
      "execution_count": 92,
      "outputs": [
        {
          "output_type": "execute_result",
          "data": {
            "text/plain": [
              "array(['d', 'c', 'e', 'b', 'a'], dtype='<U1')"
            ]
          },
          "metadata": {},
          "execution_count": 92
        }
      ]
    },
    {
      "cell_type": "markdown",
      "source": [
        "Основное практическое применение эта функция находит в задачах машинного обучения, где довольно часто требуется перемешать выборку данных перед тем, как передавать ее в алгоритм."
      ],
      "metadata": {
        "id": "ckniLgsDV7-c"
      }
    },
    {
      "cell_type": "code",
      "source": [
        "arr = np.linspace(0, 10, 5)\n",
        "arr"
      ],
      "metadata": {
        "colab": {
          "base_uri": "https://localhost:8080/"
        },
        "id": "wgB4IdvzV9NG",
        "outputId": "55b240a0-fbbb-4eb1-b35a-1fc55a92a7a8"
      },
      "execution_count": 93,
      "outputs": [
        {
          "output_type": "execute_result",
          "data": {
            "text/plain": [
              "array([ 0. ,  2.5,  5. ,  7.5, 10. ])"
            ]
          },
          "metadata": {},
          "execution_count": 93
        }
      ]
    },
    {
      "cell_type": "code",
      "source": [
        "arr_mix = np.random.permutation(arr)\n",
        "arr_mix"
      ],
      "metadata": {
        "colab": {
          "base_uri": "https://localhost:8080/"
        },
        "id": "gR0tuZe2V9Ii",
        "outputId": "ae235f3c-e400-49b3-d465-07a3c825bd5a"
      },
      "execution_count": 94,
      "outputs": [
        {
          "output_type": "execute_result",
          "data": {
            "text/plain": [
              "array([ 7.5,  5. ,  2.5,  0. , 10. ])"
            ]
          },
          "metadata": {},
          "execution_count": 94
        }
      ]
    },
    {
      "cell_type": "code",
      "source": [
        "index_mix = np.random.permutation(len(arr_mix))\n",
        "index_mix"
      ],
      "metadata": {
        "colab": {
          "base_uri": "https://localhost:8080/"
        },
        "id": "iYBA-IecV9Di",
        "outputId": "e1c7b859-3f77-40b2-8dd2-3ef178b35086"
      },
      "execution_count": 95,
      "outputs": [
        {
          "output_type": "execute_result",
          "data": {
            "text/plain": [
              "array([1, 2, 3, 0, 4])"
            ]
          },
          "metadata": {},
          "execution_count": 95
        }
      ]
    },
    {
      "cell_type": "code",
      "source": [
        "res = arr[index_mix]\n",
        "res"
      ],
      "metadata": {
        "colab": {
          "base_uri": "https://localhost:8080/"
        },
        "id": "mskFHVWoWZdt",
        "outputId": "e0dd24eb-16aa-4249-cde6-17fd631ce773"
      },
      "execution_count": 96,
      "outputs": [
        {
          "output_type": "execute_result",
          "data": {
            "text/plain": [
              "array([ 2.5,  5. ,  7.5,  0. , 10. ])"
            ]
          },
          "metadata": {},
          "execution_count": 96
        }
      ]
    },
    {
      "cell_type": "markdown",
      "metadata": {
        "id": "tI-4jMreqm-S"
      },
      "source": [
        "#### Индексация и взятие среза"
      ]
    },
    {
      "cell_type": "code",
      "execution_count": 97,
      "metadata": {
        "ExecuteTime": {
          "end_time": "2023-08-23T14:30:38.341346Z",
          "start_time": "2023-08-23T14:30:38.337027Z"
        },
        "id": "4PjMBI3cqm-S",
        "outputId": "b404339d-9763-420e-f0e8-d2fa0a6fef4e",
        "colab": {
          "base_uri": "https://localhost:8080/"
        }
      },
      "outputs": [
        {
          "output_type": "execute_result",
          "data": {
            "text/plain": [
              "array([[ 0,  1,  2,  3,  4,  5,  6,  7,  8],\n",
              "       [ 9, 10, 11, 12, 13, 14, 15, 16, 17],\n",
              "       [18, 19, 20, 21, 22, 23, 24, 25, 26]])"
            ]
          },
          "metadata": {},
          "execution_count": 97
        }
      ],
      "source": [
        "a = np.arange(27).reshape(3, 9)\n",
        "\n",
        "a"
      ]
    },
    {
      "cell_type": "code",
      "execution_count": 102,
      "metadata": {
        "ExecuteTime": {
          "end_time": "2023-08-23T14:30:38.345759Z",
          "start_time": "2023-08-23T14:30:38.342963Z"
        },
        "id": "YhRyRgZtqm-S",
        "outputId": "3730200d-6a0d-4f89-c274-dc40d769f267",
        "colab": {
          "base_uri": "https://localhost:8080/"
        }
      },
      "outputs": [
        {
          "output_type": "stream",
          "name": "stdout",
          "text": [
            "[18 19 20 21 22 23 24 25 26] (9,)\n"
          ]
        }
      ],
      "source": [
        "#  В качестве срезов можно извлекать как столбцы так и строки\n",
        "\n",
        "print(a[2, :], a[2, :].shape)    #  Извлекаем столбец, равносильно a[0:3, 0]"
      ]
    },
    {
      "cell_type": "code",
      "execution_count": 106,
      "metadata": {
        "ExecuteTime": {
          "end_time": "2023-08-23T14:30:38.350650Z",
          "start_time": "2023-08-23T14:30:38.347452Z"
        },
        "id": "PDE_EiTdqm-S",
        "outputId": "f94601e6-791b-417b-e05a-d3ff8f28acda",
        "colab": {
          "base_uri": "https://localhost:8080/"
        }
      },
      "outputs": [
        {
          "output_type": "execute_result",
          "data": {
            "text/plain": [
              "array([11, 20])"
            ]
          },
          "metadata": {},
          "execution_count": 106
        }
      ],
      "source": [
        "a[1:6, 2]    #  Можно извлечь часть столбца"
      ]
    },
    {
      "cell_type": "code",
      "execution_count": 107,
      "metadata": {
        "ExecuteTime": {
          "end_time": "2023-08-23T14:30:38.355421Z",
          "start_time": "2023-08-23T14:30:38.352330Z"
        },
        "id": "814WuLy0qm-T",
        "outputId": "9893da49-9e29-4d61-ec4c-1ce73ad1e41d",
        "colab": {
          "base_uri": "https://localhost:8080/"
        }
      },
      "outputs": [
        {
          "output_type": "execute_result",
          "data": {
            "text/plain": [
              "array([[ 3,  4,  5,  6],\n",
              "       [12, 13, 14, 15]])"
            ]
          },
          "metadata": {},
          "execution_count": 107
        }
      ],
      "source": [
        "a[0:2, 3:7]    #  Срез из строк и срез каждой строки"
      ]
    },
    {
      "cell_type": "code",
      "execution_count": 111,
      "metadata": {
        "ExecuteTime": {
          "end_time": "2023-08-23T14:30:38.359966Z",
          "start_time": "2023-08-23T14:30:38.357065Z"
        },
        "id": "pVxm6C4Yqm-T",
        "outputId": "0daa86f0-5098-4c87-fd3f-0aa4e657163c",
        "colab": {
          "base_uri": "https://localhost:8080/"
        }
      },
      "outputs": [
        {
          "output_type": "execute_result",
          "data": {
            "text/plain": [
              "26"
            ]
          },
          "metadata": {},
          "execution_count": 111
        }
      ],
      "source": [
        "a[2, 8]    # Или просто обратиться к элементу"
      ]
    },
    {
      "cell_type": "markdown",
      "metadata": {
        "id": "7brYf-3xqm-T"
      },
      "source": [
        "#### Помним про специфику копирования массивов в питоне"
      ]
    },
    {
      "cell_type": "code",
      "execution_count": 112,
      "metadata": {
        "ExecuteTime": {
          "end_time": "2023-08-23T14:30:38.364380Z",
          "start_time": "2023-08-23T14:30:38.361492Z"
        },
        "id": "YbHdzGSjqm-T",
        "outputId": "251e4169-9111-4d31-a8a1-6b27f6bfe915",
        "colab": {
          "base_uri": "https://localhost:8080/"
        }
      },
      "outputs": [
        {
          "output_type": "stream",
          "name": "stdout",
          "text": [
            "[1 2 3 4] [1 2 3 4]\n",
            "[-100    2    3    4] [-100    2    3    4]\n"
          ]
        }
      ],
      "source": [
        "A = np.array([1, 2, 3, 4])\n",
        "B = A\n",
        "\n",
        "print(A, B)\n",
        "\n",
        "B[0] = -100\n",
        "print(A, B)"
      ]
    },
    {
      "cell_type": "code",
      "execution_count": 113,
      "metadata": {
        "ExecuteTime": {
          "end_time": "2023-08-23T14:30:38.368915Z",
          "start_time": "2023-08-23T14:30:38.365884Z"
        },
        "id": "awaSLDOtqm-T",
        "outputId": "b97523c4-48e2-47ba-da58-fe259b1828cb",
        "colab": {
          "base_uri": "https://localhost:8080/"
        }
      },
      "outputs": [
        {
          "output_type": "stream",
          "name": "stdout",
          "text": [
            "[1 2 3 4] [1 2 3 4]\n",
            "[1 2 3 4] [-100    2    3    4]\n"
          ]
        }
      ],
      "source": [
        "A = np.array([1, 2, 3, 4])\n",
        "B = A.copy()\n",
        "\n",
        "print(A, B)\n",
        "\n",
        "B[0] = -100\n",
        "print(A, B)"
      ]
    },
    {
      "cell_type": "markdown",
      "metadata": {
        "id": "FxlrM1xtqm-T"
      },
      "source": [
        "#### Обычные операции с матрицами выполняются поэлементно!"
      ]
    },
    {
      "cell_type": "code",
      "execution_count": 114,
      "metadata": {
        "ExecuteTime": {
          "end_time": "2023-08-23T14:30:38.373109Z",
          "start_time": "2023-08-23T14:30:38.370498Z"
        },
        "id": "nL_g49GQqm-T",
        "outputId": "6b8e57b6-9d81-45dd-88b7-ec60a7c5f73b",
        "colab": {
          "base_uri": "https://localhost:8080/"
        }
      },
      "outputs": [
        {
          "output_type": "stream",
          "name": "stdout",
          "text": [
            "[1 2 3 4] [ 1  4  9 16]\n"
          ]
        }
      ],
      "source": [
        "C = A**2\n",
        "\n",
        "print(A, C)"
      ]
    },
    {
      "cell_type": "code",
      "execution_count": 115,
      "metadata": {
        "ExecuteTime": {
          "end_time": "2023-08-23T14:30:38.377779Z",
          "start_time": "2023-08-23T14:30:38.374677Z"
        },
        "id": "eejfB8roqm-U",
        "outputId": "4152759c-f522-4136-bb6e-176799d62280",
        "colab": {
          "base_uri": "https://localhost:8080/"
        }
      },
      "outputs": [
        {
          "output_type": "execute_result",
          "data": {
            "text/plain": [
              "array([ 0.84147098,  0.90929743,  0.14112001, -0.7568025 ])"
            ]
          },
          "metadata": {},
          "execution_count": 115
        }
      ],
      "source": [
        "np.sin(A)"
      ]
    },
    {
      "cell_type": "code",
      "execution_count": 116,
      "metadata": {
        "ExecuteTime": {
          "end_time": "2023-08-23T14:30:38.383088Z",
          "start_time": "2023-08-23T14:30:38.379628Z"
        },
        "id": "8t_iXXL9qm-U",
        "outputId": "02170f88-e071-468b-d5e5-c90cad145deb",
        "colab": {
          "base_uri": "https://localhost:8080/"
        }
      },
      "outputs": [
        {
          "output_type": "execute_result",
          "data": {
            "text/plain": [
              "array([[1, 2],\n",
              "       [3, 4]])"
            ]
          },
          "metadata": {},
          "execution_count": 116
        }
      ],
      "source": [
        "A = A.reshape((2, 2))\n",
        "\n",
        "A"
      ]
    },
    {
      "cell_type": "code",
      "execution_count": 119,
      "metadata": {
        "ExecuteTime": {
          "end_time": "2023-08-23T14:30:38.388278Z",
          "start_time": "2023-08-23T14:30:38.384803Z"
        },
        "id": "aqC-u09Wqm-c",
        "outputId": "732a1d3f-cf2a-4068-a434-48ffc6132608",
        "colab": {
          "base_uri": "https://localhost:8080/"
        }
      },
      "outputs": [
        {
          "output_type": "execute_result",
          "data": {
            "text/plain": [
              "array([[False, False],\n",
              "       [ True,  True]])"
            ]
          },
          "metadata": {},
          "execution_count": 119
        }
      ],
      "source": [
        "res = A > 2\n",
        "res\n",
        "   #  Создание масок"
      ]
    },
    {
      "cell_type": "code",
      "execution_count": 121,
      "metadata": {
        "ExecuteTime": {
          "end_time": "2023-08-23T14:30:38.396090Z",
          "start_time": "2023-08-23T14:30:38.392328Z"
        },
        "id": "Aa_mDNlZqm-d",
        "outputId": "19260db8-dcc5-459c-c71d-46f6d3a2dc32",
        "colab": {
          "base_uri": "https://localhost:8080/"
        }
      },
      "outputs": [
        {
          "output_type": "execute_result",
          "data": {
            "text/plain": [
              "array([[1, 2],\n",
              "       [0, 0]])"
            ]
          },
          "metadata": {},
          "execution_count": 121
        }
      ],
      "source": [
        "A[A > 2] = 1     #   Маски могут выполнять роль индексов\n",
        "\n",
        "A"
      ]
    },
    {
      "cell_type": "code",
      "execution_count": 122,
      "metadata": {
        "ExecuteTime": {
          "end_time": "2023-08-23T14:30:38.401627Z",
          "start_time": "2023-08-23T14:30:38.397902Z"
        },
        "id": "dkLst9f7qm-d",
        "outputId": "efd84293-e748-4634-d7c2-9b8403e734e8",
        "colab": {
          "base_uri": "https://localhost:8080/"
        },
        "collapsed": true
      },
      "outputs": [
        {
          "output_type": "execute_result",
          "data": {
            "text/plain": [
              "array([1., 1., 3.])"
            ]
          },
          "metadata": {},
          "execution_count": 122
        }
      ],
      "source": [
        "np.array([1, 2, 3]) / np.array([1, 2, 1])"
      ]
    },
    {
      "cell_type": "markdown",
      "metadata": {
        "id": "M5EuKiHPqm-d"
      },
      "source": [
        "#### Матричные операции"
      ]
    },
    {
      "cell_type": "code",
      "execution_count": 2,
      "metadata": {
        "ExecuteTime": {
          "end_time": "2023-08-23T14:30:38.407218Z",
          "start_time": "2023-08-23T14:30:38.403512Z"
        },
        "id": "y_plr5zxqm-d",
        "outputId": "fa2cbe7d-1db8-41df-eb03-3430ba8b3d30",
        "colab": {
          "base_uri": "https://localhost:8080/"
        }
      },
      "outputs": [
        {
          "output_type": "execute_result",
          "data": {
            "text/plain": [
              "4"
            ]
          },
          "metadata": {},
          "execution_count": 2
        }
      ],
      "source": [
        "np.dot([1, 2, 3], [1, 0, 1])     #   Скалярное произведение A.dot(B)"
      ]
    },
    {
      "cell_type": "code",
      "execution_count": 123,
      "metadata": {
        "ExecuteTime": {
          "end_time": "2023-08-23T14:30:38.411789Z",
          "start_time": "2023-08-23T14:30:38.408936Z"
        },
        "scrolled": true,
        "id": "KOAgoZiFqm-d",
        "outputId": "b8cd22ea-b53c-4d92-93bc-4718aafca7fa",
        "colab": {
          "base_uri": "https://localhost:8080/"
        }
      },
      "outputs": [
        {
          "output_type": "stream",
          "name": "stdout",
          "text": [
            "[[1.]\n",
            " [2.]\n",
            " [3.]\n",
            " [4.]] [[1. 2. 3. 4.]]\n"
          ]
        }
      ],
      "source": [
        "print(np_array, np_array.T)     #   Транспонирование"
      ]
    },
    {
      "cell_type": "code",
      "execution_count": 124,
      "metadata": {
        "ExecuteTime": {
          "end_time": "2023-08-23T14:30:38.417659Z",
          "start_time": "2023-08-23T14:30:38.413607Z"
        },
        "id": "bNwiedKgqm-d",
        "outputId": "ab33f045-9a6a-40af-cb6b-1db225558265",
        "colab": {
          "base_uri": "https://localhost:8080/"
        }
      },
      "outputs": [
        {
          "output_type": "stream",
          "name": "stdout",
          "text": [
            "[1 0]\n",
            "@\n",
            "[[1 2]\n",
            " [0 0]]\n",
            "-----------\n"
          ]
        },
        {
          "output_type": "execute_result",
          "data": {
            "text/plain": [
              "array([1, 2])"
            ]
          },
          "metadata": {},
          "execution_count": 124
        }
      ],
      "source": [
        "print(np.array([1, 0]))\n",
        "print(\"@\")\n",
        "print(A)\n",
        "\n",
        "print(\"-----------\")\n",
        "\n",
        "np.array([1, 0]) @ A  # Матричное умножение"
      ]
    },
    {
      "cell_type": "code",
      "execution_count": 125,
      "metadata": {
        "ExecuteTime": {
          "end_time": "2023-08-23T14:30:38.425390Z",
          "start_time": "2023-08-23T14:30:38.419330Z"
        },
        "id": "r0d-xSOVqm-e",
        "outputId": "1b16d033-d6f1-4583-c182-03074e6d3f25",
        "colab": {
          "base_uri": "https://localhost:8080/"
        }
      },
      "outputs": [
        {
          "output_type": "stream",
          "name": "stdout",
          "text": [
            "[[1 1 1]\n",
            " [1 1 1]] \n",
            "\n",
            " [[2 2 2]\n",
            " [2 2 2]]\n"
          ]
        },
        {
          "output_type": "execute_result",
          "data": {
            "text/plain": [
              "array([[1, 1, 1],\n",
              "       [1, 1, 1],\n",
              "       [2, 2, 2],\n",
              "       [2, 2, 2]])"
            ]
          },
          "metadata": {},
          "execution_count": 125
        }
      ],
      "source": [
        "A = np.array([[1, 1, 1], [1, 1, 1]])\n",
        "B = np.array([[2, 2, 2], [2, 2, 2]])\n",
        "\n",
        "print(A, \"\\n\\n\", B)\n",
        "\n",
        "np.concatenate((A, B), axis=0)    #  Конкатенация массивов"
      ]
    },
    {
      "cell_type": "code",
      "execution_count": 126,
      "metadata": {
        "ExecuteTime": {
          "end_time": "2023-08-23T14:30:38.430710Z",
          "start_time": "2023-08-23T14:30:38.427270Z"
        },
        "id": "Qqtaa8nBqm-e",
        "outputId": "e600d244-4a87-43a0-b668-8c6bccf65952",
        "colab": {
          "base_uri": "https://localhost:8080/"
        }
      },
      "outputs": [
        {
          "output_type": "execute_result",
          "data": {
            "text/plain": [
              "array([[1, 1, 1, 2, 2, 2],\n",
              "       [1, 1, 1, 2, 2, 2]])"
            ]
          },
          "metadata": {},
          "execution_count": 126
        }
      ],
      "source": [
        "np.concatenate((A, B), axis=1)"
      ]
    },
    {
      "cell_type": "code",
      "execution_count": 127,
      "metadata": {
        "ExecuteTime": {
          "end_time": "2023-08-23T14:30:38.435884Z",
          "start_time": "2023-08-23T14:30:38.432257Z"
        },
        "id": "lykFe4qoqm-e",
        "outputId": "0ca87f84-f96a-4744-a5c3-537f55c2d776",
        "colab": {
          "base_uri": "https://localhost:8080/"
        }
      },
      "outputs": [
        {
          "output_type": "execute_result",
          "data": {
            "text/plain": [
              "array([[2, 2, 2, 1, 1, 1],\n",
              "       [2, 2, 2, 1, 1, 1]])"
            ]
          },
          "metadata": {},
          "execution_count": 127
        }
      ],
      "source": [
        "np.concatenate((B, A), axis=1)"
      ]
    },
    {
      "cell_type": "markdown",
      "metadata": {
        "id": "UwM7zQB6qm-e"
      },
      "source": [
        "Матричные операции оптимизированы и выполняются гораздо быстрее, чем питоновские циклы\n",
        "\n",
        "<span style=\"color:red\"> При выполении математических операций с numpy массивами никогда не следует пользоваться питоновскими циклами и другими операциями, которые работают поэлементно.\n",
        "\n",
        "Однако в некоторых случаях это действительно невозможно. Тогда используют особые средства ускорения циклов, которые основаны на том, чтобы в Python использовать типы данных из C, компиллировать функции Python. Позже в этом семестре мы их тоже будем изучать."
      ]
    },
    {
      "cell_type": "code",
      "execution_count": 128,
      "metadata": {
        "ExecuteTime": {
          "end_time": "2023-08-23T14:30:38.648035Z",
          "start_time": "2023-08-23T14:30:38.437524Z"
        },
        "id": "s8N6y-D6qm-e"
      },
      "outputs": [],
      "source": [
        "long_array = np.random.normal(size=(10000 * 1000))"
      ]
    },
    {
      "cell_type": "code",
      "execution_count": 129,
      "metadata": {
        "ExecuteTime": {
          "end_time": "2023-08-23T14:30:38.715078Z",
          "start_time": "2023-08-23T14:30:38.649783Z"
        },
        "id": "iqA35N4Gqm-e",
        "outputId": "377f1452-1f5c-4b88-83ff-fe973fb57efe",
        "colab": {
          "base_uri": "https://localhost:8080/"
        }
      },
      "outputs": [
        {
          "output_type": "stream",
          "name": "stdout",
          "text": [
            "CPU times: user 6.02 ms, sys: 94.5 ms, total: 100 ms\n",
            "Wall time: 107 ms\n"
          ]
        }
      ],
      "source": [
        "%%time\n",
        "result = long_array * long_array"
      ]
    },
    {
      "cell_type": "code",
      "execution_count": 130,
      "metadata": {
        "ExecuteTime": {
          "end_time": "2023-08-23T14:30:40.021517Z",
          "start_time": "2023-08-23T14:30:38.716462Z"
        },
        "id": "ThvawL0xqm-e",
        "outputId": "0421ef22-47f4-49ce-ae47-51004835e885",
        "colab": {
          "base_uri": "https://localhost:8080/"
        }
      },
      "outputs": [
        {
          "output_type": "stream",
          "name": "stdout",
          "text": [
            "CPU times: user 1.89 s, sys: 590 ms, total: 2.48 s\n",
            "Wall time: 2.49 s\n"
          ]
        }
      ],
      "source": [
        "%%time\n",
        "result = [x * y for x, y in zip(long_array, long_array)]"
      ]
    },
    {
      "cell_type": "markdown",
      "metadata": {
        "id": "n66hqXaDqm-g"
      },
      "source": [
        "#### Собственные числа и вектора матрицы"
      ]
    },
    {
      "cell_type": "code",
      "execution_count": 131,
      "metadata": {
        "ExecuteTime": {
          "end_time": "2023-08-23T14:30:40.027932Z",
          "start_time": "2023-08-23T14:30:40.023130Z"
        },
        "id": "4qDeSFo7qm-h",
        "outputId": "9750067f-c989-4cad-82e7-537f5fb47cbb",
        "colab": {
          "base_uri": "https://localhost:8080/"
        }
      },
      "outputs": [
        {
          "output_type": "execute_result",
          "data": {
            "text/plain": [
              "EigResult(eigenvalues=array([ 4.30277564, -2.        ,  0.69722436]), eigenvectors=array([[-7.35289262e-01, -7.07106781e-01, -7.61041891e-01],\n",
              "       [-3.10857367e-01,  1.03725802e-16, -5.01677599e-01],\n",
              "       [-6.02260242e-01,  7.07106781e-01,  4.11260047e-01]]))"
            ]
          },
          "metadata": {},
          "execution_count": 131
        }
      ],
      "source": [
        "np.linalg.eig(\n",
        "            np.array([[1, 2, 3], [1, 0, 1], [4, -5, 2]])\n",
        "            )"
      ]
    },
    {
      "cell_type": "markdown",
      "metadata": {
        "ExecuteTime": {
          "end_time": "2023-08-23T13:52:54.863977Z",
          "start_time": "2023-08-23T13:52:54.861583Z"
        },
        "id": "EBZf2QyAqm-i"
      },
      "source": [
        "### Matplotlib\n",
        "\n",
        "Библиотека для отрисовки всевозможных графиков (и анимаций)"
      ]
    },
    {
      "cell_type": "code",
      "execution_count": 132,
      "metadata": {
        "ExecuteTime": {
          "end_time": "2023-08-23T14:30:40.582915Z",
          "start_time": "2023-08-23T14:30:40.029877Z"
        },
        "id": "DHldA4Ltqm-i"
      },
      "outputs": [],
      "source": [
        "import matplotlib.pyplot as plt"
      ]
    },
    {
      "cell_type": "code",
      "source": [
        "x = np.linspace(0, 10, 50)\n",
        "y = x\n",
        "plt.title(\"Линейная зависимость y = x\") # заголовок\n",
        "plt.xlabel(\"x\") # ось абсцисс\n",
        "plt.ylabel(\"y\") # ось ординат\n",
        "#plt.grid()      # включение отображение сетки\n",
        "plt.plot(x, y)  # построение графика"
      ],
      "metadata": {
        "colab": {
          "base_uri": "https://localhost:8080/",
          "height": 489
        },
        "id": "pUgK75PZ1eVU",
        "outputId": "0baf3599-68ba-4cff-9836-c1d5fb69414a"
      },
      "execution_count": 134,
      "outputs": [
        {
          "output_type": "execute_result",
          "data": {
            "text/plain": [
              "[<matplotlib.lines.Line2D at 0x7957333a2bf0>]"
            ]
          },
          "metadata": {},
          "execution_count": 134
        },
        {
          "output_type": "display_data",
          "data": {
            "text/plain": [
              "<Figure size 640x480 with 1 Axes>"
            ],
            "image/png": "[encoded data removed]"
          },
          "metadata": {}
        }
      ]
    },
    {
      "cell_type": "code",
      "source": [
        "# Линейная зависимость\n",
        "x = np.linspace(0, 10, 50)\n",
        "y1 = x\n",
        "# Квадратичная зависимость\n",
        "y2 = [i**2 for i in x]\n",
        "# Построение графика\n",
        "plt.title(\"Зависимости: y1 = x, y2 = x^2\") # заголовок\n",
        "plt.xlabel(\"x\")         # ось абсцисс\n",
        "plt.ylabel(\"y1, y2\")    # ось ординат\n",
        "plt.grid()              # включение отображение сетки\n",
        "plt.plot(x, y1, x, y2)  # построение графика"
      ],
      "metadata": {
        "colab": {
          "base_uri": "https://localhost:8080/",
          "height": 507
        },
        "id": "hX16c18oN24p",
        "outputId": "c9f9fbb2-0ccd-4696-82f6-907908294355"
      },
      "execution_count": 135,
      "outputs": [
        {
          "output_type": "execute_result",
          "data": {
            "text/plain": [
              "[<matplotlib.lines.Line2D at 0x795733244400>,\n",
              " <matplotlib.lines.Line2D at 0x795733244460>]"
            ]
          },
          "metadata": {},
          "execution_count": 135
        },
        {
          "output_type": "display_data",
          "data": {
            "text/plain": [
              "<Figure size 640x480 with 1 Axes>"
            ],
            "image/png": "[encoded data removed]"
          },
          "metadata": {}
        }
      ]
    },
    {
      "cell_type": "code",
      "execution_count": 141,
      "metadata": {
        "ExecuteTime": {
          "end_time": "2023-08-23T14:30:40.698988Z",
          "start_time": "2023-08-23T14:30:40.584716Z"
        },
        "id": "rzrNPmf1qm-i",
        "outputId": "68100f58-3fd7-4fe2-ea0a-cc262630d8bc",
        "colab": {
          "base_uri": "https://localhost:8080/",
          "height": 447
        }
      },
      "outputs": [
        {
          "output_type": "execute_result",
          "data": {
            "text/plain": [
              "[<matplotlib.lines.Line2D at 0x795717287250>]"
            ]
          },
          "metadata": {},
          "execution_count": 141
        },
        {
          "output_type": "display_data",
          "data": {
            "text/plain": [
              "<Figure size 640x480 with 1 Axes>"
            ],
            "image/png": "[encoded data removed]"
          },
          "metadata": {}
        }
      ],
      "source": [
        "# Обычный график\n",
        "\n",
        "xs = np.linspace(0, 6, 50)\n",
        "\n",
        "sin_ys = np.sin(xs)\n",
        "cos_ys = np.cos(xs)\n",
        "\n",
        "plt.plot(xs, sin_ys)\n",
        "plt.plot(xs, cos_ys)"
      ]
    },
    {
      "cell_type": "code",
      "execution_count": 142,
      "metadata": {
        "ExecuteTime": {
          "end_time": "2023-08-23T14:30:40.816304Z",
          "start_time": "2023-08-23T14:30:40.700519Z"
        },
        "id": "K8deG816qm-i",
        "outputId": "a6d33b38-bd54-4149-db1e-a31d26d83685",
        "colab": {
          "base_uri": "https://localhost:8080/",
          "height": 487
        }
      },
      "outputs": [
        {
          "output_type": "display_data",
          "data": {
            "text/plain": [
              "<Figure size 500x500 with 1 Axes>"
            ],
            "image/png": "[encoded data removed]"
          },
          "metadata": {}
        }
      ],
      "source": [
        "# C наворотами\n",
        "\n",
        "plt.figure(figsize=(5,5))\n",
        "plt.title('Cosine and sine graph')\n",
        "\n",
        "plt.plot(xs, sin_ys, label='sin x')\n",
        "plt.fill_between(xs, sin_ys - 0.1, sin_ys + 0.1, alpha=0.5)\n",
        "\n",
        "plt.plot(xs, cos_ys, '--', c='green', label='cos x')\n",
        "\n",
        "plt.xlim(0, 5)\n",
        "plt.ylim(-1, 0.9)\n",
        "plt.xlabel('x')\n",
        "plt.ylabel('y')\n",
        "plt.legend()\n",
        "plt.show()"
      ]
    },
    {
      "cell_type": "code",
      "execution_count": 156,
      "metadata": {
        "ExecuteTime": {
          "end_time": "2023-08-23T14:30:40.909621Z",
          "start_time": "2023-08-23T14:30:40.818134Z"
        },
        "id": "I3JMpwqHqm-i",
        "outputId": "7cabbf29-486c-4a69-9d67-6b9f2b787a0e",
        "colab": {
          "base_uri": "https://localhost:8080/",
          "height": 434
        }
      },
      "outputs": [
        {
          "output_type": "display_data",
          "data": {
            "text/plain": [
              "<Figure size 640x480 with 1 Axes>"
            ],
            "image/png": "[encoded data removed]"
          },
          "metadata": {}
        }
      ],
      "source": [
        "# Отображение точек на графике\n",
        "\n",
        "xs = np.linspace(0, 0.7, 30)\n",
        "ys = xs**2 - 0.5 * xs\n",
        "ys_shifted = ys + np.random.normal(scale=0.01, size=xs.shape)\n",
        "\n",
        "plt.scatter(xs, ys_shifted, c='orange')\n",
        "plt.plot(xs, ys, '--')\n",
        "plt.show()"
      ]
    },
    {
      "cell_type": "code",
      "execution_count": 162,
      "metadata": {
        "ExecuteTime": {
          "end_time": "2023-08-23T14:30:41.091906Z",
          "start_time": "2023-08-23T14:30:40.911223Z"
        },
        "id": "lz1bE5NWqm-j",
        "outputId": "4fdd8e04-6c6f-4db6-f45e-61c2fd160aaf",
        "colab": {
          "base_uri": "https://localhost:8080/",
          "height": 433
        }
      },
      "outputs": [
        {
          "output_type": "display_data",
          "data": {
            "text/plain": [
              "<Figure size 640x480 with 1 Axes>"
            ],
            "image/png": "[encoded data removed]"
          },
          "metadata": {}
        }
      ],
      "source": [
        "# Гистограмма\n",
        "\n",
        "np_array = np.random.normal(size=1000 * 1000)\n",
        "x = np.linspace(-4, 4, 1000*1000)\n",
        "\n",
        "plt.hist(np_array, bins=100)\n",
        "plt.plot(x, np_array, 'o')\n",
        "plt.show()"
      ]
    },
    {
      "cell_type": "code",
      "execution_count": 163,
      "metadata": {
        "ExecuteTime": {
          "end_time": "2023-08-23T14:30:41.234672Z",
          "start_time": "2023-08-23T14:30:41.093920Z"
        },
        "colab": {
          "referenced_widgets": [
            "5fe9815866ac41b59fc2bb8934be0b14",
            "03186405f5e14cc9a7b92cd85fae1929",
            "42bf0886b40d4b929bf48b079c0daa44",
            "5f388b7fd4d34407bb37293a954bce50",
            "74574f001d4847f98e27a52a1471469e",
            "7d36bc8766364892b19320fbfbd60a6d",
            "63ff05d0ef9f424eb63dc48550e47b9d",
            "0f66b962903c4c54a353d925d2073f13",
            "c8b338a28e6a4cc3aa3dc68f855552f0",
            "efd0580f41584f6b9b5908589fb4136c"
          ],
          "base_uri": "https://localhost:8080/",
          "height": 556
        },
        "id": "SZT4yzgGqm-j",
        "outputId": "6b43f575-2566-42d8-f0b4-0be557f1b3fb"
      },
      "outputs": [
        {
          "output_type": "display_data",
          "data": {
            "text/plain": [
              "interactive(children=(IntSlider(value=180, description='azimuth', max=360), IntSlider(value=0, description='el…"
            ],
            "application/vnd.jupyter.widget-view+json": {
              "version_major": 2,
              "version_minor": 0,
              "model_id": "5fe9815866ac41b59fc2bb8934be0b14"
            }
          },
          "metadata": {}
        },
        {
          "output_type": "execute_result",
          "data": {
            "text/plain": [
              "<function __main__.plot_colored_spiral(azimuth, elevation)>"
            ],
            "text/html": [
              "<div style=\"max-width:800px; border: 1px solid var(--colab-border-color);\"><style>\n",
              "      pre.function-repr-contents {\n",
              "        overflow-x: auto;\n",
              "        padding: 8px 12px;\n",
              "        max-height: 500px;\n",
              "      }\n",
              "\n",
              "      pre.function-repr-contents.function-repr-contents-collapsed {\n",
              "        cursor: pointer;\n",
              "        max-height: 100px;\n",
              "      }\n",
              "    </style>\n",
              "    <pre style=\"white-space: initial; background:\n",
              "         var(--colab-secondary-surface-color); padding: 8px 12px;\n",
              "         border-bottom: 1px solid var(--colab-border-color);\"><b>plot_colored_spiral</b><br/>def plot_colored_spiral(azimuth, elevation)</pre><pre class=\"function-repr-contents function-repr-contents-collapsed\" style=\"\"><a class=\"filepath\" style=\"display:none\" href=\"#\">/content/&lt;ipython-input-163-179539bcc8eb&gt;</a>&lt;no docstring&gt;</pre></div>"
            ]
          },
          "metadata": {},
          "execution_count": 163
        }
      ],
      "source": [
        "import numpy as np\n",
        "import matplotlib.pyplot as plt\n",
        "from mpl_toolkits.mplot3d import Axes3D\n",
        "from ipywidgets import interact\n",
        "\n",
        "# Функции для координат x, y и z в зависимости от t\n",
        "def x_func(t):\n",
        "    return np.cos(t)\n",
        "\n",
        "def y_func(t):\n",
        "    return np.sin(t)\n",
        "\n",
        "def z_func(t):\n",
        "    return t\n",
        "\n",
        "# Функция для рисования 3D графика с цветными сегментами\n",
        "def plot_colored_spiral(azimuth, elevation):\n",
        "    fig = plt.figure()\n",
        "    ax = fig.add_subplot(111, projection='3d')\n",
        "\n",
        "    t = np.linspace(0, 10, 100)\n",
        "    colors = [\"red\", \"orange\", \"yellow\", \"green\", \"blue\", \"purple\"]  # Генерация цветов радуги\n",
        "\n",
        "    segment_length = len(t) // 6\n",
        "\n",
        "    for i in range(6):\n",
        "        start_idx = i * segment_length\n",
        "        end_idx = (i + 1) * segment_length\n",
        "        color_segment = colors[i]\n",
        "        ax.plot(x_func(t[start_idx:end_idx]),\n",
        "                y_func(t[start_idx:end_idx]),\n",
        "                z_func(t[start_idx:end_idx]),\n",
        "                color=color_segment, lw=5)\n",
        "\n",
        "    ax.view_init(elev=elevation, azim=azimuth)\n",
        "\n",
        "    plt.show()\n",
        "\n",
        "# Создание интерактивных ползунков\n",
        "interact(plot_colored_spiral, azimuth=(0, 360), elevation=(-90, 90))\n"
      ]
    },
    {
      "cell_type": "code",
      "source": [
        "import pandas as pd"
      ],
      "metadata": {
        "id": "OLYoimdOskbY"
      },
      "execution_count": 165,
      "outputs": []
    },
    {
      "cell_type": "code",
      "source": [
        "data = pd.read_csv(\"test1.csv\", sep=';', header=None)\n",
        "x, y =  data[0], data[1]\n",
        "\n",
        "plt.grid()\n",
        "plt.plot(x, y, '-o')\n",
        "#plt.show()\n",
        "plt.savefig('test1.png')"
      ],
      "metadata": {
        "colab": {
          "base_uri": "https://localhost:8080/",
          "height": 430
        },
        "id": "BBqxC4eotG4w",
        "outputId": "af515bf8-36dc-479b-ddd8-82fbebff4c05"
      },
      "execution_count": 172,
      "outputs": [
        {
          "output_type": "display_data",
          "data": {
            "text/plain": [
              "<Figure size 640x480 with 1 Axes>"
            ],
            "image/png": "[encoded data removed]"
          },
          "metadata": {}
        }
      ]
    },
    {
      "cell_type": "code",
      "source": [],
      "metadata": {
        "id": "0eI12TG5tT1F"
      },
      "execution_count": null,
      "outputs": []
    }
  ],
  "metadata": {
    "anaconda-cloud": {},
    "celltoolbar": "Слайд-шоу",
    "colab": {
      "provenance": [],
      "include_colab_link": true
    },
    "kernelspec": {
      "display_name": "Python 3 (ipykernel)",
      "language": "python",
      "name": "python3"
    },
    "language_info": {
      "codemirror_mode": {
        "name": "ipython",
        "version": 3
      },
      "file_extension": ".py",
      "mimetype": "text/x-python",
      "name": "python",
      "nbconvert_exporter": "python",
      "pygments_lexer": "ipython3",
      "version": "3.8.10"
    },
    "livereveal": {
      "scroll": true,
      "theme": "simple",
      "transition": "convex"
    },
    "nbpresent": {
      "slides": {
        "1ffee25c-251f-4cbf-af3d-a1d5521081b9": {
          "id": "1ffee25c-251f-4cbf-af3d-a1d5521081b9",
          "prev": "eb43fa9f-eb7c-417b-ab1a-99371ff452e2",
          "regions": {
            "2e1a7b46-c253-4096-a0a5-dfbc6cfb086e": {
              "attrs": {
                "height": 0.8,
                "width": 0.8,
                "x": 0.1,
                "y": 0.1
              },
              "content": {
                "cell": "bf40e897-f1f8-4e69-b826-fe53fb761aad",
                "part": "whole"
              },
              "id": "2e1a7b46-c253-4096-a0a5-dfbc6cfb086e"
            }
          }
        },
        "37c43f64-6426-4a98-8de1-a6ca1dd72190": {
          "id": "37c43f64-6426-4a98-8de1-a6ca1dd72190",
          "prev": "d2b700ea-e44e-4bed-9ce4-ddf1532b44cb",
          "regions": {
            "45a20e24-b33f-4c55-8df2-e96075b5e2af": {
              "attrs": {
                "height": 0.8,
                "width": 0.8,
                "x": 0.1,
                "y": 0.1
              },
              "content": {
                "cell": "e730e690-97c9-4acd-bf81-4c5ab0bbd48e",
                "part": "whole"
              },
              "id": "45a20e24-b33f-4c55-8df2-e96075b5e2af"
            }
          }
        },
        "5bf0841a-23d1-413e-a557-911111e3e336": {
          "id": "5bf0841a-23d1-413e-a557-911111e3e336",
          "prev": "ebd3a807-2380-4bd6-8e58-c9424f3ed713",
          "regions": {
            "3c8adac9-5366-49e9-96ab-965c77e83485": {
              "attrs": {
                "height": 0.8,
                "width": 0.8,
                "x": 0.1,
                "y": 0.1
              },
              "content": {
                "cell": "2e08a439-2699-4ecf-9189-dfbbf745ad4e",
                "part": "whole"
              },
              "id": "3c8adac9-5366-49e9-96ab-965c77e83485"
            }
          }
        },
        "60ffd9bc-f20d-41e5-8771-5f11695177c6": {
          "id": "60ffd9bc-f20d-41e5-8771-5f11695177c6",
          "prev": "97575fe4-de27-4833-b616-7479f99519d0",
          "regions": {
            "807a955a-60c8-4f03-8734-54dfd52113d6": {
              "attrs": {
                "height": 0.8,
                "width": 0.8,
                "x": 0.1,
                "y": 0.1
              },
              "content": {
                "cell": "795c8121-f820-4edc-aeba-fc399b38f4b2",
                "part": "whole"
              },
              "id": "807a955a-60c8-4f03-8734-54dfd52113d6"
            }
          }
        },
        "623d8bc9-43df-451f-b862-76c2b54708ea": {
          "id": "623d8bc9-43df-451f-b862-76c2b54708ea",
          "prev": "eded54a5-7710-4ab6-8229-3ca4029d1ae7",
          "regions": {
            "42b1d4d4-2905-454b-b564-92f58dec8f81": {
              "attrs": {
                "height": 0.8,
                "width": 0.8,
                "x": 0.1,
                "y": 0.1
              },
              "content": {
                "cell": "16fd05b0-8ac8-4da2-8980-54d0d253d110",
                "part": "whole"
              },
              "id": "42b1d4d4-2905-454b-b564-92f58dec8f81"
            }
          }
        },
        "6dabcfe1-1c90-4893-8f01-c39e431f00bb": {
          "id": "6dabcfe1-1c90-4893-8f01-c39e431f00bb",
          "prev": "37c43f64-6426-4a98-8de1-a6ca1dd72190",
          "regions": {
            "1126b4c4-7df3-4db1-962b-abe099db9928": {
              "attrs": {
                "height": 0.8,
                "width": 0.8,
                "x": 0.1,
                "y": 0.1
              },
              "content": {
                "cell": "54519c05-1028-4e5c-a2d2-e21f821e99aa",
                "part": "whole"
              },
              "id": "1126b4c4-7df3-4db1-962b-abe099db9928"
            }
          }
        },
        "91753ba8-05fe-465f-806d-0faf4a21a031": {
          "id": "91753ba8-05fe-465f-806d-0faf4a21a031",
          "prev": "5bf0841a-23d1-413e-a557-911111e3e336",
          "regions": {
            "eb271beb-70d0-452e-b896-43695be4ae85": {
              "attrs": {
                "height": 0.8,
                "width": 0.8,
                "x": 0.1,
                "y": 0.1
              },
              "content": {
                "cell": "31cc3d04-22a5-4773-b4e1-abfb09f8bbc2",
                "part": "whole"
              },
              "id": "eb271beb-70d0-452e-b896-43695be4ae85"
            }
          }
        },
        "97575fe4-de27-4833-b616-7479f99519d0": {
          "id": "97575fe4-de27-4833-b616-7479f99519d0",
          "prev": "b8aebb38-1266-40c2-928a-026f9d33ec5c",
          "regions": {
            "01deb5d1-73e8-4d64-b93e-e7646647af3b": {
              "attrs": {
                "height": 0.8,
                "width": 0.8,
                "x": 0.1,
                "y": 0.1
              },
              "content": {
                "cell": "7f2bdffe-4f2a-446b-8805-d4fd262fced1",
                "part": "whole"
              },
              "id": "01deb5d1-73e8-4d64-b93e-e7646647af3b"
            }
          }
        },
        "9cc88d72-9ac9-4c24-96d5-abc94cea6e92": {
          "id": "9cc88d72-9ac9-4c24-96d5-abc94cea6e92",
          "prev": "1ffee25c-251f-4cbf-af3d-a1d5521081b9",
          "regions": {
            "78febecd-5100-493b-8f0d-0cc35ceae42e": {
              "attrs": {
                "height": 0.8,
                "width": 0.8,
                "x": 0.1,
                "y": 0.1
              },
              "content": {
                "cell": "bef00443-818c-4614-aa63-8a2e117462ec",
                "part": "whole"
              },
              "id": "78febecd-5100-493b-8f0d-0cc35ceae42e"
            }
          }
        },
        "a5df524d-67a8-4ae1-8258-9231728bdd14": {
          "id": "a5df524d-67a8-4ae1-8258-9231728bdd14",
          "prev": "623d8bc9-43df-451f-b862-76c2b54708ea",
          "regions": {
            "68e876ca-f943-4b2e-8268-439db992b310": {
              "attrs": {
                "height": 0.8,
                "width": 0.8,
                "x": 0.1,
                "y": 0.1
              },
              "content": {
                "cell": "40af6766-3ae3-4acc-8417-439eb8968553",
                "part": "whole"
              },
              "id": "68e876ca-f943-4b2e-8268-439db992b310"
            }
          }
        },
        "b62355d8-8b93-4dfc-8016-6548952c0f8c": {
          "id": "b62355d8-8b93-4dfc-8016-6548952c0f8c",
          "prev": "f59840cf-124e-4d10-8b89-3aafe98f38ba",
          "regions": {
            "381cc6bd-bde3-4d58-8277-99fbd69c7a4f": {
              "attrs": {
                "height": 0.8,
                "width": 0.8,
                "x": 0.1,
                "y": 0.1
              },
              "content": {
                "cell": "b92c1827-c799-44b9-b770-f45e95c917da",
                "part": "whole"
              },
              "id": "381cc6bd-bde3-4d58-8277-99fbd69c7a4f"
            }
          }
        },
        "b8aebb38-1266-40c2-928a-026f9d33ec5c": {
          "id": "b8aebb38-1266-40c2-928a-026f9d33ec5c",
          "prev": "9cc88d72-9ac9-4c24-96d5-abc94cea6e92",
          "regions": {
            "1bc2d24e-0782-443b-83a4-bc683c5ac6cb": {
              "attrs": {
                "height": 0.8,
                "width": 0.8,
                "x": 0.1,
                "y": 0.1
              },
              "content": {
                "cell": "cbb3d96a-fdd6-436e-86b6-1be446b43e84",
                "part": "whole"
              },
              "id": "1bc2d24e-0782-443b-83a4-bc683c5ac6cb"
            }
          }
        },
        "d2b700ea-e44e-4bed-9ce4-ddf1532b44cb": {
          "id": "d2b700ea-e44e-4bed-9ce4-ddf1532b44cb",
          "prev": "a5df524d-67a8-4ae1-8258-9231728bdd14",
          "regions": {
            "474bc80d-f262-4e62-afae-4565c0979e03": {
              "attrs": {
                "height": 0.8,
                "width": 0.8,
                "x": 0.1,
                "y": 0.1
              },
              "content": {
                "cell": "a67001a3-e51e-4a22-bdcd-249cde5581c1",
                "part": "whole"
              },
              "id": "474bc80d-f262-4e62-afae-4565c0979e03"
            }
          }
        },
        "d989978f-1d85-4802-953f-0e82f1a0fd51": {
          "id": "d989978f-1d85-4802-953f-0e82f1a0fd51",
          "prev": null,
          "regions": {
            "e3ddb97a-209b-4c70-91d7-df0cadcefb0d": {
              "attrs": {
                "height": 0.8,
                "width": 0.8,
                "x": 0.1,
                "y": 0.1
              },
              "content": {
                "cell": "13101ac1-2637-4d0f-9f1f-cd32215b02c3",
                "part": "whole"
              },
              "id": "e3ddb97a-209b-4c70-91d7-df0cadcefb0d"
            }
          }
        },
        "eb43fa9f-eb7c-417b-ab1a-99371ff452e2": {
          "id": "eb43fa9f-eb7c-417b-ab1a-99371ff452e2",
          "prev": "b62355d8-8b93-4dfc-8016-6548952c0f8c",
          "regions": {
            "b9415d21-f857-4a93-a788-c7dc51dedea0": {
              "attrs": {
                "height": 0.8,
                "width": 0.8,
                "x": 0.1,
                "y": 0.1
              },
              "content": {
                "cell": "e29b9590-fc86-46fd-83be-3ff48c7a8df4",
                "part": "whole"
              },
              "id": "b9415d21-f857-4a93-a788-c7dc51dedea0"
            }
          }
        },
        "ebd3a807-2380-4bd6-8e58-c9424f3ed713": {
          "id": "ebd3a807-2380-4bd6-8e58-c9424f3ed713",
          "prev": "f3fb61c6-f807-4942-8c41-0e80240a5146",
          "regions": {
            "7eaeb4e2-d47e-43e4-92c4-ed8cc1e9aac7": {
              "attrs": {
                "height": 0.8,
                "width": 0.8,
                "x": 0.1,
                "y": 0.1
              },
              "content": {
                "cell": "412353c7-42b2-42c7-8702-69568c809a97",
                "part": "whole"
              },
              "id": "7eaeb4e2-d47e-43e4-92c4-ed8cc1e9aac7"
            }
          }
        },
        "eded54a5-7710-4ab6-8229-3ca4029d1ae7": {
          "id": "eded54a5-7710-4ab6-8229-3ca4029d1ae7",
          "prev": "91753ba8-05fe-465f-806d-0faf4a21a031",
          "regions": {
            "816c3f73-4147-4cdb-b7d1-f5f82fa6003b": {
              "attrs": {
                "height": 0.8,
                "width": 0.8,
                "x": 0.1,
                "y": 0.1
              },
              "content": {
                "cell": "fa2d4b89-0d7a-41f1-8635-c5905d106cf3",
                "part": "whole"
              },
              "id": "816c3f73-4147-4cdb-b7d1-f5f82fa6003b"
            }
          }
        },
        "f3fb61c6-f807-4942-8c41-0e80240a5146": {
          "id": "f3fb61c6-f807-4942-8c41-0e80240a5146",
          "prev": "d989978f-1d85-4802-953f-0e82f1a0fd51",
          "regions": {
            "4f7abbfb-161b-44ce-bdab-05ef0b2a5542": {
              "attrs": {
                "height": 0.8,
                "width": 0.8,
                "x": 0.1,
                "y": 0.1
              },
              "content": {
                "cell": "8ce7bf3f-66e0-4462-a540-e87bceeadb7f",
                "part": "whole"
              },
              "id": "4f7abbfb-161b-44ce-bdab-05ef0b2a5542"
            }
          }
        },
        "f59840cf-124e-4d10-8b89-3aafe98f38ba": {
          "id": "f59840cf-124e-4d10-8b89-3aafe98f38ba",
          "prev": "6dabcfe1-1c90-4893-8f01-c39e431f00bb",
          "regions": {
            "e67fa4b9-f237-40ff-8621-fcdbfdd83101": {
              "attrs": {
                "height": 0.8,
                "width": 0.8,
                "x": 0.1,
                "y": 0.1
              },
              "content": {
                "cell": "4ae9a30c-81bc-4396-90d8-939a8e59f287",
                "part": "whole"
              },
              "id": "e67fa4b9-f237-40ff-8621-fcdbfdd83101"
            }
          }
        }
      },
      "themes": {
        "default": "c04eebe0-c348-41e9-bcfb-a65d4bd126df",
        "theme": {
          "c04eebe0-c348-41e9-bcfb-a65d4bd126df": {
            "id": "c04eebe0-c348-41e9-bcfb-a65d4bd126df",
            "palette": {
              "19cc588f-0593-49c9-9f4b-e4d7cc113b1c": {
                "id": "19cc588f-0593-49c9-9f4b-e4d7cc113b1c",
                "rgb": [
                  252,
                  252,
                  252
                ]
              },
              "31af15d2-7e15-44c5-ab5e-e04b16a89eff": {
                "id": "31af15d2-7e15-44c5-ab5e-e04b16a89eff",
                "rgb": [
                  68,
                  68,
                  68
                ]
              },
              "50f92c45-a630-455b-aec3-788680ec7410": {
                "id": "50f92c45-a630-455b-aec3-788680ec7410",
                "rgb": [
                  155,
                  177,
                  192
                ]
              },
              "c5cc3653-2ee1-402a-aba2-7caae1da4f6c": {
                "id": "c5cc3653-2ee1-402a-aba2-7caae1da4f6c",
                "rgb": [
                  43,
                  126,
                  184
                ]
              },
              "efa7f048-9acb-414c-8b04-a26811511a21": {
                "id": "efa7f048-9acb-414c-8b04-a26811511a21",
                "rgb": [
                  25.118061674008803,
                  73.60176211453744,
                  107.4819383259912
                ]
              }
            },
            "rules": {
              "blockquote": {
                "color": "50f92c45-a630-455b-aec3-788680ec7410"
              },
              "code": {
                "font-family": "Anonymous Pro"
              },
              "h1": {
                "color": "c5cc3653-2ee1-402a-aba2-7caae1da4f6c",
                "font-family": "Lato",
                "font-size": 8
              },
              "h2": {
                "color": "c5cc3653-2ee1-402a-aba2-7caae1da4f6c",
                "font-family": "Lato",
                "font-size": 6
              },
              "h3": {
                "color": "50f92c45-a630-455b-aec3-788680ec7410",
                "font-family": "Lato",
                "font-size": 5.5
              },
              "h4": {
                "color": "c5cc3653-2ee1-402a-aba2-7caae1da4f6c",
                "font-family": "Lato",
                "font-size": 5
              },
              "h5": {
                "font-family": "Lato"
              },
              "h6": {
                "font-family": "Lato"
              },
              "h7": {
                "font-family": "Lato"
              },
              "pre": {
                "font-family": "Anonymous Pro",
                "font-size": 4
              }
            },
            "text-base": {
              "font-family": "Merriweather",
              "font-size": 4
            }
          },
          "f0b95bb9-67a7-4d14-bf09-657a5b556dbe": {
            "id": "f0b95bb9-67a7-4d14-bf09-657a5b556dbe",
            "palette": {
              "19cc588f-0593-49c9-9f4b-e4d7cc113b1c": {
                "id": "19cc588f-0593-49c9-9f4b-e4d7cc113b1c",
                "rgb": [
                  252,
                  252,
                  252
                ]
              },
              "31af15d2-7e15-44c5-ab5e-e04b16a89eff": {
                "id": "31af15d2-7e15-44c5-ab5e-e04b16a89eff",
                "rgb": [
                  68,
                  68,
                  68
                ]
              },
              "50f92c45-a630-455b-aec3-788680ec7410": {
                "id": "50f92c45-a630-455b-aec3-788680ec7410",
                "rgb": [
                  155,
                  177,
                  192
                ]
              },
              "c5cc3653-2ee1-402a-aba2-7caae1da4f6c": {
                "id": "c5cc3653-2ee1-402a-aba2-7caae1da4f6c",
                "rgb": [
                  43,
                  126,
                  184
                ]
              },
              "efa7f048-9acb-414c-8b04-a26811511a21": {
                "id": "efa7f048-9acb-414c-8b04-a26811511a21",
                "rgb": [
                  25.118061674008803,
                  73.60176211453744,
                  107.4819383259912
                ]
              }
            },
            "rules": {
              "blockquote": {
                "color": "50f92c45-a630-455b-aec3-788680ec7410"
              },
              "code": {
                "font-family": "Anonymous Pro"
              },
              "h1": {
                "color": "c5cc3653-2ee1-402a-aba2-7caae1da4f6c",
                "font-family": "Lato",
                "font-size": 8
              },
              "h2": {
                "color": "c5cc3653-2ee1-402a-aba2-7caae1da4f6c",
                "font-family": "Lato",
                "font-size": 6
              },
              "h3": {
                "color": "50f92c45-a630-455b-aec3-788680ec7410",
                "font-family": "Lato",
                "font-size": 5.5
              },
              "h4": {
                "color": "c5cc3653-2ee1-402a-aba2-7caae1da4f6c",
                "font-family": "Lato",
                "font-size": 5
              },
              "h5": {
                "font-family": "Lato"
              },
              "h6": {
                "font-family": "Lato"
              },
              "h7": {
                "font-family": "Lato"
              },
              "pre": {
                "font-family": "Anonymous Pro",
                "font-size": 4
              }
            },
            "text-base": {
              "font-family": "Merriweather",
              "font-size": 4
            }
          }
        }
      }
    },
    "widgets": {
      "application/vnd.jupyter.widget-state+json": {
        "5fe9815866ac41b59fc2bb8934be0b14": {
          "model_module": "@jupyter-widgets/controls",
          "model_name": "VBoxModel",
          "model_module_version": "1.5.0",
          "state": {
            "_dom_classes": [
              "widget-interact"
            ],
            "_model_module": "@jupyter-widgets/controls",
            "_model_module_version": "1.5.0",
            "_model_name": "VBoxModel",
            "_view_count": null,
            "_view_module": "@jupyter-widgets/controls",
            "_view_module_version": "1.5.0",
            "_view_name": "VBoxView",
            "box_style": "",
            "children": [
              "IPY_MODEL_03186405f5e14cc9a7b92cd85fae1929",
              "IPY_MODEL_42bf0886b40d4b929bf48b079c0daa44",
              "IPY_MODEL_5f388b7fd4d34407bb37293a954bce50"
            ],
            "layout": "IPY_MODEL_74574f001d4847f98e27a52a1471469e"
          }
        },
        "03186405f5e14cc9a7b92cd85fae1929": {
          "model_module": "@jupyter-widgets/controls",
          "model_name": "IntSliderModel",
          "model_module_version": "1.5.0",
          "state": {
            "_dom_classes": [],
            "_model_module": "@jupyter-widgets/controls",
            "_model_module_version": "1.5.0",
            "_model_name": "IntSliderModel",
            "_view_count": null,
            "_view_module": "@jupyter-widgets/controls",
            "_view_module_version": "1.5.0",
            "_view_name": "IntSliderView",
            "continuous_update": true,
            "description": "azimuth",
            "description_tooltip": null,
            "disabled": false,
            "layout": "IPY_MODEL_7d36bc8766364892b19320fbfbd60a6d",
            "max": 360,
            "min": 0,
            "orientation": "horizontal",
            "readout": true,
            "readout_format": "d",
            "step": 1,
            "style": "IPY_MODEL_63ff05d0ef9f424eb63dc48550e47b9d",
            "value": 121
          }
        },
        "42bf0886b40d4b929bf48b079c0daa44": {
          "model_module": "@jupyter-widgets/controls",
          "model_name": "IntSliderModel",
          "model_module_version": "1.5.0",
          "state": {
            "_dom_classes": [],
            "_model_module": "@jupyter-widgets/controls",
            "_model_module_version": "1.5.0",
            "_model_name": "IntSliderModel",
            "_view_count": null,
            "_view_module": "@jupyter-widgets/controls",
            "_view_module_version": "1.5.0",
            "_view_name": "IntSliderView",
            "continuous_update": true,
            "description": "elevation",
            "description_tooltip": null,
            "disabled": false,
            "layout": "IPY_MODEL_0f66b962903c4c54a353d925d2073f13",
            "max": 90,
            "min": -90,
            "orientation": "horizontal",
            "readout": true,
            "readout_format": "d",
            "step": 1,
            "style": "IPY_MODEL_c8b338a28e6a4cc3aa3dc68f855552f0",
            "value": 14
          }
        },
        "5f388b7fd4d34407bb37293a954bce50": {
          "model_module": "@jupyter-widgets/output",
          "model_name": "OutputModel",
          "model_module_version": "1.0.0",
          "state": {
            "_dom_classes": [],
            "_model_module": "@jupyter-widgets/output",
            "_model_module_version": "1.0.0",
            "_model_name": "OutputModel",
            "_view_count": null,
            "_view_module": "@jupyter-widgets/output",
            "_view_module_version": "1.0.0",
            "_view_name": "OutputView",
            "layout": "IPY_MODEL_efd0580f41584f6b9b5908589fb4136c",
            "msg_id": "",
            "outputs": [
              {
                "output_type": "display_data",
                "data": {
                  "text/plain": "<Figure size 640x480 with 1 Axes>",
                  "image/png": "iVBORw0KGgoAAAANSUhEUgAAAZEAAAGFCAYAAAA8Zs7aAAAAOXRFWHRTb2Z0d2FyZQBNYXRwbG90bGliIHZlcnNpb24zLjcuMSwgaHR0cHM6Ly9tYXRwbG90bGliLm9yZy/bCgiHAAAACXBIWXMAAA9hAAAPYQGoP6dpAACQOklEQVR4nO2dd3xb5b3/P0db8p6Sh7ziJE5sZw+SAAktlAKllFvuhZaWQltaWuCWwq8tUAhhppRC00JZLauFMAt00NJyQ0kYAUL2Trwl25KHhrXHOef3hzmHI1mWpWONI/t5v1562ZYlnUfr+ZzvpliWZUEgEAgEgghk2V4AgUAgEHIXIiIEAoFAEA0REQKBQCCIhogIgUAgEERDRIRAIBAIoiEiQiAQCATREBEhEAgEgmiIiBAIBAJBNERECAQCgSAaIiIEAoFAEA0REQKBQCCIhogIgUAgEERDRIRAIBAIoiEiQiAQCATREBEhEAgEgmiIiBAIBAJBNERECAQCgSAaIiIEAoFAEA0REQKBQCCIhogIgUAgEERDRIRAIBAIoiEiQiAQCATREBEhEAgEgmiIiBAIBAJBNERECAQCgSAaIiIEAoFAEA0REQKBQCCIhogIgUAgEERDRIRAIBAIoiEiQiAQCATREBEhEAgEgmiIiBAIBAJBNERECAQCgSAaIiIEAoFAEA0REQKBQCCIhogIgUAgEERDRIRAIBAIoiEiQiAQCATREBEhEAgEgmiIiBAIBAJBNERECAQCgSAaIiIEAoFAEA0REQKBQCCIhogIgUAgEERDRIRAIBAIoiEiQiAQCATREBEhEAgEgmiIiBAIBAJBNERECAQCgSAaIiIEAoFAEA0REQKBQCCIhogIgUAgEERDRIRAIBAIoiEiQiAQCATREBEhEAgEgmiIiBAIBAJBNERECAQCgSAaIiIEAoFAEA0REQKBQCCIhogIgUAgEERDRIRAIBAIoiEiQiAQCATREBEhEAgEgmiIiBAIBAJBNERECAQCgSAaIiIEAoFAEA0REQKBQCCIhogIgUAgEERDRIRAIBAIolFkewGE2Q3LsgiHwwAAiqIgk8lAURQoisryyggEQiIQESFkFJZlwbIsGIYBwzCgaRp+vx8sy0aIh1wu50WFu0SLDBEaAiH7EBEhpB2haHAXTjQ4OKHgRIazTrjbsSwLYNxaGR0dRX5+PvLy8ojQEAhZhogIIS1wwkHTNBwOB1wuF6qrqwFg0g1+qk2fE5i+vj4YjUao1Wr+ek5ouPtzjyUUGKG4EKEhEFIDERFCSojlpuKud7lcGBgYQG1t7bSOIdz0ZTIZFIrIjy9nrQh/xrJoiNAQCKmDiAhBNNGiwQmJcNPlNmJuY08nQnGIt+bon5zQCK9PRGiiRYYIDWE2QkSEkBRCNxUX2+CI56aSCukUGrlcPqk1I5PJpjwugZCLEBEhxEXopuKEg7s+m2fg6bRsxApNKBSKuK6rqwuVlZUoKCiYVGiiBWeq4xIIUoOICGECibqpkn3MmUQiQuNwOFBaWhqRdRYKhSZYb9E/pxIaIjIEKUFEhDAhKM5dgEgXldjNK9WbXi5tokILIxZCSyZRoYkXnyHFmoRMQ0RkljKVmyrVZ7wzzRJJFcm6zoTvmTA2E8tSJEJDyARERGYRwg2IpmkcP34cTU1NUCqVot1UiTDVZiVmM5tNopQpoZksvZlAiAcRkRlMLDcVdx0A9Pb2oqGhIS3CQRgnU5vwdIXmyJEjqK6uRnFxMREaQlIQEZlhcBsE56KKlU3FBXqBzGxyU9WJRLdAIaSHeEITCAQAgC/gjCU0wvcxuvAzupaGFGvOHoiIzABi1W5MlU3FXZ+LbiGyIaUH4eclGYsmXp8z0hVg5kNEJAeJ12IkmWyqTFWSp4NcWHcurJEjmbVOJTSk/czsgohIjhDLTRX9RZRqbCOXxWo2kaoNOp1dAUj7GelBRETCiGkxkgxkcydwZPpzMF2hOX78OAoLC2EwGJISGtIVIPUQEZEQibqpUkWmRISIVW4gtY01ntCEw2FQFBWRCMD9jLZohPfnvkOkz1nqICKSZYSiMTo6Co1GA5VKlRNuqlSRrMiQLzchOnEkWYsmus9Z9OPEEhrSfiY2RESywGRuqqNHj6KxsTHCRE8nuWwh5Mq6c2WjybU062TWKybjbLrtZ2aT0BARyQCJdsLNtBlN3FkEjlx8f1Lt2p3qMUn7mdgQEUkTYjrhks2WkE1yaTPLhuU0XaGxWq3weDxoamqKKzS51hWAiEgKibY2GIaZkDkS78OQaREhlkh6yaXnnEtrBaS73nhCQ9M0wuFw3K4A3H05kQwGg1i5ciX27t2LsrKyzD2RJCAiMg1S3Qk3GyKSi+TquqVOLr2uuRbDAcCfVCZj0YRCIZhMJkkn1xARSRIxbqpkHz+TSPWMbipydd2E1JCLIiImGYBL81cqlWlb13QhIjIFsTrhpnJgkxDiziJki1zblHNtvYC4NXM1L0REcoxUu6kSJde+FARCNsm17wvLskl7Kbh6FiIiOUC0aHR2dqKkpAQlJSUpcVMlAkVRvGBlgly1RHJp88iVtebamX2urRcQt+ZQKMRnbEmVWSsiU7UYGR0dhVarzeibl42UReJmSh/ktU0fufjairVEVCpVmlaUGmaViMTqhMtdH6vgLxtN6XLxy5EIsZ6Xx+OB1WqFxWIBwzDQarXQaDQTLgqFYoLAztTXKVvk2uuZi5YIwzCQy+VJ3ScUCknalQXMAhGJ1WIkkWyq2SAimXRnAePvhdvthsVi4QuvysvLYTAYIJfLEQqF4Pf7Ybfb4ff74ff7EQ6HIZfLI0TF5/NhbGwMTqdzQq8xgnhy6TXMRRER684iIpJhEu2EO9WbKRwhmylmooiwLAuXy4VwOIx3330XgUAA5eXlaGpqQmVlJRQKBXw+H1iW5YuwhITDYV5QhMLicDhgs9kQDAZBURTUanVMK4a7SNmnLAWIJZJ+iIhImFgpuMI3TOimSpRsuZZy7cscC4ZhYLfbYbVaYbVaEQ6HwbIs5s+fj/Ly8qRMeoVCgfz8fOTn5/PXeb1elJaWora2FgzDTBAZv98Ph8MBv9+PQCAAlmWhUqniikwsAZtt5NqmnGvrFRMTCYfDRETSxWSdcIHcHdiUaesnlc+Ra2XPCQdFUdDr9Whvb4dcLsfevXuh1+tTciwhMpkMOp0OOp0u5v9ZlkUwGITf74fP5+OFZXR0lBccmqahUCjiioxSqcy5TSsZcu3kJRctEWEbpEQhlkgKSdRNlSpmgyUy3dcrHA5jZGQEVqsVw8PDUCgU0Ov1WLp0aURqtNPpTPnzSvTxOFeXWq1GUVFRzMeJ5TJzOp2wWq3w+/18mmU8kVGpVJPG1nKFXFprLooIcWdlgXgtRoD0DmzKdM0Gd0yptz0JhUIYHh7mhUOj0cBgMGDlypUoLCyM+SWZ6ouTzaw0iqKgVCqhVCpRUFAQ8zY0TU8QGY/Hw1szgUAgZlwmHA5jbGwMKpUKarU66cycTJKLlkiuQUQkQwjdVOFwGEeOHMH8+fP5NM9MtUXOVnZWpo+XyHMMBAIYGhqC1WrF6OgoCgoKoNfrMXfuXOTl5WWtJXemkMvlyMvLQ15eXsz/MwyDQCAwQWhomobJZEJXVxcYhpkQl4kWnWxvFrl0Zp+rloiYmIjU43VZX128FiMA0N/fj7lz52Y8u2Y2ZGfFw+fz8fENh8OBoqIi6PV6LFy4cNL4w2RI6XmlA5lMBq1WC61WG3G9zWZDa2srioqK+LiM8GKz2SIEJzqVOZbLLF0bp9TfH++wF9tv3o4zfnkGNCWanBURMZYIKTacBM4XnUgn3Ey7lYDZWSfCFf9ZrVaMjY2htLQUVVVVWLx4MTQaTcbWNdOYKi4DgK+REVo0LpcLw8PD8Pv9CAaDkMlkcVOZ1Wr1tE62pLopuwfdeOX8V2A7YYPtpA0X/eUiANJd72SICawHg8GsW6hTkXURAeJnU2XDIuDWlA0RybRger1enDx5MqL4z2g0orKyMqVnQNkKrOcKicRlol1mPp+PL8zkUpmnqpeJFZeR8mvpMrvw8pdehqPLAQCw7rHitYteQ/l15TknIiQmkiaminFkyxUyUy0RlmXhcDh4a2NsbAyVlZWYM2cOKioq0uJ/zbUveypJ1XOXy+VxU5kZhonpMnO5XPzvDMNAqVTGtGAA8PU8Unm/nD1OvHz+yxjrHYu4fuCjATjvcmLVKasmuBClDKkTyRIymYy4s6ZJdPEfwzCoqKiATqdDfX09jEZjyo+ZTqSyyUkJYQpyLFiW5V1mwgtnyQDAxx9/PCEuw1k2XF+zTLWYsXfY8cqXX4HL7Ir5f89hD/51xb9w4UsXQqGR/DYGgFgiWSOblkg2xCuVxX9cDcfQ0FBE8V9paSlkMhl27dqVsQ1Zyi6T2QBFUVCpVFCpVCgsLIz4H8MweOedd3DKKadM6ADgdrsxMjLCx2Uy0WJm9PgoXjn/FXgsnri381g8CLqDRESyTNZe/URfzGxt5rlYJ8IV/1ksFgwPD0OpVMJgMGDZsmUoLi7O2hk8sRykDfeZUygUUKlUES1mhGSixUzf9j68ccUb8I344q5Z26jFhX+5ELry5DIFs4nYyYZERKbJbAusJ0soFOJrOEZGRqDVaqHX67Fq1apJi/+Ex8vUc5yNgfVcWKOQRJqSJtpiRnhJpMWMSqnCscePYc8De4ApXjb9Mj0qflyRUwICkLYnWSNb7iwp14kEAgE+vmGz2fjiv3nz5k16Fjmd400XYonMDsS2mBnuGcb+2/bDsdsx5TEMKw348ktfxsf7P865zxUZSpUlSGB9nFjFfwaDAa2trUkX/+U6ubZ5SB3uM5fu1zVWixnz+2a8feXb8AzGj38AQEF7ASqur8DH+z8GAOzfvz9ikJkwViPFFjMkJpImpnphZ3OKr9vt5oXD5XKlvPgvk5bIbHRnESbHN+rDu5vexaFnDiV0+/oz6vHl578MuUYOt9uNTz75BAaDgXefOZ1OPi4zWSpztlvMEBHJEtkMrGdjowoGg3zxn9frRXl5Oerr61FRUZFys3amtyORArlgNWXKEuGOdWTrEey4ZQd8o/GD5xxzL5iLc35/Dp+FxdW1VFVVTXAPcXGZ6MLMqaZlZqLFDImJZIlsBtYzIV7C4r/+/n6Ew2Go1Wo0NzejvLxc8s3XEoH74kipkI2QeUaOjmDb9dvQ/35/QreXKWQ4/c7TsfSHSyM+N/FETxiXiU5l5ogVl8lEixmxlkgycc5skNUU30TOhGeiO4sr/rNYLBgaGgLDMKisrITBYIDX68WSJUvSctxoiCVCANLvGvQOe/HxAx9j32P7wIQTOzErMBbgvKfOQ/Wq6gn/m67lFGtappB0tZghKb5ZIluB9VRbQDRN85P/hoaGIJPJoNfrsWjRIpSUlEAmk8FkMsHr9absmDMVYs2kh1S/rj6bD7sf2o29j+xFyBNK+H5NX2zC2Y+eDW3p5C1N0vkZmKrFDMuyMVv/x2sxo1arwbIs7HY7aJrm62Wmeh7EnZUCctkSCYfDEQOcVCoV9Hr9pMV/2e7im87jAKl1Z+WCBZULawRSv87AWAB7Ht6D3Q/tRnAsmPD95Bo51t26DsuvXg5KNvnnJNtuUYqikm4x4/ONx3/MZjMCgUDMuIywxYxcLodWqyUikgpyLbAeDAYxPDwMi8WC0dFR6HQ66PV6NDU1oaCgQFKZaMSdRRAy3Y056A5i/x/2Y9evd8Fv9yd138YvNOJzv/ocihpit8oXkm0RmYpYLWZomkZ/fz+WLl0KlUoVMy4jbDHz9ttvY8uWLSguLsZHH32Ezs5O1NfXY8GCBbjkkkuy/AwjyaqIJLKJ5ULFut/v56vGhcV/8+fPT7r4byYyU5/XTGG636+xvjHsfXwvDj1zCAFnIKn75tfk44x7z0Dz+c0Jf05y8cQnOo4zVVxmxYoVuOiii3DHHXcgPz8fDQ0N6O3thdVqTamI0DSNTZs24dlnn4XFYkF1dTUuv/xy3HLLLQm/HzlhiUhRRLxeL1/D4XQ6UVxcDL1ej7a2NtHtqWe6JRLvWLm4Mcw0khF7lmUx+PEg9jy8Byf/ehIsndz7R8kpLPvBMqy5aQ1UBcmlrkvdEokF9/lONKNLo9Fg4cKFkMlkOPXUU3HttdemZV333nsvHnnkETzzzDNobW3FJ598giuuuAJFRUX43//934QeQ/IiIqWK9VjFf9XV1Vi6dCmfu57qY6aTXHVn5dIGkgtrTWZTpkM0Tr5+Ense3gPLbouo4zWc2YDTbj8NFe0Vou4P5MbrKkRsRlm6YyIffPABLrjgApx33nkAgIaGBjz//PP4+OOPE34MyYtINi0RmqbhdDp54fD5fHzxX2VlZcrf3Fzd1KdCGFhPFTPxdZIy9k47jjx3BIe3HoZ7wC3qMWpPq8W6W9eh5pSaaa0lly0RqY3HXbt2LR5//HGcOHEC8+bNw/79+/Hee+/hgQceSPgxsh4TSeQ2mbREuOI/s9kMr9eLjz/+GJWVlZg7d27ai/+IJULIBpN9BoLuIE7+5SQO/ekQ+j9IrEAwFlWrqrDu1nWoW18n+jGE5KKIcHuY1CyRG2+8EWNjY2hpaYFcLgdN07j77rtx6aWXJvwYkrdEMhFYZxgGNpuNr+FgGAZFRUVQqVQ4/fTTM9bMbaaKSDosEUJqEb5HAx8O4NCfDuHEayeSqu+IpnJxJdbeshaNX2hM6aafi58jMR18gfQXG7700kt47rnnsHXrVrS2tmLfvn247rrrUF1djW9961sJPYbkRSRdlghX/McNcIou/nM4HDh48GDGu4Hm4hdkuuTaWWWi5Mp7ybIsfCYfdv5iJ46+eBSOTse0Hq/+c/VY9sNlaDirIS3vbS5aImLXnG5L5Cc/+QluvPFGPuOrvb0dvb292Lx588wREZlMBpqmU/JYsYr/DAYDli9fjqKioog3WQpdfGfa8WIdi2VZjI2Nwe/3Iz8/P6E23rm2gUiVkaMjOPHaCRx/9TjsJ+zTeiy5Ro6FlyzE0h8sRfmC8hStMDZERFKH1+udYCHJ5fKkTtwlLyLTtUSCwSBfw5FM8V+uTDacLtkaSuVyuTA4OAiLxYJAIAC1Ws23i1CpVPycCOFPrVbLZ8Hlylm+1OCE4+TrJzF6bHTaj5dnyMOSK5eg/Yr2jE0azEUREdPBF0i/iJx//vm4++67UVdXh9bWVuzduxcPPPAAvv3tbyf8GFkXkXQ0YOSK/ywWC+x2OwoLC6HX69HS0oK8vLyEHiMblfIz3RLx+XwwmUwYHByE1+tFZWUl5s+fj4KCArAsC4VCgVAoBJ/PB5/Px7eL4GZ4+/1+UBQFmUwGpVKJUCg0QWQS6Uc0m2BoBpZPLOj+VzdO/u0kbMdtKXncqlVVWPydxZj/1fmQqzI/ACrX3mOxwpfumMiDDz6IW2+9FT/84Q8xNDSE6upqfP/738fGjRsTfoysi8hUJBpYn6z4r729XVTxn5TH46byeOkWSr/fj8HBQQDAhx9+iPLycjQ1NaGyspLPdON6CQnbRcQar8owDPx+P06ePAmWZaFUKuFyuTA0NAS/349QKMT3HBIKi9CiyXSMKxubnd/uR8+2HnT/qxs9/9eT8NyOqcjT52Hh1xei9dJWlM4rTcljiiEXLZHpuLPSOR63oKAAW7ZswZYtW0Q/huRTfCcrNmRZNqL4z+12o6ysDDU1NSkp/psNMZF0EQwGYbVaMTg4CLvdjuLiYgDAunXrpjUbQSaTQafT8R1Q58yZE/F/rh+R0IoZHR3lf0/EVZZrmxMw/l0YOTKC7n91o/tf3Rj4aAAsk5rPkUwpQ9M5TWj7RhsazmyATJF8hlGqyVUREZOdRRowpgDhxsoFYS0WC6xWK/x+PyoqKtDY2IiKioqUvtizQURSebxwOIyhoSEMDg5iZGQEhYWFqKqqwqJFi6BSqfDvf/877QO24vUj4jqrcq4yTmiiXWVcR1VOWIRCIyVXmcfqgWmHCX07+tC7rRcusyulj1/eVo62b7RhwcULoC0T18YnXeTiiZZUA+upQPIiAoy7RI4ePQqr1YpwOIyKigrMmzcvrcV/RESmhmEYDA8PY3BwEENDQ9DpdKiqqsKCBQsiZjGk4zkl+5iJusqEloyUXGU+mw/m980wbTfBtMOUkqB4NGULyzDvK/Mw78J5KJtflvLHTxW5aIlINbCeCiQpIgzD8AOcBgcHwTAMCgoK0NrairKyMlFmYbJwG2wmP7C54M7iCjMHBwdhtVqhVCpRVVWFNWvWoKCgQNRjSmFD4Fxlkw0iErrKOJGZylVG0zTGxsagUCiSdpUFXUH07+xH344+mHaYMLR/CEjDR6NsYRnqz6lHaG4IZ339rNQfIA3koogQSyRNcCNygfHiv5GREb5qXC6XQ6/Xw2g0YmxsDG1tbRlfWzaQoiXCtYLhUnIpioLBYMCKFSsm1NdMdhzucVK17kwzlassGAxOEBmWZdHV1YVjx47FdZVpNBr4Bn0Y+GgAAx8NYPDjQQwfHE5ZXCOa8tZy3uIonVcKp9OJQ4cOpeVY6YCIiLTIqoiwLMu7QkZGRqBWq6HX6yM2p4GBATidzoyvLR3T+BI9ZqaIJyIsy/K1HIODg6BpGnq9HosXL0ZpaWnOfYnTCUVRUKvVUKvVEa6yoaEhLFmyBDqdLsJV5nV5Yf7IjOHdw7AfsMN91I2QTXx7kamQq+SoPbUWjWc3ovELjSiZU5K2Y2WKXPv8kcB6mqAoCkNDQ8jPz0dzczPy8/MnfDiy2cUXGHffZMJ9xh0z2+4st9vNWxx+vx96vT5lbsRsP7dswLIsnN1ODO0bgmWvBZZPLLDssYD2p6YLw2TkV+ej8QuNaDy7EXXr66DKnzxNNNfel1xbLyAuJsIwDD+rXcpkPSayaNGiuAHJbBT9AZ8Nj5GieynVx/P5fLBYLBgcHITb7UZFRQXmzp2LioqKlAWLU33mKMWNhBMM6z4rrPusOPH2CRzsPYigM/E546KRAUULi6A/TQ/j540wLDZEFGBOte5cOrPPtfUC4tYcCo1bp0REpkk2x+MCM1dEAoEAHA4H7HY7LBYLysrK0jYnZSZCh2jYO+wYOTyC4YPDsO4dF46AI7nxsNOhbGEZjKcZoV+jR+nSUjAqhneZ9fX1Tcgqi1Ufo9FoMrbeVDHbRCSdxYapQPIikm13VqZFhDtmOr4koVCIz3iz2Wz8RrJixYqMfFBzMbDOsizcg26MHB757HJkBLbjNtDB9LqkoiluKoZxvRF1p9eh9rRa5FVO3cInkawyhUIBhmFw+PDhCWIjxQLMXBWRZN3BxBJJEdkcjwvkvojQNB1RBJifn4+qqiq0tbXBarXCbrdnRECk/qVnWRYeiwe2kzbYT9gxemwUw4eHMXJ4JKPWhZCihiLUrKmB8XQjjKcbUWgsTPoxEskqGxoaQm9vL58AEKsAc7L6mGwVYEr98xSNmO90OBwGQEQkLsIU33i3yXZgPdPHTPT5siwLX9gHV9AFX8iHEBNCkA7CF/Jh2DYMy5AFI/YRKFVKlJaWotRYCo/Ggw62Ax2DHeMjfz0+eEweKGVKKOVKKGVKKGQKKGVKqBVq6JQ66BQ6aBSaaX9xpTAeN+wPw95ph/2EHbaTNthO2GA/aYe9w46gKwOxi0mQq+SoXFKJ6tXV/CVPn1izULFwWWV5eXlQKBRobGyM+H8yBZiTucrSUYCZq5ZIsmsOBsc/j0REpkm2AuvcsTMtYKEQhZMnAZOJQk8PhROdYfx55x64hsox/8dXwSOzwhV0wR1wwxV0gWZT4FL5ZOqbUKCgVWqhU+jGfyp1yFPmoVBdiEJVIQrVhShSF43/rf7s72JNMcq15RgODcMb8iIf4ntnJUpgLABnjxPOHicc3Y7x37udcHQ54Ox1pqVoL1m05VpUn/KZYOiX6KHQZOfrONkGl44CzFS4ynJRRMRkZ4VCIchksoxlh4pF8iKSrcB6Jo7NssDu3RR27JBhzx4Ke/Yo0d19PlhW+GFTAlgHAPjk6AigP5q29cRdK1h4Q154Q15AbFPYg4BWoUWpthTl2vLxn7pylKhLUKGpQHVhNSp1lTDkG6DX6VGuK4dCNvEjGvaF4bP40NvfizHT2Gci8alg+G3+6T3ZFKMqVKFycSX0S/TQLx2/FDcV59xGGI2YAkyHwwGfz4dAICDaVSbFzLypEBtYl7oVAkhARKZqLZLN2ol0HZumgSeekOHXv1aguzuJD5a9EdDnTmVxLHxhH/pd/eh39cf8vzwsR+FYIQrHClHkLEK1rxoVngoUjxUj35kP1agKlEu6m6+q4DPBGFWPYvWFq1HdVg1KJt01p+MzPlkBJsd0XGWBQHZiVNNBbEyEiEgKyFZgHUiPiAQCwEUXKfHWWyJMVHtTSteSMUIawFsGeMsBX9n477IwsPC18f+zwLef/DZKbaXI96Tf3ZUq8mvyUb6wHOWt5ahoq4B+qR4lc0p4wXjnnXdQ0lwiaQHhyLRVlIirTNjSn3OVcVYNy7Kw2+0pd5WlC7HZWUREUsBMs0Tuv18uTkAAwNE49W3SAQsgpAMCheMXf9Gnvxd99revNFIkfJ+KhrcMCMfYKMqOfSYiFFDgKpCsgKgKVChbUIaKtgpeNMoXlkNTkns1FrGQontIoVCgoKAgZlPPjo4OBAIB1NbWptxVli7ExkSIiKSAmRZYf+SRaWSrfPQjwLQGUHoBpW/8p8I3/rs8AFAMIKPHf1IMQH36OysDGMUkFyUQ0o6LRFg7/nvETx0QKADYFH9UfJGtxscKx1DiyHJPpwJA16RDxbwK1LbWorxlXDAK6woldVabDnLp+VEUBYVCgaKiooRcZT6fL+tZZcSdlSYSSfEVth+RUoNCMbAsYJvuiOuBVSlZS9bxlQIMBcjGX19nUWaabDIUA3uJHSPlIxgpH8Fo2Sj/u1fnBT79iGkVWjSPNmPeoXlotbSitaIVbeVtqC2oTfhzKMUz/Fjkyjo5ptoLpuMq8/v9ackqE+vOknq1OpAjlgiQHRFJdTyGooAzzmDxf/+XO2d9aYOVj7vDtA4A45ZIqggqg7CV2mAvsUdcHMUO2EvsoBVTp0X7wj4cHD6Ig8MH8efjf+avL1IXobW8Fa3lrWiraENreSsWli9EvkqarrhEySVLZLqiF89VlmxWWSxLJparjMREsgj3wmeymy5Hqi0RhmHwgx+M4O23K8AwufOlTRd/POuf0FSaMDA2gCHrEPB+YvcLKoNwFjnhLHJirHCMFwfu4snz8BZFqnEGnPig/wN80P9BxPWNRY1Yql+KZYZlWKpfisWVi9OzgDQw0yyR6ZBsVlksV5lCoZggLD6fDxRFgabphF1lRERSRDYqx4XHnu4XjMsi4dqr63Qy3HPPAtxzjxFjY9IuIko39cplWD1vKYLBIE70nsDfH/k75Go58qvzUVBbgIKaAij1StDlNLwlXtgL7BjUDeLY2DEMegdhZ+wwu8zwhcUWrqSObmc3up3dePXEqwDGizNr1DU4xX0KVtSswHLDcrRXtEOnjO1iyTa5ZolkqwBPrKtsbGwMDocD/f39vKsslhUjdJVxgiR1JL/CbLRk5xArIizLYmxsjBcOmqZhMBiwdOlSlJSU4IwzKFx+eQgvvyzDyy/L8cknFLze3PkSJ0tJCQut1guDQYnKSjnKyoCyMhbl5Z+9trWn1+KqzqugLddOuaF1dnYiFAqhpaUFLMvC5reh39UP05gJPWM96HH0jG/qjm70jvUiSGe+nQkLFuaAGa+cfAWvnHwFACCjZFhYthCrq1djdfVqrKlZg7rCuqxv4LlmiQDSFb3JXGWHDh3i+9ZN5SpTqVS44447kJ+fD4/Hg1deeQWNjY1oampCSYn0BopJXkSy0QhReOxkjssNdBocHEQgEIg70Km4GLjySgZXXsmApoGTJyns309h27ZOyGT1GBxUob+fgt1OwWYDfL7sfWlUKhZFRUBBAVBUxKKgACgsZFFYCBQWAgUFLEpKgNJSlheIsrLxv0tKAIUC+M9/3sXSpUtRXFwc8xhKnRLKouRNd4qiUKYtQ5m2DIsqF034P8MyGHAPRAhLl7MLHbYOnLSfzKgVw7AMDo0cwqGRQ3jiwBMAgKq8KpxScwpOqT4Fp9ScgvaK9phV+ulGqptyLMSky2YbznpKxFXmcrlw9tlnY/fu3XC5XLj33nvR1dUFm82GEydOYO7cuSlbV39/P372s5/hn//8J7xeL5qbm/HUU09hxYoVCT9GzoiIVN1ZXq+XH+jk8XhQUVGBefPmJTXQSS4HWlpYtLSwKC/vwsqVZSgsjOzY6vMBdjvgdFLw+QCvd/w6n2/872AQYJiJF5oef3y5fHwzVyg++93tdmBkxIIlS+ZDqwV0OkCrBTQaFlot+EsqEkRSGV9KZgORUTLUFtSitqAWpxpPjfgfwzIwu8w4PnocJ+wncNJ2EidsJ3DCdgJD3qGUrHUqBj2DeO3Ea3jtxHjNTJ4yDysMK7C2di3WG9djRdUKqOTpzdAhlkj6ScQFJ3SVXX/99di6dSucTie2b98OABgbG0NeXuqactrtdqxbtw5nnHEG/vnPf6KiogInT55M2tqRvIgA2R1MFUu8AoEALxxOpxNlZWVoaGiAXq+ftg9zss2W29Crq6P/J/51GRryo6NjBGvXzhP9GNkiFZ8HGSVDXWEd6grrcFbjWRH/s/vtOGE7gcMjh3Fo+BAOjxzGkZEjcAbSm4rsCXmw3bQd203bsXnnZuQp87C2Zi021G3A+rr1aKtog4xKfTwglzblXBS9VNSJRJ9YTpd7770XRqMRTz31FH9ddCfnRMh6nUiit8u2JRI90Km4uBjV1dVYtmxZSnO5M12hP1OPNV1KNCV87IKDZVmYXWYcGjmEw8OH+Z8n7SfBsOn5fHpCHrzV8xbe6nkLAFCmLcN643qsrxu/NBY1SqpFfyaYTV1805md9de//hVnn302/vu//xvbt29HTU0NfvjDH+LKK69M6nGIJRIHiqJgt9thtVoxPDyMwsJCGAwGtLe3p22saCZFJNPHynUoioKx0AhjoRHnNJ3DX+8NeXFw+CD2WPZgr3Uv9lj34KTtJNg09Jwf9Y3i1ROv8llgdYV1WG9cjw31G/Dl5i9DrVCn/JhSIxdFRGwX33QWG3Z1deGRRx7B9ddfj5tvvhm7du3C//7v/0KlUuFb3/pWwo+TEyKSyc2OYRiMjIxgYGAANpsNHo8HdXV1mD9/fkr9kZORzV5h2YSm6ZzIiY+FTqmbYLWMBcbw9L+eRrgijAO2A9hr2YtuZ3fKj9031oc/Hf4TXj3xKi6YewEAgKIsoCgbGGZhQo+Ra5tyrq0XkGbbE4ZhsGLFCtxzzz0AgKVLl+LQoUN49NFHZ56IpLuTL8uyGB0dhcVigcVigVKpRFVVFUpKSmAwGFBfX5+2Y0czky2R6GN5PB4MDAygv78ffr8/In+eu+h0Omi12ogvUy5sIIXqQrTlt2HNkjXQarUAgBHvCD4a+AgfDnyInf07sde6FyEmlJLjratdxwfglcpnoFbfDZpuQTh8IcLh/wLDzI97/1x4TYXk2nqlWLFeVVWFhQsjTzQWLFiAP//5z5PcIzaSEJGpVDodmx3LsnA4HHwtB0VRMBgMWLFiBYqKikBRFPbs2ZPSYyaztkyQncmNIVgsFvT398PpdKKyshLz5s2DVqvlC7V8Ph+8Xi/fz4gruuIEJRAIgGVZOJ1OXmCkuqkI11WuK8d5zefhvObzAAD+sB97rXuxs38nPhz4EB8NfAS73y7qOBvqNvC/KxTjri65/Bjk8s1QqzeDplsRDl+IUOhCsGzqUkSzwWyxRNLtzlq3bh2OHz8ecd2JEyeSPmmWhIhMRaoC6yzLwuVy8bUcNE1Dr9dj8eLFKC0tnfAmZ2OTnYnuLJZlQdM0Ojs74XA4kJ+fj5qaGj4pIRQKIRgMIi8vL2b+PCcuXq8XPp8PHo8HgUAABw8eRDAYjOjIygkN97tKpZLshqNRaLCmZg3W1KwBMJ5yfHz0OHaYdmB733a8a3434Wyw9XXrAQAy2VHI5ROnX8rlhyGXH4ZafRdoul0gKHNyblPOxe+HmMB6MBhMa8X6j3/8Y6xduxb33HMP/ud//gcff/wxHn/8cTz++ONJPU5OiMh0A+sej4cXDr/fj8rKSixcuBDl5eVxTcyZLiLpPpbb7UZ/fz8GBgYQDAZRXFyMNWvWxGx8F4/oKmCWZeHz+bBw4ULQNB1hvfh8PoyNjfHVwDKZLKZ7jGs1IaXNU0bJsKB8ARaUL8D3l34fNENj39A+bO/bju1927Gzfyf89MTRv2XaMrSWtwIAFIrXpjyOXH4QcvlBqNV3gKaXoKzsc3C7T53yflIh10QPkGZMZOXKlXjttddw00034Y477kBjYyO2bNmCSy+9NKnHyXqKbyIbmZjNzu/388LhcrlQUVGB5uZmVFRUJKzu2ZiqmMkvRzpEJBgMYnBwEP39/XC73aisrERbWxuOHj2K2trapAVkKuRy+aRzvhmG4QWGE5nh4WFeYABMiMFwQqPRaLLWn4lDLpNjuWE5lhuW4/pV18Mf9uOjgY+wvW873ul7B3use8CwDNYb139aO8LyrqyEjyHfh8rKfaio2AKa/jxCoW8iHD4XgHRbkM8WEclEA8YvfelL+NKXvjStx8gZSySRzTwYDPJFgA6HA6Wlpairq4Nerxf1Zsx0SyRVcBlt/f39GBoaQlFREYxGIwwGA/+6R/tep0OiX0aZTIa8vLyYWXVciwmhyNjtdvT39/PjV7mmeELrhbtM1Y0gHe+hRqHh60M2YiMcfgfeN7+PMm3Zp8/3COTyE6Iem6IYKBRvQaF4CwxThnD4YoRC3wTDtKbyKaSEXBURMYF1LilDyuSEiMTbWMPhMF8EODo6iqKiIlRVVWHJkiVQq6eXMz/TRWS6xxobG0N/fz8GBwchk8lQXV2NU089NSOp0NN9jeJ1Y2VZFoFAgHeP+Xw+OJ1OWCwWeL1eMAwDtVo9qZssU51XizXFfJB+fN3lCARugULxGuTyw6IfVyYbhUr1MFSqh0HTSxEKXYZQ6L8BpLZiWiy5KCJiiw1jxQilRs6IiNASoWkaw8PDGBwcxPDwMPLy8lBVVYXW1taUKvdsEJFkCQQCGBgYwMDAALxeb9zEhGhyxcLihg7FKijlhhYJXWRut5t3k3F+bO5zaDabkZ+fHzNVOdWwrB7B4E8RDP4UMtlxKBSvQaF4FXL5MdGPKZfvhVy+F2r1RoRC30AweBVYNvnWGKkm10REbEyETDZMgEQ2Tc6dxQmH1WqFWq1GVVUV5s6dG9Mfnqm15foxEzkWwzAYGhpCf38/RkZGUFJSgvr6ehgMhoTPunPtSz8ZwqFF0R2JWZZFOByG1+uF1+vlA/xcq28uVTmWi0yn06U0VZlh5iMYvBHB4I2QyY5CoXj1U0E5KerxKMoFleoRKJWPIRw+D6HQ1aDpNUjb9K845KIlItWYSCrIuojEg2VZvmr82LFjfBHgqlWrUFhYmPYPUrZ6dknBncXVYQwMDGBwcBAKhQI1NTVYsGDBpAN5ZjsURUGpVKKoqAiFhYU4evQo5s2bx7tVo1OVOYHxer1xU5XFzvXmYJgFCAZ/jmDwZshkh6FQvAql8lXIZF0iniMDpfJvUCr/BppeimDwhwiHL0QmA/G5YtEKERMTSXd2VqqQnIhwA50GBgZgsVjAsizkcjlqa2vR0tKS8eylTItItvqEcfj9/ogq8qqqKixbtgzFxcXTeu1T3Qo+FzeSeLO9k01VFgqNWq1OcIOiwDBtCAbbEAzeCplsH5TK5yCTvQCFIvkZ93L5Xmi1V4JhNiIYvA6h0BUA0tNTTgixRKSFZESEKwK0WCwIBoPQ6/Vob29HaWkp9u/fD6126ol3qSZbm1WmLRGapmG1WtHf3w+bzYbS0lLMmTMHer0+4ZkohEiSfQ+TSVX2+XwYGRmZZqoyBYZZikBgKXp7r4Ra/SYaG9+GXP4OKCq5tctkg9BofgaV6rcIBv8fQqFvIp2WCRERaZF1EfH5fNi9eze8Xi8qKysxf/58lJeXR2xe2XIrZcMqyJRwcRYfTdP4z3/+A7VajZqamrR2KM5F60EKiE1V9vv9YBhmylRlhlHBZjsLBsOPQFF9UCqf+9RC6Utynf3QaH4MlerXCAZ/ilDoawDSswnmkoiwLEtEJJ1oNBo0NjbGHeiUzVbw2RCRdOL1evnsqmBwfPa4sF9YukjlY+fSBpJuEklVFrrIuFRln88Hmqb5WAtFUejp6flUaK6BVnsD1Op3oVI9AoXi30muqQ8azTVQqe5HIHAjwuH/AZA6izbXLBFuDyEikiZkMhmqqqqmbD+S7aFUuXzMcDgMi8WCgYEB2O12lJeXY968ecjLy8POnTsnnXtOyG2EqcrRI0+Fqcq9vb0IBAIxUpVV0OluQknJt1Fb+2eUlPwNMtnEtiuTIZN1Q6v9Pmj6Ufj9D4BhlqfkeeWaRcutV2pdfFNF1kUkEWabJZKKY3KZbf39/bBardBqtaipqcHixYv5bCGv1yuZdOJk15ErG4lUz5iFqco2mw1qtRotLS0AIlOVx11kpejouAHB4KWoqHgN9fV/h1Y7mvCx5PK90Ok+h1DocgQCGwGUTWvts8USIdlZKSRbAe5cFBHhjA6aplFdXY3Vq1ejoKAgq1+8qY6dS5vCTCP68yZMVY6smF4I4HPw+38Jv/9l6HS/gVqdWN0JRbFQqZ6CQvE6gsHbEQpdBkBcb7LZIiLpbgWfKiQhIok0YCTurMmJNaNDil2Kc8V6mI0ks8EpFFoAlyEYvBQM8yrU6s2QyToSuq9MZodG878IhR6B2XwrgCVJpyrnmohwexeJiWQRmUwGmqazctxsdPFNZLNlWTai6WH0jI5Ej8U9ViYKN6X4WITpiLsc4fB/Ixy+EArFi1Cr74VM1pPQPQsKjmL+/MvQ0/N9HD/+Jfj940keGo0mZhaZVqvlBSbXRIQE1tNMIi/sbLJEgPhfauGMDgCorq4WNaODkF5yzeqa3qasQDh8KcLh/4FS+RxUql9CJjNPeS+ZLIympt+hru44vN6H4fcXRVTz2+12DAwMwOfzRaQqc3VNgUAg4a7K2YQTPRITySKzPbA+2YyOsrKyac28yLQlksrXMtc2aSmTutdSiVDocoRCF0Ol+jVUql+DogJT3kuh+D/k56+DQvEotNqzYq5PmKrscDjgdrtht9sjUpWz3VV5MsR+v4glkkJmkyXCfdgSmdGRqmMRCKn9LGgRDN6MUOgSaDQ/TajORCYbhk73VQSDVyMQuAPCIsXoVOWOjg6+8Wp0V2Wfzxezq3Kshpfp7qrMIaYNPDB+8khEJEXMJkskFAphbGwMJpMpYzM6MvUcJzsOEbPski5LlGWb4PO9DLn8n9BofppQBbxK9TvIZMfg8/0JQOzu3ML1JtpVWSgyo6OjE7oqR1svqeyqTCyRNJOIrzCbKb6ZsIACgUCEuyovLy/hGR3TQejOSjezNbCeK2tN3zop0PS58Hg2QKX65acurvifN4ViG3S68+DzvQyWrZzw/0Q35clTlcfhuioLK/on66ocLTLJdFUWKyIkJpJCspElBaRXvKJndBQXF6O+vh5OpxNyuRxlZdMryCIQpIUOweAm0PSZ0GiuhEzWH/fW4wWKZ8HrfRUsO2fC/1Mheol2VeZExmq1iuqqLKYNPEAskZSSLUsk1W60RGZ0uN3ujE82zJQlQgLr0iSTKbM0fSo8nveh0VwLpfJvcW8rk3VDpzsLPt/LfMsUsc0MkyXZrsqjo6MwmUx8V2VhqjLLsmAYBh6PJyJVeSpIsWESzPRiw1gzOpYuXYqSkpIJX4ZMPtdMigiB8Bml8PufBU0/DbX6RlCUb9JbymQj0Om+Aq/332CYBfz12XQTTtVVORAIRMRhxsbGEA6HsWvXroS6KnMQSySF5GJgfTozOmbipp6rg6TEkkvPNTtrpRAKXQGaXgmt9quQyQYnvyXlhFZ7Ebzet8EwFZ9eJ81Yk9DNxTE6OoqTJ09i9erVfKoy5yKL1VX5lVdewdDQEAwGA958802sXr0azc3NKCwszOIzm5ycEJFcsURYloXD4UB/fz8sFouoGR2Z3Gxz1RKR6gaSq2SzApxh2uD1/h+02v+CXH580tvJZCZotf8Dlyu+C0yKcDGRRLsqm0wmfPTRR/D7/Xj88cdx8803w+FwYMuWLfjRj36UljX+4he/wE033YQf/ehH2LJlS1L3zQkRkbol4vP5+CryUCgEg8EgekbHTBaRXBMrQmZgWSO83n9Bq70ECsWHk95uPNj+PQDfyakTiUREWpiqfMkll+D888/HE088gRMnTqC0tBQ2my1tz3nXrl147LHHsGjRIlH3z7qISD3Fd7LjhsNh3l0lnNFRWVk57SrymbjZpvoLMBNfo2yS/U25FD7fX6DRfDduwF2l+gcWLNCCos7I4Nqmh9iphgD4mEhpaWnK1wWMJ/Jceuml+P3vf4+77rpL1GOI3+0yiFTG47Isi9HRURw4cAD/+c9/0N3djYqKCmzYsAHLly+HwWCYloAAmf0yS8WdxRWFzUSyvzlPTbbf/8/Qwu9/GuHwhri3mjv3NSgUhzKzpBQgpmI9WkTSxdVXX43zzjsPZ555pujHyLolkgjZdGdxqXmZmtGRaUskU8eLdZxQKITBwUH09fXB7Xbz7SmEl1xosDcTkI7YKeHz/RE63Rcglx+LeQuKYqDV3gCf7y3kwnlwKiyRdPDCCy9gz5492LVr17QeRxIiMlXudzYskVAoBKvVilAohPfeey/hGR3TZaa6szi45AOz2QyLxYL8/HwYjUbk5+fz+fderxculwtWqxVer5dPi+SEJRQKIRQKwefzQaPRSGgDzE2k93krhs/3CnS6z0EmG4p5C4ViF5TKZxAKXZHhtSWPWBGhKCptJ08mkwk/+tGP8NZbbyWc9DMZkhCRqciUJRI9o0On04GiKJxxxhkZK/qZqZYIwzCw2Wwwm83w+/28NVdYWIhwOAy/38+3qBDCZa14PB5eYNxuN3w+Hz788ENQFMXn3EdfciHHXipITYhZtg4+34vQ6b4AigrFvI1afRvC4S+BZSsyvLrkEFOxnu5Cw927d2NoaAjLli3jr6NpGjt27MBDDz2EQCCQsIDlhIike6ObbEaHTCbD+++/n/Gq0UyfGabreJzVYTKZMDw8DI1Gg7lz58JgMCT8ARVmrXAMDAzAarVi8eLFETn3Xq8Xg4ODfO8jhUIRU1wy4R6T3tn95Eh1rQyzHMHg/0Ktvj/m/ynKAZXq1wgE7snwypJDjCWS7r5Zn//853Hw4MGI66644gq0tLTgZz/7WVLfj5wQkXT0zkpkRofX65XEPJF0Hy/VBINBDAwMwGQyIRAIoKamBmVlZSgvL0dNTU3KjhOvcpjr3spVDns8HgwPD8Pr9fJFXbEEZra6x6T6nIPBn0CpfAUyWW/M/ysUzyMQuB3C1vFSQ2xgPZ0iUlBQgLa2tojr8vLyUFZWNuH6qci6iCTajTMVG2uyMzq442ayGCtX3Vksy/LuKqvViqKioogK/X379mX0eSkUChQWFk6o8uXcY0KBsdvt6O/vh8833n4jnntMqpvtdJCqJTKODn7/L6HTXRzzvzLZKOTy/wNNn5PhdSWO2JhIrrhjsy4iwNRCMt3A+tjYGPr7+zE4OJjUjI5MTv4THlPaX+pIgsEg+vv7YTKZEAqFUFNTg7Vr105oXJfqVvBiXyOheyy6aphhGPj9/giB4YL7gUCAnz0Ryz2W7el500XK4kjT5yAcPh0KxY6Y/1cqnycikgLeeecdUffLiU++mMC6cEaH1+uFXq9PekYH59bKdffSVMdL9vlxVofJZILVakVJSQmam5un7AsmdXGUyWS8METDzZ7gBMbr9WJ0dBRerxfhcBgqlSpCWLg4mtSfM5AbawyFLp1URBSKfwCwAyiJ+f9sIyawniuzRIAcEZFELYLJZnQYDAZRZ4rZKMaTsjsrEAjwVgdN06ipqUl46qKUz3QTYbLZEyzLIhQKRYiL0+mEx+MBALz33nsR8yaihUYqr4tU1jEZ4fD5YNnrQVGeCf+jqCAUih0Ihy/IwsqmRkxMJFdG4wI5IiKcijMMM+FMN5EZHWKZDSIyFVzas9lsxtDQEEpLSzF//vxpt3eZKVAUBZVKBZVKFTGeNRQK4d1338XKlSv51uBerxdDQ0P8YCO5XM67w6IFJpPuMSl93iYnH+Hwl6FUPh/zvzJZR4bXkzi54s4SS06ISKzNPJkZHak8brqRiiXi9/vR398Ps9kMmqZRW1uL0047bVrCnBubVWrRarXIz8+fMKmSm5wntGBsNhs/+5tzj0ULTDJDjZJB6pYIAND0KZOKCEVNPb89W4hN8c2VOFtOrJJ7A0KhEO+uSnZGx3SOK4VNPRPH46wOrq6jrKwsZVaHVALrmWKq9cWbnBftHhsbG+NnTjAMEyEswt+TmfudzFqlAsMYJ/3fZCnAUkBssSGxRFIE564Cxv3LGo0m6RkdYpkNIgKMxzo6OjpgNpvBsixqa2vR0tIybXdgNLmyWWUbrnI/VvW+0DXm9XoxMjICr9fLz/2OJS6JVO/ngiXCMPWT/k8mm1mWSK6MxgUkICKTvbjCGR3BYBAAsGjRIlRWVmY03TbTfbsy2YZkZGQEwWAQ+/fvR3l5eVp7g+XCJiV1hEONoluDC/uOcReHwwGv18uf1cYSGG4GeC7AspVx/mvL2DqSRYrFhqkk6yIiJN6MjrfeeistXXOnIhuWQTqP5/P5YDabYTabQVEUZDIZFi5ciOrq6rQdcyoSmSlDiE+86n2uWSUnLm63G0NDQ3xzS5lMhmAwCLfbHSEyUqvep6jYzRjHSc+8jVQgxbYnqUQSIuJyudDb2wur1QqtVouamhosXrw4ol9SrozITcXxUg3DMBgeHobJZMLo6CgqKirQ2tqKiooKvPvuuxGvczpJ1esopY1tKqSwVqVSCaVSOWn1/r59+/gTNK72xe/3T9rcUqvVZqV6XyYzT/q/ePGSbEOyszIAVw0cb0aHFKcbput4qRJLr9cLs9mM/v5+UBQFo9GItra2iFhSJueJpJJcccFIGa56X6lUoqSkBFVVVfz/OPeYlJpbUlQ8EalNyzFTAQmsZ4Dy8vIpffFSn7OeyuNNB67g0mQywWaz8Y0ly8vLJ31sMmN9dhPrTDnVzS25gsvpfL7l8o/jPAdpiwixRCTAbHJniTmex+PhrQ65XA6j0YhFixZN6arKZJICYWaQneaWfiiVr0/6X4ZpTsEzSw8ksC4Rsj0iN5PHS/R5MgwDq9UKk8kEu90OvV6PRYsWoaysLOEPbS7UXESTC4I0G1/TRJtbci6yZJpbKhT/AkU5Yx6XZRWg6c9Ne/3pgqT4phkuM2eqL122LJFMi1cir4Xb7eatDqVSCaPROCERQYrk2sY6W8hEl+p4zS1pmo5ITfb5fBOaW65c+Si02tiPTdNngWXLYv9TAogVEVKxnmJmU0wk1vFomuatDqfTCb1ejyVLliTVlTiZ46UaElgnTIZcLo/b3DIcfgfl5e9Pev+OjlPg9Z6UbHNLsV18iSWSYmZLdhYQuUG6XC6YzWYMDAxApVLBaDRi6dKlKfuAZfL5kY1fmkj1fRlvbilDcfFtk96GYfLBsl/iE0qEzS0ni79k+gyfBNYlQjpG5CZCtlJ8uZbrY2NjMBgMKW8umWlyMfaSCnLl/ZLqOpXKRyGXH570/+HwRaitnRtxXSLNLSeLv6SjW4PYwHq62zqlipwRkdlgibhcLnR1dYGmaXR3d6O2thbLli1Lq1mbi5u7VDe8XEWq7z9F9UKt3jzp/1lWi2DwhgnXJ9vckgvwC5tbRouM2OaW4+sUZ4lEZ79JFUmIiJQD6+neZMPhMCwWC0wmE1wuF18vs27duoxtlpmKiWTj/SMkhvSE2Qmt9n9AUa5JbxEM/hQsO3lTxlhko7klaXsiEWZaYN3pdPKxDp1Oh9raWlRXVyMYDGJkZITUb0yBVM+ecxHpvZYhaLWXQS4/OuktaHougsFrU3bEVDS3jDX7RS6Xk4p1qZAtt0sqYzHhcBiDg4MwmUzweDyoqqrCypUrUVRUFDEzRQrZYOlAeptV+si15yqdkwkWavUNUCj+E/dWgcD9ADKTvSSmuaXP5wNN09BoNAgGgzCbzfB4PLzATNXcklgiSZLIBzhXA+ssy2JsbAwmkwmDg4PIy8vjrY5YWSLZzgZLF9LZpAjRSEnwlMrfQqV6Ou5thobOhla7ISPrmYqpmlt6vV4cPHgQMpkMNpsNZrM5ZnNLYedktVpNZqyng1wLrIdCId7q8Hq9qK6uxqpVqyb4YmMdD8hMAZjweJmAdPGVLlJYp0LxF2g0t8a9jc+3AN3dP8XChRlalEiE1fsymQxGo5H/7sdqbul0OuH1erFt2zY8/vjjKCsrg9lsRiAQwLx589DW1oYFCxZk+VnFJqdEROqWCMuycDgcMJvNsFgsyM/PR319PQwGQ9K56ZkUEWKJzG6kYIkoXY9Dbbg57m0YpgY9PQ+CZVM7cTPdRMdE4rnHFi1ahLPOOgv33nsv8vLycOTIEbz++uuora3Fa6+9lpL1bN68Ga+++iqOHTsGrVaLtWvX4t5778X8+fNFPV7OiIiUA+uhUAgDAwMwmUzw+/2orq7G6tWrRaXocR+2TD7XbG8i4XAYNpuNN+0TaSWe7TXPNLIm8kwIquN3QVX8a1BxYs8smw+f72WEw/mgKG/m1pcCkjkhLCwsxNq1ayGTyXDBBRfgu9/9bsrXs337dlx99dVYuXIlwuEwbr75ZnzhC1/AkSNHYgrbVOSMiEgtsM5ZHSaTCRaLBYWFhWhoaBBldcQiU881m+4sj8eDvr4+vvNwOBzmg5HcmZpOp+N/5oqPONfIliBTnk5o93wHcsee8SuCANom3o5l5fD5ngHDtIFluzO6xlQgtYr1N998M+Lvp59+GpWVldi9ezdOP/30pB9PMiIy1QdZKoH1YDDIWx2BQAA1NTVYs2bNhL4/0zleJsm0O4tlWQwPD6Ovrw+jo6N8Nb5arYZCoUAoFILH44HH44HX64XFYuEHISmVSuTl5UEmkyEUCmF0dBR5eXnTKgRLF7lmKWX09WNZKMxboTn4E1C0+7PrDwBwA+xqOSiK5q8OBO4DTZ/16V0z4+ZNJWIq1jOZneV0jndHjk5tThTJiMhUZDOwzjAMbDYbTCYTrFYrioqK0NTUBIPBkPIpbsLNdiZB0zRcLhd27NgBhmFgNBrR3t4OtVqNcDgMv98PlmWhVCpRWlo64QMtrDQeGRkBTdM4ceIEfD4f5HI57woTWi/pamMx08joZy3kgObAj6Ec+HPs/3cB8GvAni4DJXMhGLwWodBnLp1cFBGpWSJCGIbBddddh3Xr1qGtLYYZmACSEJFEXuBsBNaDwSA8Hg9GRkbQ09OD6upqrF27NmY7hVSRaRFJtziPjY3xLiulUomFCxeisrKStyzHu7SGAYwLTfTauItcLucrjVUqFbxeL1avXg2GYXhx4SyYoaEheL1esCzLp05Gu8Zypc12psjExiyzfQTtnu9A5uuLv5YBD8LvLwazahUCwTsi/pdrIsJ9t6RabHj11Vfj0KFDeO+990Q/Rs58kzIVWGdZNsLq4M6MFy1alLbZ0UJmgohww7L6+vrgdDpRXV0No9GIcDiMyspKvsUEy7L8psD1B2MYhr+eZdmYJw7hcBgsy4KmaVAUBZ1ON0HYWZblhyBxrrGBgQG+ypgb4cqJCvd7KluI58pml/bPWtgLVcevoDr5AChMfSLIylQIF34docBVQNRrmKsiIkVL5JprrsHf//537NixA7W14scL54yIpNsSCQQC6O/vh9lsRigUQm1tLU499VR0d3dDrVZnRECA3HZn+f1+mM1mmEwmyGQy1NXVYdmyZVAqlejo6EAwGEQoFOJ9xJyFITxLi36dOVFhGAYejwf9/f2wWq0oLy+Pa7lwefparRZlZZEDi7giME5cRkdH0dfXB7/fD4VCEdM1ptFoZrRrLC0bM8tCYfk71IdvmtL64KDzW+Bf/iSYwsldK7kkItyeJSURYVkW1157LV577TW88847aGxsnNbj5YyIcMHUVMKyLEZGRmA2mzE0NITS0lLMmzePd7cA2WkFz60tU8ebbkW+w+FAb28vrFYrysrK0NbWhvLycl74Q6EQKIqC1WrF2NgY8vPzkZeXx/+Ml9ZLURRsNhv6+vr4EcDLly9HQUFBhLUSz3oRCgswPiO8uLgYxcXFEbfjJuxx4uJyuWCxWODz+cCybExxSTQlWcqk47NGuU9Cc+gnUAy/nfB9gvXfQWDh3YBi8joQYolMn6uvvhpbt27FX/7yFxQUFMBisQAAioqKoJ1sfGQcJCEiwi94vNukyhLx+/281UHTNGpqanDaaafFHN2ZjYB+po8p5lg0TWNwcBB9fX3wer2oqanBqaeeiry8PDAMA4ZhEA6H+fespqYG5eXlEbGL0dFReDwe0DQNrVbLp/VyZ/5jY2MYGBhAOBxGbW0tWltbpxwBzB0vEXEBJlovk03Y46qLOYGx2Wz8+FaNRjPBNZZrwpKyjTnshurkr6DqfBAUm9hJH6ssgX/Jwwgbzpv6tiKaGWaT6YhIukZAPPLIIwCADRs2RFz/1FNP4fLLL0/68SQhIomQijPmkZERmEwmDA8Po6ysDPPnz4+wOiY7bjZSi6VaJ+L1emEymWA2m6FWq1FXV8f3AeOsDpqmIwKK3EWpVMaMXQQCAV5YnE4nLBYLAoEAgHGroaCgAKFQCENDQ7zITBa7SNQ1lqy4cEJRXl4esfZo1xgX1OfWv3v37piuMSmdTafks8YEoex7FqqTv4TMP5Dw3cLl6+Ff8hhYbXVCt89VS0RKgfVU7y05IyJiA+s+n4+3OliWRW1tLVpaWmJaHZMdN9r3nm4yaYkkciyWZTE6Oore3l6MjIygsrIyYtJitHhQFMVnP0315eFiF5xlMjo6Cr1eD6PRCK1WG2G5DA8Po6enh49dCF1iQgtmsk2GW0ui4jKVa4yiKCiVSpSUlKCkpCTidi6XC7t27UJ1dTXfG2lgYAA+n49PBoiVkpwtC0b0xsyEoDRtherkfQnHPQCApRQItmxEcM7/Im6pevT9ckxExJ6Aki6+IkjlUCqGYXirY2RkBOXl5ViwYAEqKiqSPiOYze6scDgMs9mMvr4+hMNhGI1GtLa2QqPR8C4rYet6mUw2IVAeD2Fr/GAwiNraWixYsCBiLKharZ6wQYfDYb7ttsfjgd1uh9ls5jdooahwQhOvZiSeuHA/o0UmlrhwPymKgkwmA0VRqKqqmvCY0a4xbvgR59aLFXeR3IbChKAwvwD1yfsg8/YkdVe6eAX87Q+AKV6S9GFzTUS49UopJpJqJCMiU5GIJeLz+WA2m2E2m0FRFGpqarBw4UJRwSKObIlINo/ldrv52o78/Hw0NzfDYDBE1HZM5rJKBM4lNjAwAK1Wi4aGBuj1+oTPwhUKBQoLCyf0JuNqRjjLhasZ8Xg8fGA8WmDy8vImPS73fKKf11RxF4ZhMDw8DIqiEAwGJ1gv3HErKir4x+TcekJxEVbrq1SqmCnJqajWT+rzzYSh6H8R6hO/hMybXAsSRlWGwII7EDZempT1ISRXRSRZiIikgcksEe4LazKZMDo6ioqKCrS2tqKioiIlH7aZbolwx+Jex97eXjgcDlRVVUW0rqdpGsFgkN80OZdVosIhrL8RusSEA7mmi0wmizlbmwuMC8XFZrPB4/HwgfFYrrHJvsSTxV1CoRBMJhNMJhPkcjnmzZvHn/wkEndRqVQxJ+tx1fqcuAgtr1RV60/5HgRtUPX9Ecqe30PmMyX8uADAQoZQw3cQmH8LoCqZ+g4zCCIiEiJ6Y/V6vTCbzejv7wdFUTAajWhra4twhaTjuJkgk8ekaRputxs7duwAANTV1WHJkiVQqVR8hhVX3Ack77ISZnFxLquWlpaUv0/xEMYgos/+ua4EnGtscHAQHo+HP/uPZblEn/37fD7ecisoKOBdp8LbTCfuIqzWF0LTdIRrTGy1frzPmsx1FMquR6E0vwCK8SX92tMlq+Fvvx9M0aKk7xuLXLREknWhsyxLYiLJkojPkHOlWCwWmEwm2Gw2VFZWRtQkpINsNH7MhIg4nU709vZiYGAAGo0mImaUCpeVz+eDyWRCf38/NBoNP1dFSqmvXFBfrVbHPPsXWi5cQaLP5+OD+kqlEn6/H263G2VlZVi2bNmE2hOOVMRduDULL5NZXslU67Msy8e2KIoCWAbyoX9B1fUoFCPxx9ROBpPXhMC8mxCu+Z8JVefTIRdFJNn1cm2AiIikEI/HA4vFAqfTiePHj6O2thbt7e0ZOZudSZYIJ8K9vb1wu92oqalBVVUV1Go1Kioq+DPz6bis7HY7n0ZdUVGBJUuWoLi4OKe++MD4FzhWQSKXbNDf34+xsTFoNBpotVrYbDbY7XZ+cxa6xnQ63ZRB/WTjLtFEi4tWq02oWn9kZAQsy2LPnj3QydxoxPuo9f8NmpBZ1OvG6BoQmPczhGsuBmSp315yTUTEdPANBoMAiIhMG67/kslkgt1u56spTzvttIwHnrPRgiSVx+SsArPZDKVSibq6OtTU1EChUODIkSNgGAbBYHDaLithe/x169ZNK6FBatA0jYGBAfT29oJhGP415L7oXNaV0DUmDOpHF1Nyl8kaQYqpd0nENTahWp8J4ti2X6E9bzfUtv+AYsOiXh9G14DA3J8gXHsJIEvf5pdrIiJmvVxnjnQVG6YayYgI9yXweDz8mZ5SqYTRaMTixYvhdDpx4sSJjH+ActUS4QLZfX19GBoaQkVFBRYtWoSysrKI2g4AGBgYgMvl4s+eCwoK+Lkd8fD7/bzLSq1Ww2g0oqqqSlIuq+kSCAR4AdZoNJgzZw70ev2E10Y48rSyspK/nnMtCV1j/f39cLvdEUH96Eu8DSTRepfo6wSLgsJ1AOqBF6EaeAUrQzbAL+718ckqYSq6HO7K/4JOXoS8MQ90Ol1aN8BcE5FkYyLEnSUSzupwOp2orKzEkiVLUFpayn9gpDweV0rHDIfDGBgYQF9fHwKBAGpra/mWLsJ2JJxo19fXo6Kigq+7GBoaQldXFx9Yju5zlZeXx08kHB4eRnl5ORYtWsQXHs4U3G43ent7YbFYUFJSIvo5Cl1LsardheJitVrh8XgQCAT4AVzRr328lN6p4i6sdwCK/pegMm2F3H00qecRDV3YDq/xu7AXnQvaFwIbVa2vVCpjBvWnW62fjT1gOkzHEiEikiRer5dP+4x1FpMtt1KuiIhw1KxOp0NDQwNvFXBWByciQKTLarK0UqFrxmKxwOVy8WdJGo0GBoOBT9FNZ6+fTMFZb729vbDb7TAYDFi9enVa5sdMFdTn4hZutzsiqC+Xy2NaLjqdLuZmRXlNUA28DvnAXyCzfQgK02gdBBlC+nMRaLwKTOk6yORylACITtrlikG5uIvD4Zi0Wl9Y95LIGftscWdxWXm5gGREpLGxka/yjYVUxuNm6piJwLITR80uX76cD2RHD30Cxs9SuYrqeHCBZY1Gw2cgqdVqNDU1oaCgAD6fD263O6IViTAlVmjBSF1chAkHnPWWSLPHdKFUKidN6RWm83Jdhj0eDwDwr32JYhTlvh0odP4byrF9014PoyhC0PhNBOq+C1prHP8+0PT4BRPjLjKZbNJi0OiU5GSr9XNNRMQE1nOpRgSQiIgk8iITS+QzgsEg+vv70dfXN2HUbCyXVbLpuSzLwul08vGU8vJytLe3R7gXowmHwxGWi1BcONdMtGsslQOgxBAKhfj5J3K5nG8mKdUzQLlcHrPLMEPTCI7sB2V+FdqBN6Dxn0jJ8ZiCFoSbfoCw8WuAIg9KAPJpBPWBz4RObLU+F1/y+/0pqdZPN2JTfImIiGCqFzqZ3lmpREp1Ityo2YGBARQVFWHevHl8kHcql1UicGfknOuEGwecSLNKhUIR8+yZExeha6a3tzdCXGJZLuncHKKLA1taWlLW4SBjhFyQj+yAzPpvyIfeQr63NyUPyyoKEK65CHT9N8GUrJpQ45FovUuyKckajSahav1wOMx/Rrlq/WjLJdlq/XQi1p1FRCQNzNbAeqxRs6eccgrvKpjQQZemofjUDZPoF4mbSNjf3w+FQoG6ujpUVVWlZA75ZOLCVcpPVswnDCZzv0/3zJMrsBwaGkJlZSWWL18+YV2ShWVBjR2GfOgtyK3/hmx0Z8LzOqZ8aFBwaFagT/E59DHLIHfmI69Thry8o0l3SE51vUu0a89ut6O+vh5lZWV8SrUwKURYrR/dZyxWtX66EZOdRUQkTcwmdxYw7rLq6OiIOWqWoWkwZjOYo0dBnTgBRWcn1B0dkHd0gBoZga+/H0jgg8u5rIQTCeO5rFJJvFYeQsuFK14UVopHWy7xxIWLG/X29sLlcuVWDUtwFPLhHZAPvQWZ9a2k5nQkApM/D+G6S0Ebvwa1tgZzATQKLEdhh2Sv18uf+Uf3GEukQzKQmnoX7v9TVetz4uLxeOBwOCat1ud+psv6JTERCTEbAussy/If+KNHj45v7C0tqLBaIdu2DdSuXaD274esowOU2z35mgcHwdbUxPyf0LLxeDyorq7GmjVrkJeXl66nlRRyuTxmUJYLKke3f+c2t2jLRavV8tYNVxy4ZMkSaX85/VbIR9+HbOQ9yEffhWzsSMoPwWhrQFd9GXTtf8d0V01mOQo7JLvdbj6oz535R3dIzs/Pn3LC41T1LkKBCQQCMJvN8Hg8kMvlfLJIrLgLl1IdTaxq/b6+Pn4+zWSusemmJIsREaknowjJGRGJPgvJ9HHTScSoWY8HhYODmHf8OCo+/hjUJ5+A8iXX+I46cWKCiHBfQrPZDIVCAaPRyE8kzAUmCypHi4vNZkNPTw+fa6/Vank/u8PhQH5+vmQmC1K+QchG3x0XjZH3IHMfT8txGF0j6OoLQFd/BUzJclFt2IUdkvV6PX/9VB2SJ6vUjyfmQuslEAigp6cHZrMZJSUlWL58OQoKCkTFXVQqFVQq1YRWNsKsN6/Xi7GxMV4gAcRswZ/oCGQSE5EQ3Bsxk0REOGq2wOvFou3bUfKPf0DW1TWtx5WdPAnmjDMAjLusTCYTrFYrSkpK0NrayletzwQ4caEoiu9fVVJSgrq6On5iIjd2l2tCKKwuF7rGpnvWGRcmNB7TsH8Cmf0TyEY/gMzTmZ5jAWDy54OuvgDh6gvAFi1OaRNEIcK6j1gZV0Jxie6QHO0WE2bsCcWjtLQUK1asmDR+Nd24C0VRsbPeGGaCa4wTSJqm+W4D0eIitCJITERCcG9EpuMTqXajsWzkqNkaisKG55+H9s9/BvVp47Vpc+IEn8Hidrv5YLxUXFapIpHiwFgbQ7RbZnBwEF6vFxRFTagQ51xjSYkLy4Ly9o6LhX0XZPbdkDn3gaKTb6We8CFBgSlZAVr/RdDVF4AtXJC2YyWCMOMquglkdCFr9NhjmUyGYDCIvLw8zJ07FxUVFXGbraarzxgAXiCECLsNeL1eeONU6/v9fr4+JlELOBwO54yHAJCIiCRaJwJkXkRSZYmEw2G+tiMUCsFoNGLR8DDyrrgClM2WgpV+hnPXLnR0dMBoNGLp0qU5dVaTCMJUZL/fn1Rx4GRumcl8/h6PhxeXWN15KQCUrx/U2EHIHPt4S4MKjqTxFRiHVVeArjwLtP4s0JWfB1RlU99JAsTqkOz3+9HV1YWBgQHequHqeLieeZNV6sc7008m7jKVuAh/n6zbQKxq/UAggA8//JC32qLjLtHPgVgiaYJ7kaVSs5Eo0aNm58yZA4PBAMVf/gLFpZeCSvHzYSkKBXI51q1bN2NcVhyhUIgX4lQXB8YTF6463+saBTPyMbzdh8H4joNielDE9ELJuqZ9/ERgKTmY0tWgK78AWn/mp24qadRDiMXv96O7uxsDAwMoLy/H6tWr41qPqRh7DEye/h7PNRZrH4i2XqJHN3Ouufnz50ekJE9Wrf/000/zrYocDsek82mkRM6ISC5ZItGjZg0GQ8SoWcblguLqq6clIExJCbxGIxx6PcYMBviMRjgNBgRqa6EtKUH+0aP8ppgLrUfikfHiQCYEytMFmfskFK6j0DgPoWzsECjXCVDI7EkMnTcPTMVpYCrOAF1xBqAqzujx04XP50N3dzcGBwdRUVERt0dZvLHHXEueeGOPo63IRIP6ibrG4sVd6E9bwwCfVetHPwcuduRwOOBwOHD06FF0dnaipKQEBoMBCxYswCuvvDLB6pkOv/vd73DffffBYrFg8eLFePDBB7Fq1SpRj5VzIiJlSyQYDPIztoGJo2ZpmgZN05D/7W9JubDY8nIwK1eCXrECwcWLYa6sRM+nbpa6ujrUVFdDqVRGZCpFN+5TKpX8F5H7QuXn50vabE57cWBgBDL3SVCuE5C5T4Bynxj/29Mteq7GdHHJGxAuXQtN3dlgK04DNPqp75RDJCMeUyHskDzZ2GNhh+TOzs6kxh5Hk2gLfu730dFRfjhbvJRkYezoqaeewrPPPotXXnkFL7/8Mo4dO4ajR4+m9HP/4osv4vrrr8ejjz6K1atXY8uWLTj77LNx/PjxiDEGiSIpEYmXeSUsNsokiRyT2+y4tuHRo2aj55Sr9uxJ6NjBn/8c9DnngF2yBK5P3WIWiwXFQMyz8cnSYIV9rbimid3d3QgEAlCr1ROEJd6wpHST0uJAJjQer/D2gPL0QubtHf/d2wOZ6ySoUGpjUcnCgsKYrAEjslaMKtoQLFqNwoom/n3QqXTIbWfVZ3i9XnR3d8NisaCysjJt3ZGB6Y89jr5MlVgRLS42mw0dHR3wer18N21uL4gXd+F+BgIByOVylJaWYu3atVi7dm0qXx488MADuPLKK3HFFVcAAB599FG88cYbePLJJ3HjjTcm/XiSEpGpyEb/rMlEJNao2bVr1/JfjFhzyvkOugk+B8Wf/oTAsWMYaG6GuakJRUuWiPryTVZAJsyScbvdGBwchNvtRigUgkajmWC5TOVnng6xJgfGLQ5kWSDkAOUf/Ozi7RsXCk8vKG8vKJ854+6neLDqCtAlKxEqXIrBoBEnbcVQ5VWipqYG+k/TkTkL0uPxgGEYaLXaCdliidYoSAGheOj1+qxnCU429ji63kiYEi4MiAu/C9EBcafTiY6ODoyNjaGhoQFGozHmyVi8uMvx48fx5JNPYmQkPYkZwWAQu3fvxk033cRfJ5PJcOaZZ2Lnzp2iHjOnRCQb/bOiRcTv96Ovr48v2quvr+dHzXIuK2EHXS7YJvyw0eedB+XDD095bFlfHwr6+jAfwHwAbH4+mAULwC5cCGbBAjBz54I1GsEajUBUhXciTPaFCgaDvLC43e6ISXzCthf8GXOCsyBiETE5UK1Gc4MB+mIFZGE7KHsHqMCIQCgs4z99n/7NiBzHlwFYuQ5M8VIwJcvBlKwEU7ICXpSj99PYTklJCVqXNEQMuop2yXA1CsJCSrfbDZqmJ8xyl5q4eDwedHd3w2q1SkI8pmLSDsmCscfcZXh4GF6vlxd5tVoNv98Pv9+PqqoqLFy4MK7lHCvu0t/fj82bN+P555/HRRddhKuuuiotz3NkZAQ0TUckjwCAXq/HsWPHRD2mZEQkEbdRNiwRTrg4szfeqFmugy7nepusgy6zfj3o00+HfMeOpNZCud2Q79oF7No14X9sYSHY2trxS2Ul2NJSsKWlQGkp2JKS8b+LiwGdDtDpwGo0gFY7folao0qlQmlpaYQrgAsAchta9BmzTqtFQZ4KhToKBRpAp6KhVdCgaDeosBsIR/4MeUfgd5rA+IYxR+ZBK+WBbMwByhpI6jWRAqyiAExhG5iidjBFi8CULAdbsBCQjX+93G43erp6YLWeRHl5OVauXDmhrUs0Qn9/9ETE6PchukI81jTKTImLUDwMBgPWrFmTUBdoqSIsTBXCtSjq7OyEw+GATqdDQUEBhoeHMTAwkPDY49HRUdx///14/PHHccEFF+DAgQOYO3duJp/itJGEiCSaZZNpS4QbNQsA+/btixg1C4CPd8R0WcU7M6coBJ56CpovfAGyztRULVNjY6COHAGOJN9viVWrx8VEqQQoCqxMNl7hTFHjAvPp71qZDMWf/s7W1SHwxhuA1wTN26tBud2ghumpD/YpSgD81pL43bIOk9cEprAdTFE72E+Fg9XVx6wIdzqd6OnpwcjICAwGQ0rOxoVFfLHERWi5mEymCe1H0uWe9Hg86OrqwtDQ0IwQj3hwNS2Dg4MwGAxobW2NsDw4S36yscevvvoq76566623sGLFCrz33ntYtmxZ2tdeXl4OuVwOq9UacT0n+mKQhIgkSqYC68JRs1yl7GmnnRaRZRUOh0XP7QCAUFkZTE89hcJbb0XV9u1peR6JQgUCQOAzCyARSWe4TVOuhSzsTM/CsgQLCqyuDmz+XDD588AWzB+3MgoWAsqC+Pf9tIq+p6cHTqeTTwyIV3GdCiarEOcylYSWi9A9ycW+oi2XRBMr3G43urq6MDw8jKqqKqxduzY3OiSLIBgMoru7G2azGRUVFZOeFMSy5IHxk1KHw4F//vOffMeKkpISvPfee1i/fj0eeeQRfOMb30jrc1CpVFi+fDm2bduGr3zlKwDGT4a3bduGa665RtRj5pyIpMudxWUFRY+azcvLw9tvvw0AEwLlyU4MBMa/dCaTCQMDAygsLITqqafgO3AAqoceGu/Um4W286LgnrMi/qYqZVhFPpj8uZ+KxXywBZ+KRn4zIE9uI2RZFkNDQ+jp6YHP5+OnTWa7PkeYqRRLXISWS39/PzweD59YEcty4cRlNolHKBRCb28v+vr6UFJSglWrVk2InUwFwzB45ZVXcOedd0Kn0+Gee+7Bl7/8ZVAUBb/fj5MnT0ZYlunk+uuvx7e+9S2sWLECq1atwpYtW+DxePhsrWTJKRFJhzuLa60gHDXb1tbGnzkGP+1nNTw8jIKCAqhUKv6LlMy4Wa7tNFd8KPSLs2edhcBZZ4Hq74d861bI//53yPbuBUVL2M/DWSIyFVhKkbW6iniwlBysthasrh6srh7Mpz9ZXT3YvEawmqppNyZkGAaDg4Po6ekBTdMRiRZSZrI0WJZlEQqFIiwXYdYeJ4rBYBAlJSX8DBop1xuJhaZp9PX1oaenBwUFBVi2bFnSFeQsy+LNN9/Epk2b4HK5cPvtt+Mb3/hGhBtRo9Ggvb09xaufnIsvvhjDw8PYuHEjLBYLlixZgjfffHNCsD1RKDYbE5diEAgEwDBM3I35vffew7x580QVxEQTPWq2rq4uYtQsy7J8vOPIkSNwuVwRdRXcpaCgAHl5eTHXHQqFMDAwAJPJBIZhUFtbi9ra2sTOTsfGINu5E/J334Xs448hO3IElN0+7eedKpj58+H/tN5F+0YtqFDm1xagihBSVIBR68FqqiDLq4WieB6o/Aawugaw2ho+uJ1qaJpGf38/ent7IZPJIuoBZiIulwsdHR0YHR1FcXExNBoNnz0WDAahVqtjWi65KC4Mw8BsNqO7uxsajQbNzc2ihrV98MEH2LhxIzo6OvDzn/8cV111VUL93XKNnBKRDz74AHPmzBGtmLFGzdbV1UWMmuWqymO5rLgzNK5BH3e2xqVccsKiUCgwNjYGq9WKgoIC1NXVobKycnobDMsCFgtkR4+OC8qJE5CZzaC4izOzcQlmwQL4P/kELMtC/c95UASnP3WPhQxQlYBVlYFVlYJVlQKqUrAaA1hNVcQlKC+F2xvp6+fOloVBZGEaciqCyKFQCCaTCX19fdBoNGhsbERlZeWM61PGMTY2hq6uLoyOjqKmpgYNDQ0T4jvC6nDh+xHd8l34U4riwtV+dXZ2Qi6Xo7m5WVR7nYMHD2LTpk14//33ccMNN+D6669P2v2VS+SUiOzcuRONjY1JZxFwtQjCUbO1tbX8B5kTDs4CiZeeGw2Xz+9yuTA0NITR0VHeBSbs+VNQUJDePlZjY+NiMjgIymYbt1pstvHfub+dzvEBV34/4PVG/p6k64xesAAdr72Gvr4+nGL7LvKYwfH4iCIfUOaD/fR3Vp4//lNRMH4997eyAKyqbFwkVKXjvyuLp9VQMFYQmftdWOMiLKJMtMZFWB9UWFiIxsbGjI0SzgZjY2Po7OyEzWZDbW0tGhoakj6Ljm75zv0MBAIT5olwv2cjhsTFszo7O8EwDN8kNdn3tru7G3fddRf+8pe/4Pvf/z5uvvnmiNqfmYpkRCQYDIKm6bhf6I8++oifyDcVXB431yqkrKwM9fX1KC8v5wP0XIrudALlXBqwyWRCOBzmXVZKpRJer5e3WLiL3+/nv0DRl6wWigWDQDg8bvGwLMAwMX8P+v0Y6O9Hv8UCuV6P+vp66CvKIFNIt8GjsLYiWmBYlo3YyLgL1+rC4/Ggt7cXg4ODKCsrQ0NDQ050VhWL0+lEV1fXtMRjKqLFhfudE5doYUnXiRdX/9XR0YFgMIimpiZUV1cn7TGwWCy499578cc//hFf+9rXsGnTJtTV1aV8vVIlp0Tk448/Rk1NDWommR8ORI2a9XpRU1ODuro6PhVvKpdVonB5+AMDA8jLy4uIqcQjHA5HiEq0G0ZosXBuGCmc7brd7oj+YPX19Tl/Js6Ndo1luQDgZ3kXFBSgpqYG5eXlkhmtm2qcTic6Oztht9thNBpRX1+fcf89992Ido35/X4olcqYMRduEmKy2O12dHR0wOPxoLGxEbW1tUmfxDkcDmzZsgUPP/wwzj77bNx1111YsCC7w8CyQU6JyK5du2AwGGA0Gif8TzhqVq1W87MmuHYkLMuKdllxcGcuJpMJo6Oj0Ov1qKurm3aHzegz5ejNTHiWzAXyp+o4mgpiTQ6sr69PW+O8bMNZr11dXbDb7SgtLeWn03FzIDgXZbTlInYzyzbc83U4HLx4ZDstORqugWi0a0woLrEsl1jvByeWTqcTdXV1qK+vTzqTzufz4dFHH8X999+PJUuW4Be/+IXoNuozgZwSkd27d6OiooI3FYXtSIaHh1FZWYn6+nq+H1EqXVacdcO5rGpqatJeQCYciCR0i0W3dhdeUpFayiUg9Pb28pMDjUbjjMwsAT5Lwe7u7obH44HRaERdXd2EzZRhmAkbmfD9iO6ELOU5LlzLDqfTKVnxmAqhuAjfF64jr/B9kMlkGBoags1mQ319vajnGw6H8ac//Qn33HMPqqqqsHnzZpx55pk5efKQSnJKRPbs2YPS0lLU1tZOGDVrNBr5TV3osuJ6WSXUjiQKzroZGBiAVqtFXV0dDAZD1tM4aZqO6RILBoN8BbLQLZZo8DidkwOlCCeWPT09CAaDqKurm7Tzajxomo4QFaEbRhj/EopMtupI7HY7urq6+DPxWGKZ6wjfD4fDgZGREQQ+7cggl8tjZovFs+wZhsFrr72GO+64AzKZDHfffTe++tWvznrx4JCUiITD4bgb1ieffIJwOAyXy4X8/HzU19fzm7qwtkPYQVeMy8pms/GV65WVlbzLSuofmmAwOCGQLwweR1stnH8/enJgfX19eicHZhmu7XxPTw8oikJ9fX1axDJWdpJQ7KPfk3Q2SrTZbOjq6oLL5eItDymm2aYK4dhdvV6POXPmQKVSxbRcvF5vhLioVCrs27cPixcvRk9PD+644w4MDQ1h06ZNuPzyyyVfSJppJC8iwlGzNpsNhYWFaG1t/WzU7KcuK87qAMS5rLiNxWQyIRgM8llW6XZZpRth8Dj6TJkT2FAohIKCAtTW1kKv18/YzUXYnUClUqGhoSGhZIhUEysNmetlxXXhjT5bFrNGlmV5y8PlcvGWx0x9f4Hx17anpwcmkwnl5eWYM2fOlDG86FkiPT09+OEPf4jBwUEAQE1NDdavX49FixbhBz/4wYyNCYpFMiISCoUQCoV4EQkGg/wXHhgfNet0OlFQUIDm5uaYWVZiXFY+nw8mkwn9/f28y0qv189YFw7XI6ynpwculwvFxcXQarX8rOpkq/JzgUAgwNd45Ofno6GhgU/1lgrCGpfoVGSGYSLmhwjTkGO9J5w13dXVBbfbPSvEIxwOo7e3F729vSguLkZzc/OU7fZjcfToUdx+++14++23cc011+D888+H2WzGkSNHcOTIETz77LMzNjYoFsmJSHQqaV1dHT9q9uDBg/wZJOeyEmN1cGdofX19GBkZQWVlJYxGI4qLiyW1saQSztLq6+sDTdPjs9lraiZsLIlW5UfXU0gRn8+Hnp4eDAwMoLS0FA0N40OgcgmumDVWGnK0mzIvLw/hcBhmsxkejwf19fUwGo0zWjxomobJZEJPTw/y8vLQ3Nws6j3u6+vD3XffjVdeeQXf+c53cMstt4hujT7bkIyI+P1+fPjhh/yo2bq6uohRszRN49ixYxgdHUVpaSny8/NRWFiIgoKChH2UXA2JyWRCIBBATU0NamtrZ2z3USBycqBarY6IIyWKcCOLPlMWprymvSo/QdxuN3p6evh53o2NjTOu7US0m3J0dBRjY2N8IkmszL1MpIVnCoZh0N/fj+7ubqhUKjQ3N/ND4pJheHgY9913H5544glcdNFFuP3229HU1JSmVc9MJCMinL+6srKSF4Vol1UoFILD4ZiQkSQs0uN+Cs+QfT4fzGbz+AhWjYbPspqpLisgM8WBDMNIqirf4XCgu7sbNpsNVVVVaGhomLGDkYDI1GSv18t3EBa2eOcuXq8XCoVi0jTkXBEXlmUxODiIrq4uyGQyzJkzR1TvMpfLhQcffBC//e1vcfrpp+Oee+7BokWL0rTqmY1kRCQcDiMUCgEAn2WVSKCcK9LjNjKXy8WfIWs0GtA0Db/fj+LiYkn6wlOJVIoDM1mVz9UK9fT0YGxsDLW1tVmpts4knHh0dXXB5/OhoaEBtbW1cS1yYfBYaElG1xwJRUZKbjAultfR0QGapjFnzhxUVVUl/bkJBAL4/e9/j/vuuw8tLS34xS9+gXXr1qVp1bMDyYjI6OgoAoEA8vLyplUYyLmsenp6EAgE+EIjr9fLp1ZGWy1SaS0illwoDky2Kn+qM2SWZfkaD7/fz9d4SGnjSzXcRtrV1YVAIMDHPKZj3XEFe9ExF2GTxOg05EymuHInRh0dHfD7/WhqakJNTU3SSR40TWPr1q24++67UVJSgs2bN+Occ87Jue/93XffjTfeeAP79u2DSqWCw+GY8j4sy+K2227D73//ezgcDqxbtw6PPPJIyma5S0ZEHnroIVx77bVobGxEW1sb2tra0N7ejvb2djQ0NEz5ofH7/XyWlUqlQl1dHaqqqiK+YFz2S7TVAiBi8+J+Sn1DmgnFgclW5et0OgwNDaG3txcMw/AunFx6zskSLR6c5ZHO5yyscYlu784VtEanIad6PQ6HAx0dHXC73WhoaBAlmCzL4u9//ztuv/12BAIB3HnnnbjkkktyNtPwtttuQ3FxMcxmM5544omEROTee+/F5s2b8cwzz6CxsRG33norDh48iCNHjqSkhEEyIsKyLAYGBnDgwAHs378fBw4cwIEDB3D8+HFotVq0trbywsKJjFarxbZt26DVahEIBFBeXo66ujq+7UkicH79aHEJBAITqr8LCgomTavMJLOhODC6Kt/lcmFsbAw0TfOB47KysghrMtvvS6rhWpR3dXUhGAyisbEx64IpTEMWikx0jUuy3RKEcAOw7HY76uvrRacn79ixAxs3bkRfXx82btyI7373uzOmOv/pp5/GddddN6WIsCyL6upq3HDDDfh//+//ARjvH6bX6/H000/jkksumfZaJCMiseCygo4cOYL9+/dHiIvNZkNJSQkCgQC+973vYc2aNWhra0NdXV1KNhPhl0V4hgyAz0TKdDaS0+lEb28vhoaG+D5h023+KHWCwSA/BEqn0/EFoMlW5ecSQvEIhUJoaGjIunjEg3NVxmr9wtW4RMdbYp2MeTwedHZ2Ynh4GLW1tWhsbBT1vdq7dy82bdqEXbt24Sc/+Qmuu+46vov3TCFREenq6sKcOXOwd+9eLFmyhL9+/fr1WLJkCX7zm99Mey2Srt+nKAparRbLly/H8uXLAQCdnZ1Ys2YNmpubceaZZ8JgMODo0aPYtGkTTpw4gfz8/AlWS2tra9JxD5VKhdLS0gnzp4XZSKOjo3wcgivQE1otqTg75lwZvb29cLlcqKmpwbp162Z0WjIw7p7s7e2F2WxGcXExFi9eHGFhlpWV8beNTnd1uVwYHByEx+PhG/FFX6ToquTiPF1dXQiHw2hsbMwJ9yRFUdBoNNBoNBPeF2FquMfjwfDwcEQcjOtI7XK5YLfbUVVVhXXr1olys5w8eRJ33nkn/vGPf+Caa67Biy++GPH9nY1YLBYAmDANVq/X8/+bLpIWkVg0NjbipZdewvr16yNEgdtIDh8+jAMHDmDfvn145ZVXcNttt8HhcGDOnDlobW3l4yxtbW0wGo1JbfIURfEffCHRBXomkwkulwssy04IFhcUFCR0dhWrOHDJkiWS3PxSCdd2wmKxoLy8HCtWrJjS2qIoCjqdDjqdDpWVlfz10Y0Rh4eH0d3dHVGVz1XjZ7Mqn2VZWCwWdHd3g6Zp3vLIdfccdxKo1WojJvxxJ2MOhwNmsxkWi4UP1lutVrjd7gkxl3g1LgMDA9i8eTO2bt2Kb37zmzh58mTcmUNS48Ybb8S9994b9zZHjx5FS0tLhlaUHJJ2Z6UChmFgNpuxb98+HDx4kHeJnTx5EoWFhXx8hbNcFi5cmJIqbO6LEu0S8/l8UKlUE4L43AaWiuLAXGRsbAzd3d0YGRmBwWBAQ0ND2lwQsaryhe1FMlWVHy0enOUx09/rUCjE97cqLS1Fc3Mz8vPzI+KTwpgLV+PCfU+47t1NTU3YunUrHnvsMXz5y1/GHXfcgXnz5mX76SXN8PAwRkdH496mqakp4uSTuLMyCDdTva6uDl/+8pcBfLbBHzp0iI+1vPTSS7j11lvhdDoxd+7cCKulvb096S+30GoRmpJcDQW3eZlMJn4D4ybp6XQ61NfXo6qqakZVGUfDtZ/p7u6Gw+FAbW2taFdGMiiVSpSUlES0x4hVlW+1WiOq8qMvYuNgDMPw4sEwzKwRj3A4jL6+PvT29qKwsBDLly+PsDKFr7MQoUXp8Xjw9ttv46WXXsLw8DCUSiUWLVqEiooKHD58OCdFpKKiIm2z2BsbG2EwGLBt2zZeRMbGxvDRRx/hBz/4QUqOMeNFJBbcBr969WqsXr2av55hGPT19UVYLVu3bkVnZyeKiooiMsPa29uxYMGCpAO3CoUCxcXFKC4u5nPge3p6YLfbeZdKMBhEf38/Ojo6oFQqJ1gtXO1LrsLFebhK67q6OrS3t2c1c2Yy10t0Vb4wDpZsVT4nHl1dXQDGv+BVVVU5/V4mAk3T6O/vR1dXF3Q6HRYvXpxUrEIul6OwsBAajQZ///vf8corr6CpqQlPPvkkKioqcOjQIRw+fBidnZ1pfBbSoK+vjx9VQdM09u3bBwC8NQcALS0t2Lx5My688EJQFIXrrrsOd911F+bOncun+FZXV+MrX/lKStY0491Z04VlWXg8Hl5U9u/fj0OHDuHgwYNwu92YO3duRE1LW1vblBtDosWB0ZXf3EbGNUOMFhepWy3cJtrT04NwOIy6uropK62lymTvDWdJRqe5Op1O9PT0ABh3TcwGFyXDMBgYGEBXVxeUSiWam5tFdYxgGAYvv/wy7rzzTmg0Gtxzzz244IILJP1ZTxeXX345nnnmmQnX/+c//8GGDRsAjJ8QPfXUU7j88ssBfFZs+Pjjj8PhcODUU0/Fww8/nDKrjYiISBiGQU9PD/bt28enHR88eBCdnZ0oLS2NyAxbtGgRWlpa4HK58Le//Q3Nzc2iiwOFbhdhXYvX6+WL84Tiks5BR4nCnYn29vaCoig0NDTMSPdNdFU+l3HETdXTaDQoKSlJuCo/V+FiPZ2dnaAoCnPmzIFer0/6ebIsi3/961/YtGkTnE4nbr/9dnzzm9/M+ueZEAkRkRTCsizcbndEweTBgwdx4MABeDweqFQq1NfX46qrrkJTUxPa2tpgMBhSsokIi/OE4hIOh/kMF6G4ZMJqCYVCfI2HRqPhh0DNtE0zGu4MvLu7GzKZjO8iHN2scrKq/Pz87I3PnQ5cT6+Ojg6Ew2E0NTWJdtd98MEHuO2223DixAn8/Oc/xw9+8ANJtfEhfAYRkTTz+OOP49prr8XnP/95nHbaafD5fLy4dHV1oaKiIiJDbNGiRZg/f35KzlC5M2OhqHDBSS7bJdolloqzvEAgwNd4FBYWoqGhQVSb7lyDa0/e09MDuVzOBzUne97RVfnCztTR3RKkXpXP9bfy+XxobGxEbW2tqLUePHgQt99+O959913ccMMNuOGGG2ZcG/+ZBhGRNMMFwBobGyOuZ1kWLpcrohL/4MGDOHToEAKBAObPnz8h1iKm5XUsuGwX4Vmxy+VCKBTi/flCcUk0ecDr9aKnpweDg4MoLS1FY2MjiouLp71eqSOcbaFQKNDU1DQtiysYDE5ory/Vqnyn04mOjg6MjY3x/a3EWFHd3d24++678dprr+H73/8+fv7zn6ctYynd2Gw2XHvttfjb3/4GmUyGr371q/jNb34Tt5v2hg0bsH379ojrvv/97+PRRx9N93KnDRERCcGyLBiGQWdn5wRx6enpgV6v5+Ms7e3tWLRoEebNmwelUpkyqyXaJcbNYo8umhS6XFwuF7q7uzE0NMS3n58NZ49crKenpwdKpRJNTU0pE/pooqvyhbUU2ajKd7lc6OzshM1mQ11dHerr60Udz2Kx4Je//CWeeeYZXHLJJdi0aRPq6+vTsOLMcc4552BwcBCPPfYYQqEQrrjiCqxcuRJbt26d9D4bNmzAvHnzcMcdd/DX6XQ6USN+Mw0RkRyAZVk4nc4JwnL48GGEQiHMnz+ft1YWLVqEtra2lM1NYRgmwmrhfgaDQajVan5YmHD87Ex3W2VSPBJZS3TPKq6Ve3QrHmFRq1i8Xi86OzsxNDSE2tpaNDQ0iIpVOJ1ObNmyBb/73e/whS98AXfddRcWLlwoel1S4ejRo1i4cCF27dqFFStWAADefPNNnHvuuTCbzaiuro55vw0bNmDJkiXYsmVLBlebGoiI5Cic1XLy5MkJ4tLX14eqqqoJVsvcuXOhUCimtdkJByK53W4UFRVBqVTC6/VOKMwTNqnMxUBxNDRNw2w2o6enB2q1Gk1NTZLtnpzqqny/34+uri4MDg7CYDCgqalJVP82n8+Hxx57DPfffz8WLVqEzZs345RTTpnOU5UUTz75JG644QbY7Xb+unA4DI1Gg5dffhkXXnhhzPtt2LABhw8fBsuyMBgMOP/883HrrbfmxGTO3P9mz1IoioJcLkdLSwtaWlpw8cUXAxjf5B0OB/bv38+nHz/yyCM4fPgwGIZBS0sLb7Vw8ZZExuZytS09PT0IBoOoq6vDsmXLIlwYnNUi7FXFtTHP5WFgNE3DZDKht7cXarUaCxYskKx4cKSqKh8Yj1eYzWZUVFTglFNOEdWOJhwO49lnn8U999wDvV6P559/HmeddZakX0MxWCyWiP5twHiBcWlpadyGh1//+tdRX1+P6upqHDhwAD/72c9w/PhxvPrqq+le8rQhIjLDoCgKJSUl2LBhA198xI0bFlot27dvx0MPPQSz2YyampoJPcTmzp0LuVwOr9eLPXv2gKIosCzL13jEyuKSyWS89SEkOlA8MjICt9vNzwWR6jCwaPFYuHBhTo9XjleVLxR/btwwV9+iVCpRWVmJ0tJShMNh0DSdcBYfy7J4/fXXcfvttwMAHnjgAVx00UWSzTKbjESbJIrle9/7Hv97e3s7qqqq8PnPfx6dnZ2YM2eO6MfNBMSdNYvh5pNzXY+5mpYjR46AZVmUl5fD4/GgpaUFt9xyy4R27NNBysPAwuEwLx5arRZNTU05LR7JQNM0+vr60NPTg/z8fD5Feaqq/GjLkmVZvP3229i0aRMsFgs2bdqEyy+/XDInCMmSaJPEZ599VpQ7KxqPx4P8/Hy8+eabOPvss6e19nRDRIQQAcuy+O1vf4tbb70VBoMBK1aswOjoKA4dOoSBgQEYjcaIWEt7ezvmzJkDuVyekk02m8PAhOKh0+nQ1NQ0K+pbgM+6XXd3d0Oj0aC5uTmmmzM6i0+YJeZ0OnHnnXeirq6OH2Pwox/9CDfffHNO+PZTARdY/+STT/gZSP/+97/xxS9+MW5gPZr3338fp556Kvbv349Fixalc8nThogIYQJvvvkmtFotTj/99Igzy+Hh4QlWy9GjRyGXy7FgwYKIQWDt7e0oKipKyQYcPQyM+5mqYWBcd1lueuKcOXMSihPNBLh+Zp2dnZDL5WhubhYV72EYBp988gnuu+8+mM1mBAIBBINB9PT0oLS0FG+99RaWLl2apmchLc455xxYrVY8+uijfIrvihUr+BTf/v5+fP7zn8cf//hHrFq1Cp2dndi6dSvOPfdclJWV4cCBA/jxj3+M2traCbUjUoSICEE0XHrvsWPHIjLEDh06hMHBQdTX10+wWpqamiCTyVKyQXMZSNFFk4kOAwuFQrx45Ofno6mpadaIBzeCt7OzEwzDYM6cOaJb8JhMJtx99914+eWX8e1vf5u3YoFxt8zhw4fR2to640bUTobNZsM111wTUWz429/+lk9U6OnpQWNjI9800WQy4Rvf+AYOHToEj8cDo9GICy+8ELfccgupEyHMTrgxr9FWy7Fjx6BUKrFw4cIJVktBQUFKrZZ4w8B0Oh38fj9sNhvy8/PR3Nw8K+pbgM/iYB0dHQgGg2hqahLdDHNkZAT33Xcf/vCHP+CrX/0qbr/9dskHgQmph4gIISOwLItgMIgjR45ENKg8dOgQrFYrGhoaIrLD2tvb0dDQkLKOreFwGA6HAyaTCaOjo5DJZGBZlm8lEp0hNhO769rtdnR0dMDj8fD9rcS8vi6XCw899BB+85vf4LTTTsM999yDxYsXp2HFhFwgoyKyY8cO3Hfffdi9ezcGBwfx2muvTTkY5Z133sH111+Pw4cPw2g04pZbbuH75BNyH65tOFfXwlktx48fh0ajmWC1tLW1IT8/P6kNPhgM8m6roqIiNDU1oaSkJKKViDDewnXXFQpLNmewT5exsTF0dHTA6XSivr4edXV1ooo/A4EAnnjiCfzyl7/EvHnzsHnzZpx22mlpWDEhl8ioiPzzn//E+++/j+XLl+O//uu/phSR7u5utLW14aqrrsJ3v/tdbNu2Dddddx3eeOMNyae9EcTDZQAdOXJkQjX+6OgoGhsbJ4wvrq+vn7DBB4NB9Pb2wmQyRYjHVMyUYWButxudnZ0YGRnh+1uJyWajaRrPP/887r77bhQVFWHz5s0499xzJfmcCZkna+4siqKmFJGf/exneOONN3Do0CH+uksuuQQOhwNvvvlmBlZJkBIsy2JgYAD79u3D/v37eavlxIkT0Ol0aG1tRVtbGxoaGrBv3z44nU7ccsstmDNnzrS7CXPV3tFBfCkOA/P5fOjs7ITVakVNTQ0aGxtF9bdiWRZvvPEGbr/9dvh8Ptx555342te+lnPW2O9+9zvcd999sFgsWLx4MR588EGsWrVq0tu//PLLuPXWW9HT04O5c+fi3nvvxbnnnpvBFecWkhaR008/HcuWLYtoSvbUU0/huuuug9PpTP8iCZKH29wPHz6Md999F88++yz27duHmpoaUBQFlUo1wWoxGo0p2wilNAzM7/eju7sbAwMD0+pvBQDvvvsuNm7ciN7eXtx666248sorU1qTkylefPFFXHbZZXj00UexevVqbNmyBS+//DKOHz8+oT0JMD4M6/TTT8fmzZvxpS99CVu3bsW9996LPXv2oK2tLQvPQPpIWkTmzZuHK664AjfddBN/3T/+8Q+cd9558Hq9or8ghJnJxo0bsXv3btx2221YsWIF+vv7+TgL5xI7efIk8vPzI4L4XBryVE0IEyXTw8C4egyTyYTy8nLMmTMn7uyKeOzduxebNm3Cxx9/jJ/85Ce47rrrRD+WFFi9ejVWrlyJhx56CMB4PYvRaMS1116LG2+8ccLtL774Yng8Hvz973/nrzvllFOwZMmSnJjtkQ1I7yzCjGHTpk0RFobRaITRaMT5558P4LOZHIcOHeLTj1966SXceuutcDqdaG5unpAhVlNTk7TVQlEUNBoNNBpNRI+q6GFgVqsVHR0dooeBhcNh9Pb2ore3F8XFxVi5cqXouoKOjg7ceeedeOONN3D11VfjhRdeQFlZmajHkgrBYBC7d++OOAmVyWQ488wzsXPnzpj32blzJ66//vqI684++2y8/vrr6VxqTiNpETEYDLBarRHXWa1WFBYWEiuEMIGpNnuKoqDT6bBq1aoInzjDMDCZTBFWywsvvICOjg4UFRVNaE65cOFCUdME5XI5CgsLIzZ6YRsRobjEGwZGURRMJhN6enqQl5eHpUuXJpQwEIvBwUFs3rwZzz33HL7xjW/gxIkTqK2tFfVYUmNkZAQ0TUOv10dcr9frcezYsZj3sVgsMW8frwPvbEfSIrJmzRr84x//iLjurbfewpo1a7K0IsJMRCaTob6+HvX19bjgggsAjG/uHo8Hhw4d4jPEnn/+efz85z+Hy+XC3LlzJ8RaqqqqpmW1lJeX89dHDwMTWi3AeHvx8vJyVFZW8sPBkhE1u92OBx54AI8++ijOO+887Nu3D/Pnz09q7QQCkGERcbvd6Ojo4P/u7u7Gvn37UFpairq6Otx0003o7+/HH//4RwDAVVddhYceegg//elP8e1vfxtvv/02XnrpJbzxxhsZW3MymR1PP/00rrjiiojr1Go1/H5/JpZKSCFcm/pTTjklYmgSwzDo7e2NsFqee+45dHR0oKSkJKKepb29HQsWLBAVTBe21WdZFoODg3z9il6vh0KhgNvtRldXV1LDwDweDx5++GH8+te/xqpVq7Bjxw6+UeBMo7y8HHK5PKY3g2vLEs1k3o/Jbk/IsIh88sknOOOMM/i/Od/jt771LTz99NMYHBxEX18f///Gxka88cYb+PGPf4zf/OY3qK2txR/+8IeM1Yi8+OKLuP766yMyO84+++xJMzsAoLCwEMePH+f/Jrn0MwuZTIbGxkY0Njbybb1ZloXb7eZFZf/+/fjTn/6EQ4cOwev1Yt68eRFWS1tbGwwGw5RWC9f0sqOjAzRNY86cOaiqqprwmRLOA3G5XBOGgT3zzDPIz8/nZ3s0Njbi1Vdfxec+97m0vU5SQKVSYfny5di2bRufwMMwDLZt24Zrrrkm5n3WrFnD16NxEO9HfEjbkzgkm9nx9NNP47rrroPD4cjwSglShGEY3to+cOAAXzDZ1dWFsrIytLe387UtixYtQktLC1QqFViWxUcffQSZTAa/34+mpiZRAf5gMIixsTFs2rQJu3fvRl9fH9xuN1QqFdra2vC9730P3/nOd9L07KXBiy++iG9961t47LHHsGrVKmzZsgUvvfQSjh07Br1ej8suuww1NTXYvHkzgPEU3/Xr1+MXv/gFzjvvPLzwwgu45557SIpvHCQdE8kmYjI7gHGXXX19PRiGwbJly3DPPfegtbU1E0smSAyZTIY5c+Zgzpw5+OpXvwpg3LpwuVwR/cOeeeYZHDp0CH6/H7W1taAoCiMjI3jsscewYsWKmNbHVLAsi//85z/YtGkT7HY7br/9dnzzm98Ey7L8hMuampp0PG1JcfHFF2N4eBgbN26ExWLBkiVL8Oabb/LB876+vghxXrt2LbZu3YpbbrkFN998M+bOnYvXX3+dCEgciCUyCQMDA6ipqcEHH3wQYcr+9Kc/xfbt2/HRRx9NuM/OnTtx8uRJLFq0CE6nE7/61a+wY8cOHD58eMZkvBDSQ09PD6644gp8+OGHOOWUU1BYWIiDBw+iu7sblZWVERliixYtwvz586FUKmOKy86dO3Hbbbfh+PHjuOmmm/DDH/4QGo0mC8+KMBsglkgKWbNmTYTgrF27FgsWLMBjjz2GO++8M4srI0idkpISnHLKKXjppZf42hKWZeF0OiOslieeeAKHDh1CMBhES0tLRE2LQqHAgw8+iB07duD666/HP/7xj5yYR0HIbYiITIKYzI5olEolli5dGpGRRiDEgmtsKISiKBQXF+P000/H6aefDmBcWBiGQUdHBx9r+eCDD/C73/0O/f39+OEPf4innnpq0sQPAiHVEBGZBDGZHdHQNI2DBw+S5m2ElEFRFORyOebPn4/58+fj4osvBjAuLn19faivr8/yCgmzjdxqx5lhrr/+evz+97/HM888g6NHj+IHP/gBPB4PXwty2WWXRQTe77jjDvz73/9GV1cX9uzZg2984xvo7e3Fd7/73Ww9BcIsgaKonBSQ3/3ud2hoaIBGo8Hq1avx8ccfT3rbp59+GhRFRVxIrCf7EBGJw8UXX4xf/epX2LhxI5YsWYJ9+/ZNyOwYHBzkb2+323HllVdiwYIFOPfcczE2NoYPPvgACxcuzOi6k/liAuOtr1taWqDRaNDe3j6hSwCBkA64OqzbbrsNe/bsweLFi3H22WdjaGho0vsUFhZicHCQv/T29mZwxYSYsIQZxQsvvMCqVCr2ySefZA8fPsxeeeWVbHFxMWu1WmPe/v3332flcjn7y1/+kj1y5Ah7yy23sEqlkj148GCGV06YbaxatYq9+uqr+b9pmmarq6vZzZs3x7z9U089xRYVFWVodYREIZbIDOOBBx7AlVdeiSuuuAILFy7Eo48+Cp1OhyeffDLm7X/zm9/gi1/8In7yk59gwYIFuPPOO7Fs2TK+wJJASAdcHdaZZ57JX5dMHZbRaMQFF1yAw4cPZ2K5hDgQEZlBiPli7ty5M+L2wHjr63hfZAJhusTrsDtZx9z58+fjySefxF/+8hc8++yzYBgGa9euhdlszsSSCZNAsrNmEKT1NWEmQ+qwpAmxRAgEQsYhdVgzByIiMwjS+pqQKwjrsDi4OqxEO+ZydVhVVVXpWiYhAYiIzCDEfDG51tdCSOtrQiYgdVgzhGynhxFSywsvvMCq1Wr26aefZo8cOcJ+73vfY4uLi1mLxcKyLMt+85vfZG+88Ub+9u+//z6rUCjYX/3qV+zRo0fZ2267TTIpvqOjo+zXv/51tqCggC0qKmK//e1vsy6XK+591q9fzwKIuHz/+9/P0IoJyfLggw+ydXV1rEqlYletWsV++OGH/P/Wr1/Pfutb3+L/vu666/jb6vV69txzz2X37NmThVUThBARmYEk88VkWZZ96aWX2Hnz5rEqlYptbW1l33jjjQyvODZf/OIX2cWLF7Mffvgh++6777LNzc3s1772tbj3Wb9+PXvllVeyg4OD/MXpdGZoxQTC7IO0gidIkqNHj2LhwoXYtWsXVqxYAQB48803ce6558JsNqO6ujrm/TZs2IAlS5Zgy5YtGVwtgTB7ITERgiTZuXMniouLeQEBgDPPPBMymSzmLBchzz33HMrLy9HW1oabbroJXq833cslEGYtpE6EIEksFsuEduYKhQKlpaVxa1i+/vWvo76+HtXV1Thw4AB+9rOf4fjx43j11VfTvWQCYVZCLBFCRrnxxhsndGKNvkxWGJkI3/ve93D22Wejvb0dl156Kf74xz/itddeQ2dnZwqfxcxlx44dOP/881FdXQ2KovD6669PeZ933nkHy5Ytg1qtRnNzM55++um0r5MgHYglQsgoN9xwAy6//PK4t2lqaoLBYJjQzTUcDsNmsyVVw7J69WoAQEdHB+bMmZP0emcbHo8Hixcvxre//W3813/915S37+7uxnnnnYerrroKzz33HLZt24bvfve7qKqqwtlnn52BFROyDRERQkapqKjgx7/GY82aNXA4HNi9ezeWL18OAHj77bfBMAwvDImwb98+ACAFaQlyzjnn4Jxzzkn49o8++igaGxtx//33AwAWLFiA9957D7/+9a+JiMwSiDuLIEkWLFiAL37xi7jyyivx8ccf4/3338c111yDSy65hM/M6u/vR0tLCz8vpbOzE3feeSd2796Nnp4e/PWvf8Vll12G008/HYsWLcrm05mxkAaeBCIiBMny3HPPoaWlBZ///Odx7rnn4tRTT8Xjjz/O/z8UCuH48eN89pVKpcL//d//4Qtf+AJaWlpwww034Ktf/Sr+9re/ZXztd999N9auXQudTofi4uKE7sOyLDZu3IiqqipotVqceeaZOHnyZHoXOk0ma+A5NjYGn8+XpVURMglxZxEkS2lpKbZu3Trp/xsaGiAsczIajdi+fXsmljYlwWAQ//3f/401a9bgiSeeSOg+v/zlL/Hb3/4WzzzzDBobG3Hrrbfi7LPPxpEjR8gYWIJkISJCIKSB22+/HQASzlRiWRZbtmzBLbfcggsuuAAA8Mc//hF6vR6vv/46LrnkknQtdVpM1sCzsLAQWq02S6siZBLiziIQJEB3dzcsFktEfKGoqAirV6+WdHyBNPAkEBEhECQAV0CZ7QFhbrcb+/bt47Pauru7sW/fPvT19QEAbrrpJlx22WX87a+66ip0dXXhpz/9KY4dO4aHH34YL730En784x9nbM2E7EJEhEBIkHQXSkqBTz75BEuXLsXSpUsBjLdrX7p0KTZu3AgAGBwc5AUFABobG/HGG2/grbfewuLFi3H//ffjD3/4A0nvnUWQmAiBkCCJFkqKgSugtFqtETUtVqsVS5YsEfWYYtiwYQPi9WSNFePZsGED9u7dm8ZVEaQMERECIUESLZQUQ2NjIwwGA7Zt28aLxtjYGD766CP84Ac/SMsxCYRUQNxZBEIa6Ovr42MJNE3zcQa3283fpqWlBa+99hoAgKIoXHfddbjrrrvw17/+FQcPHsRll12G6upqfOUrX8nSsyAQpoZYIgRCGti4cSOeeeYZ/m8uxvCf//wHGzZsAAAcP34cTqeTv81Pf/pTeDwefO9734PD4cCpp56KN998k9SIECQNGUpFIBAIBNEQdxaBQCAQRENEhEAgEAiiISJCIBAIBNEQESEQCASCaIiIEAgEAkE0REQIBAKBIBoiIgQCgUAQDRERAoFAIIiGiAiBQCAQRENEhEAgEAiiISJCIBAIBNEQESEQCASCaIiIEAgEAkE0REQIBAKBIBoiIgQCgUAQDRERAoFAIIiGiAiBQCAQRENEhEAgEAiiISJCIBAIBNEQESEQCASCaIiIEAgEAkE0REQIBAKBIBoiIgQCgUAQDRERAoFAIIiGiAiBQCAQRENEhEAgEAiiISJCIBAIBNEQESEQCASCaIiIEAgEAkE0REQIBAKBIBoiIgQCgUAQDRERAoFAIIiGiAiBQCAQRENEhEAgEAii+f+wrfhfmHTrwgAAAABJRU5ErkJggg==\n"
                },
                "metadata": {}
              }
            ]
          }
        },
        "74574f001d4847f98e27a52a1471469e": {
          "model_module": "@jupyter-widgets/base",
          "model_name": "LayoutModel",
          "model_module_version": "1.2.0",
          "state": {
            "_model_module": "@jupyter-widgets/base",
            "_model_module_version": "1.2.0",
            "_model_name": "LayoutModel",
            "_view_count": null,
            "_view_module": "@jupyter-widgets/base",
            "_view_module_version": "1.2.0",
            "_view_name": "LayoutView",
            "align_content": null,
            "align_items": null,
            "align_self": null,
            "border": null,
            "bottom": null,
            "display": null,
            "flex": null,
            "flex_flow": null,
            "grid_area": null,
            "grid_auto_columns": null,
            "grid_auto_flow": null,
            "grid_auto_rows": null,
            "grid_column": null,
            "grid_gap": null,
            "grid_row": null,
            "grid_template_areas": null,
            "grid_template_columns": null,
            "grid_template_rows": null,
            "height": null,
            "justify_content": null,
            "justify_items": null,
            "left": null,
            "margin": null,
            "max_height": null,
            "max_width": null,
            "min_height": null,
            "min_width": null,
            "object_fit": null,
            "object_position": null,
            "order": null,
            "overflow": null,
            "overflow_x": null,
            "overflow_y": null,
            "padding": null,
            "right": null,
            "top": null,
            "visibility": null,
            "width": null
          }
        },
        "7d36bc8766364892b19320fbfbd60a6d": {
          "model_module": "@jupyter-widgets/base",
          "model_name": "LayoutModel",
          "model_module_version": "1.2.0",
          "state": {
            "_model_module": "@jupyter-widgets/base",
            "_model_module_version": "1.2.0",
            "_model_name": "LayoutModel",
            "_view_count": null,
            "_view_module": "@jupyter-widgets/base",
            "_view_module_version": "1.2.0",
            "_view_name": "LayoutView",
            "align_content": null,
            "align_items": null,
            "align_self": null,
            "border": null,
            "bottom": null,
            "display": null,
            "flex": null,
            "flex_flow": null,
            "grid_area": null,
            "grid_auto_columns": null,
            "grid_auto_flow": null,
            "grid_auto_rows": null,
            "grid_column": null,
            "grid_gap": null,
            "grid_row": null,
            "grid_template_areas": null,
            "grid_template_columns": null,
            "grid_template_rows": null,
            "height": null,
            "justify_content": null,
            "justify_items": null,
            "left": null,
            "margin": null,
            "max_height": null,
            "max_width": null,
            "min_height": null,
            "min_width": null,
            "object_fit": null,
            "object_position": null,
            "order": null,
            "overflow": null,
            "overflow_x": null,
            "overflow_y": null,
            "padding": null,
            "right": null,
            "top": null,
            "visibility": null,
            "width": null
          }
        },
        "63ff05d0ef9f424eb63dc48550e47b9d": {
          "model_module": "@jupyter-widgets/controls",
          "model_name": "SliderStyleModel",
          "model_module_version": "1.5.0",
          "state": {
            "_model_module": "@jupyter-widgets/controls",
            "_model_module_version": "1.5.0",
            "_model_name": "SliderStyleModel",
            "_view_count": null,
            "_view_module": "@jupyter-widgets/base",
            "_view_module_version": "1.2.0",
            "_view_name": "StyleView",
            "description_width": "",
            "handle_color": null
          }
        },
        "0f66b962903c4c54a353d925d2073f13": {
          "model_module": "@jupyter-widgets/base",
          "model_name": "LayoutModel",
          "model_module_version": "1.2.0",
          "state": {
            "_model_module": "@jupyter-widgets/base",
            "_model_module_version": "1.2.0",
            "_model_name": "LayoutModel",
            "_view_count": null,
            "_view_module": "@jupyter-widgets/base",
            "_view_module_version": "1.2.0",
            "_view_name": "LayoutView",
            "align_content": null,
            "align_items": null,
            "align_self": null,
            "border": null,
            "bottom": null,
            "display": null,
            "flex": null,
            "flex_flow": null,
            "grid_area": null,
            "grid_auto_columns": null,
            "grid_auto_flow": null,
            "grid_auto_rows": null,
            "grid_column": null,
            "grid_gap": null,
            "grid_row": null,
            "grid_template_areas": null,
            "grid_template_columns": null,
            "grid_template_rows": null,
            "height": null,
            "justify_content": null,
            "justify_items": null,
            "left": null,
            "margin": null,
            "max_height": null,
            "max_width": null,
            "min_height": null,
            "min_width": null,
            "object_fit": null,
            "object_position": null,
            "order": null,
            "overflow": null,
            "overflow_x": null,
            "overflow_y": null,
            "padding": null,
            "right": null,
            "top": null,
            "visibility": null,
            "width": null
          }
        },
        "c8b338a28e6a4cc3aa3dc68f855552f0": {
          "model_module": "@jupyter-widgets/controls",
          "model_name": "SliderStyleModel",
          "model_module_version": "1.5.0",
          "state": {
            "_model_module": "@jupyter-widgets/controls",
            "_model_module_version": "1.5.0",
            "_model_name": "SliderStyleModel",
            "_view_count": null,
            "_view_module": "@jupyter-widgets/base",
            "_view_module_version": "1.2.0",
            "_view_name": "StyleView",
            "description_width": "",
            "handle_color": null
          }
        },
        "efd0580f41584f6b9b5908589fb4136c": {
          "model_module": "@jupyter-widgets/base",
          "model_name": "LayoutModel",
          "model_module_version": "1.2.0",
          "state": {
            "_model_module": "@jupyter-widgets/base",
            "_model_module_version": "1.2.0",
            "_model_name": "LayoutModel",
            "_view_count": null,
            "_view_module": "@jupyter-widgets/base",
            "_view_module_version": "1.2.0",
            "_view_name": "LayoutView",
            "align_content": null,
            "align_items": null,
            "align_self": null,
            "border": null,
            "bottom": null,
            "display": null,
            "flex": null,
            "flex_flow": null,
            "grid_area": null,
            "grid_auto_columns": null,
            "grid_auto_flow": null,
            "grid_auto_rows": null,
            "grid_column": null,
            "grid_gap": null,
            "grid_row": null,
            "grid_template_areas": null,
            "grid_template_columns": null,
            "grid_template_rows": null,
            "height": null,
            "justify_content": null,
            "justify_items": null,
            "left": null,
            "margin": null,
            "max_height": null,
            "max_width": null,
            "min_height": null,
            "min_width": null,
            "object_fit": null,
            "object_position": null,
            "order": null,
            "overflow": null,
            "overflow_x": null,
            "overflow_y": null,
            "padding": null,
            "right": null,
            "top": null,
            "visibility": null,
            "width": null
          }
        }
      }
    }
  },
  "nbformat": 4,
  "nbformat_minor": 0
}